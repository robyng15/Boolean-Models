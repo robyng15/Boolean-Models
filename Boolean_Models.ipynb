{
  "nbformat": 4,
  "nbformat_minor": 0,
  "metadata": {
    "colab": {
      "name": "Boolean Models.ipynb",
      "version": "0.3.2",
      "provenance": [],
      "collapsed_sections": [],
      "include_colab_link": true
    },
    "kernelspec": {
      "name": "python3",
      "display_name": "Python 3"
    }
  },
  "cells": [
    {
      "cell_type": "markdown",
      "metadata": {
        "id": "view-in-github",
        "colab_type": "text"
      },
      "source": [
        "<a href=\"https://colab.research.google.com/github/robyng15/Boolean-Models/blob/master/Boolean_Models.ipynb\" target=\"_parent\"><img src=\"https://colab.research.google.com/assets/colab-badge.svg\" alt=\"Open In Colab\"/></a>"
      ]
    },
    {
      "cell_type": "code",
      "metadata": {
        "id": "zRnnbQdrcapI",
        "colab_type": "code",
        "outputId": "0ce295f7-5436-4369-c465-416f8390ef2c",
        "colab": {
          "base_uri": "https://localhost:8080/",
          "height": 319
        }
      },
      "source": [
        "import matplotlib.pyplot as plt\n",
        "import networkx as nx\n",
        "\n",
        "# Create list to specify 'edges'\n",
        "edges = [('a','b'),\n",
        "         ('b','c'),\n",
        "         ('c','a')]\n",
        "\n",
        "# Variable to hold network\n",
        "G = nx.DiGraph(edges)\n",
        "\n",
        "# Visualize network\n",
        "nx.draw_circular(G,with_labels=True)\n",
        "plt.savefig('example_graph_drawing.png')"
      ],
      "execution_count": 2,
      "outputs": [
        {
          "output_type": "display_data",
          "data": {
            "image/png": "[encoded data removed]",
            "text/plain": [
              "<Figure size 432x288 with 1 Axes>"
            ]
          },
          "metadata": {
            "tags": []
          }
        }
      ]
    },
    {
      "cell_type": "code",
      "metadata": {
        "id": "rvZ3RQQidhyO",
        "colab_type": "code",
        "outputId": "4c82b7a4-2a24-4f81-e09d-ae80d9478cc8",
        "colab": {
          "base_uri": "https://localhost:8080/",
          "height": 374
        }
      },
      "source": [
        "edges = [('0000','1000'),\n",
        "         ('0000', '0000'),\n",
        "         ('1000', '1000'),\n",
        "         ('1000', '1100'),\n",
        "         ('1100', '1100'),\n",
        "         ('1100', '1110'),\n",
        "         ('1110', '1111'),\n",
        "         ('1111', '0111'),\n",
        "         ('0111', '0011'),\n",
        "         ('0011', '0001'),\n",
        "         ('0010', '1010'),\n",
        "         ('0010', '0000'),\n",
        "         ('0010', '0011'),\n",
        "         ('1010', '1110'),\n",
        "         ('1010', '1011'),\n",
        "         ('1011', '0011'),\n",
        "         ('0110', '1110'),\n",
        "         ('0100', '1100'),\n",
        "         ('0100', '0110'),\n",
        "         ('1101', '0101'),\n",
        "         ('0101', '0111'),\n",
        "         ('1001', '0001'),\n",
        "         ('1001', '1101'),\n",
        "         ('1001', '1000')]\n",
        "\n",
        "G = nx.DiGraph(edges)\n",
        "nx.draw_planar(G,with_labels=True)\n",
        "plt.savefig('fifth_problem_graph_drawing.png')\n",
        "        "
      ],
      "execution_count": 3,
      "outputs": [
        {
          "output_type": "stream",
          "text": [
            "/usr/local/lib/python3.6/dist-packages/networkx/drawing/layout.py:923: FutureWarning: arrays to stack must be passed as a \"sequence\" type such as list or tuple. Support for non-sequence iterables such as generators is deprecated as of NumPy 1.16 and will raise an error in the future.\n",
            "  pos = np.row_stack((pos[x] for x in node_list))\n"
          ],
          "name": "stderr"
        },
        {
          "output_type": "display_data",
          "data": {
            "image/png": "[encoded data removed]",
            "text/plain": [
              "<Figure size 432x288 with 1 Axes>"
            ]
          },
          "metadata": {
            "tags": []
          }
        }
      ]
    },
    {
      "cell_type": "code",
      "metadata": {
        "id": "eRTEZgp2w4OX",
        "colab_type": "code",
        "outputId": "f56268d7-90af-4c84-8bec-a266fbd65545",
        "colab": {
          "base_uri": "https://localhost:8080/",
          "height": 35
        }
      },
      "source": [
        "file = open('figure-1-ii-model.txt')\n",
        "lines = file.readlines()\n",
        "new_list = []\n",
        "rules = []\n",
        "gene_with_rule = list()\n",
        "\n",
        "#print(lines)\n",
        "\n",
        "def create_list_gene_with_rule(locallines):\n",
        "  length = len(locallines)\n",
        "  keywds = ['or','and','not']\n",
        "  gene_with_rule = []\n",
        "  for i in range(length - 1):\n",
        "    #print(lines[i+1])\n",
        "    l = lines[i+1].strip('\\n')\n",
        "    #print(l)\n",
        "    gene_with_rule.append(l.split('\\t'))\n",
        "    #print(gene_with_rule[i])\n",
        "    gene_with_rule[i][1] = gene_with_rule[i][1].replace(')', '')\n",
        "    gene_with_rule[i][1] = gene_with_rule[i][1].replace('(', '')\n",
        "    gene_with_rule[i][1] = gene_with_rule[i][1].replace(' ', '')\n",
        "    gene_with_rule[i][1] = gene_with_rule[i][1].replace('\\n', '')\n",
        "  #if keywds[0] != keywds[1]:\n",
        "    #keywds.append(keywds[i])\n",
        "  allkeywds = list(keywds)\n",
        "  allkeywds.extend([gene_with_rule[k][0] for k in range(length-1)])\n",
        "  #print(allkeywds)\n",
        "  lengthkeywds = len(allkeywds)\n",
        "  for j in range(length -1):\n",
        "    for k in range(lengthkeywds):\n",
        "      if allkeywds[k] in gene_with_rule[j][1][0:len(gene_with_rule[j][1])-1]:\n",
        "        gene_with_rule[j][1] = gene_with_rule[j][1].replace(allkeywds[k], allkeywds[k] + ',')\n",
        "  return gene_with_rule\n",
        "\n",
        "print(create_list_gene_with_rule(lines))\n"
      ],
      "execution_count": 4,
      "outputs": [
        {
          "output_type": "stream",
          "text": [
            "[['a', 'c'], ['b', 'a'], ['c', 'b']]\n"
          ],
          "name": "stdout"
        }
      ]
    },
    {
      "cell_type": "code",
      "metadata": {
        "id": "cvwCauBDypgJ",
        "colab_type": "code",
        "outputId": "e8a8f23b-3e3b-4cbc-d7e1-714002ebe7dc",
        "colab": {
          "base_uri": "https://localhost:8080/",
          "height": 35
        }
      },
      "source": [
        "# Loop to remove unnecessary info and creates a new list = (gene, rule)\n",
        "for line in lines:\n",
        "  line = line.strip()\n",
        "  line = line.split('\\t')\n",
        "  if line[1] != 'Rule':\n",
        "    rules.append(line[1])\n",
        "  #print(line[1].split(' '))\n",
        "  for token in line[1].split(' '):\n",
        "      if token != 'not' and token != '(' and token != ')' and token!= 'or' and token != \"Rule\":\n",
        "        new_list.append((line[0],token))\n",
        "#print(new_list)\n",
        "\n",
        "proteins = [item[0] for item in create_list_gene_with_rule(lines)]\n",
        "#print(len(create_list_gene_with_rule(lines)[1]))\n",
        "#if len(create_list_gene_with_rule(lines)[0]) != len(create_list_gene_with_rule(lines)[1]):\n",
        "  #proteins.append(create_list_gene_with_rule(lines)[1])\n",
        "print(proteins)\n",
        "#print(rules)"
      ],
      "execution_count": 5,
      "outputs": [
        {
          "output_type": "stream",
          "text": [
            "['a', 'b', 'c']\n"
          ],
          "name": "stdout"
        }
      ]
    },
    {
      "cell_type": "code",
      "metadata": {
        "id": "mkFEKpbvy0FY",
        "colab_type": "code",
        "outputId": "0c27ba81-f6d5-45f4-a3fe-bfb57028c10b",
        "colab": {
          "base_uri": "https://localhost:8080/",
          "height": 35
        }
      },
      "source": [
        "# Function to return formula depending on protein_id\n",
        "def get_formula(protein_id, lines):\n",
        "  #for i,rule in enumerate(create_list_gene_with_rule(list(lines))):\n",
        "  for rule in create_list_gene_with_rule(list(lines)):\n",
        "    if protein_id == rule[0]:\n",
        "      #return(rule[1],i)\n",
        "      return(rule[1])\n",
        "print(get_formula('a',list(lines)))\n",
        "#print(create_list_gene_with_rule(list(lines)))"
      ],
      "execution_count": 6,
      "outputs": [
        {
          "output_type": "stream",
          "text": [
            "c\n"
          ],
          "name": "stdout"
        }
      ]
    },
    {
      "cell_type": "code",
      "metadata": {
        "id": "JoI1m0oELFsj",
        "colab_type": "code",
        "outputId": "5bdf247d-c189-4494-e6bd-9c5c2933992b",
        "colab": {
          "base_uri": "https://localhost:8080/",
          "height": 52
        }
      },
      "source": [
        "# Function to determine protein state based on the rule for the system \n",
        "def compute_protein_state(formula, net_state): \n",
        "  # Loop to return value based on formula\n",
        "  #print(formula)\n",
        "  tokens = formula.split(',')\n",
        "  print(tokens)\n",
        "  if 'not' in tokens:\n",
        "    activator_flag = False\n",
        "    #activator_state = 0\n",
        "    inhibitor_state = 0\n",
        "    for j in range(0, len(tokens)):\n",
        "      # all prot before not are activators, after not are inhibitors\n",
        "      #if tokens.index(tokens[j]) < tokens.index('not'):\n",
        "      for k in range(0, len(create_list_gene_with_rule(lines))):\n",
        "        if tokens.index(tokens[j]) < tokens.index('not'):\n",
        "          if tokens[j] == (create_list_gene_with_rule(lines))[k][0]:\n",
        "            activator_state = 0\n",
        "            activator_flag = True\n",
        "            #print(activator_flag)\n",
        "            state = net_state[k]\n",
        "            if state == 1:\n",
        "              activator_state = 1\n",
        "            if state == 0:\n",
        "              activator_state = 0\n",
        "        if j > tokens.index('not'):\n",
        "          #print(tokens.index('not'))\n",
        "          if tokens[j] == (create_list_gene_with_rule(lines))[k][0]:\n",
        "            state = net_state[k]\n",
        "            if state == 1:\n",
        "              inhibitor_state = 0\n",
        "            if state == 0:\n",
        "              inhibitor_state = 1\n",
        "              #print(inhibitor_state)\n",
        "              #print(activator_flag, activator_state, inhibitor_state)\n",
        "              break\n",
        "    if activator_flag == True:\n",
        "      if activator_state == 1 and inhibitor_state == 1: \n",
        "        return 1\n",
        "      else:\n",
        "        return 0\n",
        "    else:   # activator_flag == False\n",
        "      for k in range(0,len(create_list_gene_with_rule(lines))):\n",
        "        if tokens[j] == (create_list_gene_with_rule(lines))[k][0]:\n",
        "            state = net_state[k]\n",
        "            #print(state)\n",
        "            if state == 1:\n",
        "              inhibitor_state = 0\n",
        "              print(activator_flag, inhibitor_state)\n",
        "              print(tokens[j], state)\n",
        "            if state == 0:\n",
        "              inhibitor_state = 1\n",
        "              break\n",
        "      if inhibitor_state == 0:\n",
        "        return 0\n",
        "      else:\n",
        "        return 1\n",
        "     \n",
        "  elif 'or' in tokens:\n",
        "    for j in range(0, len(tokens)):\n",
        "      for k in range(0, len(create_list_gene_with_rule(lines))):\n",
        "        if tokens[j] == (create_list_gene_with_rule(lines))[k][0]:\n",
        "          state = net_state[k]\n",
        "          if state == 1:\n",
        "            return 1\n",
        "    return 0\n",
        "  elif '' in tokens:\n",
        "    for j in range(0, len(tokens)):\n",
        "      for k in range(0, len(create_list_gene_with_rule(lines))):\n",
        "       #print(create_list_gene_with_rule(lines)[k][0])\n",
        "        if tokens[j] == '':\n",
        "          return net_state[k]\n",
        "  else:\n",
        "    for j in range(0, len(tokens)):\n",
        "      for k in range(0, len(create_list_gene_with_rule(lines))):\n",
        "        if tokens[j] == (create_list_gene_with_rule(lines))[k][0]:\n",
        "          state = net_state[k]\n",
        "          if state == 1:\n",
        "            return 1\n",
        "          elif state == 0:\n",
        "            return 0\n",
        "print(compute_protein_state(get_formula('a', lines), [0,0,0]))"
      ],
      "execution_count": 7,
      "outputs": [
        {
          "output_type": "stream",
          "text": [
            "['c']\n",
            "0\n"
          ],
          "name": "stdout"
        }
      ]
    },
    {
      "cell_type": "code",
      "metadata": {
        "id": "0VAUyIoUESJv",
        "colab_type": "code",
        "outputId": "960265ff-c665-416e-bb0f-aaaea5f5d8e9",
        "colab": {
          "base_uri": "https://localhost:8080/",
          "height": 87
        }
      },
      "source": [
        "# Function to determine protein state synchronously\n",
        "def compute_next_protein_state_synchronous(gene_with_rule, net_state, lines):\n",
        "  next_state_list = list(net_state)\n",
        "  #print(len(gene_with_rule))\n",
        "  for i in range(len(gene_with_rule)):\n",
        "    formula = get_formula(gene_with_rule[i][0],lines)\n",
        "    new_state_value = compute_protein_state(formula, net_state)\n",
        "    next_state_list[i] = new_state_value\n",
        "  #print(new_state_value)\n",
        "  return next_state_list\n",
        "print(compute_next_protein_state_synchronous(create_list_gene_with_rule(lines), [1,1,1], lines))"
      ],
      "execution_count": 8,
      "outputs": [
        {
          "output_type": "stream",
          "text": [
            "['c']\n",
            "['a']\n",
            "['b']\n",
            "[1, 1, 1]\n"
          ],
          "name": "stdout"
        }
      ]
    },
    {
      "cell_type": "code",
      "metadata": {
        "id": "l2Lf2WKPzNds",
        "colab_type": "code",
        "outputId": "b7872e64-6122-4ec8-9505-73910d1242cb",
        "colab": {
          "base_uri": "https://localhost:8080/",
          "height": 87
        }
      },
      "source": [
        "# Function to determine the protein state asynchronously\n",
        "def compute_next_protein_state_asynchronous(gene_with_rule, net_state, lines):  \n",
        "  next_state_list = list()\n",
        "  #print(proteins)\n",
        "  #for prot in proteins:\n",
        "  #  next_state_list.append([prot, net_state])\n",
        "  for gwr in gene_with_rule:\n",
        "    next_state_list.append([gwr[0], list(net_state)])\n",
        "  #print(next_state_list)\n",
        "  for i in range(0, len(next_state_list)):\n",
        "    next_state_list[i][1][i] = compute_protein_state(gene_with_rule[i][1], list(net_state))\n",
        "  return next_state_list\n",
        "print(compute_next_protein_state_asynchronous(create_list_gene_with_rule(lines), [1,1,1], lines))"
      ],
      "execution_count": 9,
      "outputs": [
        {
          "output_type": "stream",
          "text": [
            "['c']\n",
            "['a']\n",
            "['b']\n",
            "[['a', [1, 1, 1]], ['b', [1, 1, 1]], ['c', [1, 1, 1]]]\n"
          ],
          "name": "stdout"
        }
      ]
    },
    {
      "cell_type": "code",
      "metadata": {
        "id": "virIna0LDuRI",
        "colab_type": "code",
        "outputId": "0ed74346-5617-404a-82e5-e54bdf5284ac",
        "colab": {
          "base_uri": "https://localhost:8080/",
          "height": 433
        }
      },
      "source": [
        "import itertools\n",
        "import matplotlib.pyplot as plt\n",
        "import networkx as nx\n",
        "\n",
        "def compute_state_space_network_synchronous(gene_with_rule, net_state):\n",
        "  # creates a list of all the possible states depending on amt of proteins\n",
        "  all_states = list(map(list, itertools.product([0, 1], repeat = len(proteins))))\n",
        "  #print(len(all_states))\n",
        "  start_state = all_states[0]\n",
        "  used_states = all_states[0]\n",
        "  edgelist = []\n",
        "  for start_state in all_states:\n",
        "    next_state_space = compute_next_protein_state_synchronous(gene_with_rule, \n",
        "                                                              start_state, \n",
        "                                                                lines)\n",
        "    edgelist.append((start_state, next_state_space))\n",
        "    #print(next_state_space[0][1])\n",
        "    #print(edgelist)\n",
        "\n",
        "  return edgelist\n",
        "\n",
        "\n",
        "#if next_state_space[k][1] not in edgelist:\n",
        "#  edgelist.append((start_state, next_state_space[k][1]))\n",
        "\n",
        "output = compute_state_space_network_synchronous(create_list_gene_with_rule(lines), [1,1,1])\n",
        "#print(output)"
      ],
      "execution_count": 10,
      "outputs": [
        {
          "output_type": "stream",
          "text": [
            "['c']\n",
            "['a']\n",
            "['b']\n",
            "['c']\n",
            "['a']\n",
            "['b']\n",
            "['c']\n",
            "['a']\n",
            "['b']\n",
            "['c']\n",
            "['a']\n",
            "['b']\n",
            "['c']\n",
            "['a']\n",
            "['b']\n",
            "['c']\n",
            "['a']\n",
            "['b']\n",
            "['c']\n",
            "['a']\n",
            "['b']\n",
            "['c']\n",
            "['a']\n",
            "['b']\n"
          ],
          "name": "stdout"
        }
      ]
    },
    {
      "cell_type": "code",
      "metadata": {
        "id": "_scdwnIsABVS",
        "colab_type": "code",
        "outputId": "2665fecc-2660-4e4d-a6b8-943ece10bf90",
        "colab": {
          "base_uri": "https://localhost:8080/",
          "height": 337
        }
      },
      "source": [
        "edgelist = []\n",
        "for seq in output:\n",
        "  sequence = seq\n",
        "  edgelist.append((''.join([str(st) for st in seq[0]]),\n",
        "                   ''.join([str(st) for st in seq[1]])))\n",
        "G = nx.DiGraph(edgelist)\n",
        "print(list(nx.simple_cycles(G)))\n",
        "#print(nx.cycle_basis(G,0))\n",
        "#if the edge of the graph is a self-loop --> steady state\n",
        "nx.draw_spring(G, with_labels=True)\n",
        "  \n",
        "#print(edgelist)\n",
        "plt.savefig('state_space_network_synchronous_model_ii.png')"
      ],
      "execution_count": 11,
      "outputs": [
        {
          "output_type": "stream",
          "text": [
            "[['000'], ['111'], ['110', '011', '101'], ['001', '100', '010']]\n"
          ],
          "name": "stdout"
        },
        {
          "output_type": "display_data",
          "data": {
            "image/png": "[encoded data removed]",
            "text/plain": [
              "<Figure size 432x288 with 1 Axes>"
            ]
          },
          "metadata": {
            "tags": []
          }
        }
      ]
    },
    {
      "cell_type": "code",
      "metadata": {
        "id": "4jHZD9yI0TWE",
        "colab_type": "code",
        "outputId": "fbf1ad83-c38b-423b-ba1d-66d268752589",
        "colab": {
          "base_uri": "https://localhost:8080/",
          "height": 471
        }
      },
      "source": [
        "def compute_state_space_network_asynchronous(gene_with_rule, net_state):\n",
        "  # creates a list of all the possible states depending on amt of proteins\n",
        "  all_states = list(map(list, itertools.product([0, 1], repeat = len(proteins))))\n",
        "  #print(len(all_states))\n",
        "  start_state = all_states[0]\n",
        "  used_states = all_states[0]\n",
        "  edgelist = []\n",
        "  for start_state in all_states:\n",
        "    next_state_space = compute_next_protein_state_asynchronous(gene_with_rule, \n",
        "                                                              start_state, \n",
        "                                                                lines)\n",
        "    #print(next_state_space[0][1])\n",
        "    #print(edgelist)\n",
        "    for k in range(len(next_state_space)):\n",
        "      if next_state_space[k][1] not in edgelist:\n",
        "        edgelist.append((start_state, next_state_space[k][1]))\n",
        "      #if edgelist.count(next_state_space) > 1: \n",
        "  return edgelist\n",
        "\n",
        "output_a = compute_state_space_network_asynchronous(create_list_gene_with_rule(lines), [1,1,1])\n",
        "print(output_a)"
      ],
      "execution_count": 12,
      "outputs": [
        {
          "output_type": "stream",
          "text": [
            "['c']\n",
            "['a']\n",
            "['b']\n",
            "['c']\n",
            "['a']\n",
            "['b']\n",
            "['c']\n",
            "['a']\n",
            "['b']\n",
            "['c']\n",
            "['a']\n",
            "['b']\n",
            "['c']\n",
            "['a']\n",
            "['b']\n",
            "['c']\n",
            "['a']\n",
            "['b']\n",
            "['c']\n",
            "['a']\n",
            "['b']\n",
            "['c']\n",
            "['a']\n",
            "['b']\n",
            "[([0, 0, 0], [0, 0, 0]), ([0, 0, 0], [0, 0, 0]), ([0, 0, 0], [0, 0, 0]), ([0, 0, 1], [1, 0, 1]), ([0, 0, 1], [0, 0, 1]), ([0, 0, 1], [0, 0, 0]), ([0, 1, 0], [0, 1, 0]), ([0, 1, 0], [0, 0, 0]), ([0, 1, 0], [0, 1, 1]), ([0, 1, 1], [1, 1, 1]), ([0, 1, 1], [0, 0, 1]), ([0, 1, 1], [0, 1, 1]), ([1, 0, 0], [0, 0, 0]), ([1, 0, 0], [1, 1, 0]), ([1, 0, 0], [1, 0, 0]), ([1, 0, 1], [1, 0, 1]), ([1, 0, 1], [1, 1, 1]), ([1, 0, 1], [1, 0, 0]), ([1, 1, 0], [0, 1, 0]), ([1, 1, 0], [1, 1, 0]), ([1, 1, 0], [1, 1, 1]), ([1, 1, 1], [1, 1, 1]), ([1, 1, 1], [1, 1, 1]), ([1, 1, 1], [1, 1, 1])]\n"
          ],
          "name": "stdout"
        }
      ]
    },
    {
      "cell_type": "code",
      "metadata": {
        "id": "BUKVIhO55O3R",
        "colab_type": "code",
        "outputId": "1dfa3b6e-2d85-447a-a7bb-ce1d1d55cddc",
        "colab": {
          "base_uri": "https://localhost:8080/",
          "height": 357
        }
      },
      "source": [
        "edgelist_a = []\n",
        "for seq in output_a:\n",
        "  sequence = seq\n",
        "  edgelist_a.extend([(''.join([str(st) for st in sequence[i]]),\n",
        "             ''.join([str(st) for st in sequence[i+1]])) for i in range(len(sequence)-1)])\n",
        "  \n",
        "print(edgelist_a)\n",
        "G = nx.DiGraph(edgelist_a)\n",
        "nodes = G.nodes()\n",
        "#print(nodes)\n",
        "cycle_a = (list(nx.simple_cycles(G)))\n",
        "#print(cycle_a)\n",
        "color_map = []\n",
        "for node in G:\n",
        "  if node in cycle_a[8]:\n",
        "    color_map.append('blue')\n",
        "  else: \n",
        "    color_map.append('grey')\n",
        "    \n",
        "    \n",
        "# self-loop\n",
        "self_loop = list(nx.nodes_with_selfloops(G))\n",
        "self_loop_edges = list(nx.selfloop_edges(G))\n",
        "#print(self_loop_edges)\n",
        "#print(self_loop)\n",
        "\n",
        "nx.draw_circular(G, node_color=color_map, with_labels=True)\n",
        "plt.savefig('state_space_network_asynchronous_model_ii.png')"
      ],
      "execution_count": 13,
      "outputs": [
        {
          "output_type": "stream",
          "text": [
            "[('000', '000'), ('000', '000'), ('000', '000'), ('001', '101'), ('001', '001'), ('001', '000'), ('010', '010'), ('010', '000'), ('010', '011'), ('011', '111'), ('011', '001'), ('011', '011'), ('100', '000'), ('100', '110'), ('100', '100'), ('101', '101'), ('101', '111'), ('101', '100'), ('110', '010'), ('110', '110'), ('110', '111'), ('111', '111'), ('111', '111'), ('111', '111')]\n"
          ],
          "name": "stdout"
        },
        {
          "output_type": "display_data",
          "data": {
            "image/png": "[encoded data removed]",
            "text/plain": [
              "<Figure size 432x288 with 1 Axes>"
            ]
          },
          "metadata": {
            "tags": []
          }
        }
      ]
    },
    {
      "cell_type": "code",
      "metadata": {
        "id": "V1LrWo0a0yZ6",
        "colab_type": "code",
        "outputId": "ebd51ce5-9a12-42b7-8d40-ec30ed748859",
        "colab": {
          "base_uri": "https://localhost:8080/",
          "height": 55
        }
      },
      "source": [
        "def find_limit_cycle(nodes):\n",
        "  limit_cycle = list()\n",
        "  #G = nx.DiGraph(edgelist_a)\n",
        "  cycle_a = list(nx.simple_cycles(G))\n",
        "  return cycle_a\n",
        "\n",
        "print(find_limit_cycle(G))"
      ],
      "execution_count": 14,
      "outputs": [
        {
          "output_type": "stream",
          "text": [
            "[['000'], ['001'], ['101'], ['111'], ['100'], ['010'], ['011'], ['110'], ['110', '010', '011', '001', '101', '100']]\n"
          ],
          "name": "stdout"
        }
      ]
    },
    {
      "cell_type": "code",
      "metadata": {
        "id": "wUqmgopG31L8",
        "colab_type": "code",
        "outputId": "6d70728e-c06d-4011-85de-d5ce9c4676d4",
        "colab": {
          "base_uri": "https://localhost:8080/",
          "height": 35
        }
      },
      "source": [
        "def find_longer_list(nodes):\n",
        "  limit_cycle = find_limit_cycle(nodes)\n",
        "  long_limit_cycle = list()\n",
        "  for i in limit_cycle:\n",
        "    if len(i) != 1:\n",
        "      long_limit_cycle.append(i)\n",
        "      return long_limit_cycle\n",
        "\n",
        "print(find_longer_list(G))"
      ],
      "execution_count": 15,
      "outputs": [
        {
          "output_type": "stream",
          "text": [
            "[['110', '010', '011', '001', '101', '100']]\n"
          ],
          "name": "stdout"
        }
      ]
    },
    {
      "cell_type": "code",
      "metadata": {
        "id": "jvoXjFQI08vK",
        "colab_type": "code",
        "outputId": "647d4611-6291-4c95-82aa-646bca29bcdc",
        "colab": {
          "base_uri": "https://localhost:8080/",
          "height": 35
        }
      },
      "source": [
        "def find_self_cycle(nodes):\n",
        "  self_cycle = list()\n",
        "  G = nx.DiGraph(edgelist_a)\n",
        "  self_loop_edges = list(nx.selfloop_edges(G))\n",
        "  state = [node[0] for node in self_loop_edges]\n",
        "  return state\n",
        "\n",
        "print(find_self_cycle(edgelist_a))"
      ],
      "execution_count": 16,
      "outputs": [
        {
          "output_type": "stream",
          "text": [
            "['000', '001', '101', '010', '011', '111', '100', '110']\n"
          ],
          "name": "stdout"
        }
      ]
    },
    {
      "cell_type": "code",
      "metadata": {
        "id": "B5RcyzGY5RrA",
        "colab_type": "code",
        "outputId": "41eb1293-4724-4ec3-e97f-de8453f2763d",
        "colab": {
          "base_uri": "https://localhost:8080/",
          "height": 52
        }
      },
      "source": [
        "# Creates a list of all nodes that are not steady states and removes duplicates\n",
        "def find_not_steady_states(nodes):\n",
        "  not_steady_state = list()\n",
        "  self_cycle = find_self_cycle(nodes)\n",
        "  long_limit_cycle = find_longer_list(nodes)\n",
        "  #print(len(edgelist_a))\n",
        "  #print(len(self_cycle))\n",
        "  for i in range(len(edgelist_a)):\n",
        "    for j in range(len(self_cycle)):\n",
        "      if self_cycle[j] == edgelist_a[i][0] and self_cycle[j] != edgelist_a[i][1]:\n",
        "        if self_cycle[j] not in not_steady_state:\n",
        "          not_steady_state.append(self_cycle[j])\n",
        "  return not_steady_state\n",
        "print(find_not_steady_states(G))\n",
        "\n",
        "# Remove the states that are not steady states from a list that contains all the possible nodes\n",
        "def find_steady_states(nodes):\n",
        "  steady_states = list()\n",
        "  self_cycle = find_self_cycle(nodes)\n",
        "  not_steady_state = find_not_steady_states(nodes)\n",
        "  steady_states = [x for x in self_cycle if x not in not_steady_state]\n",
        "  return steady_states\n",
        "print(find_steady_states(G))  "
      ],
      "execution_count": 17,
      "outputs": [
        {
          "output_type": "stream",
          "text": [
            "['001', '010', '011', '100', '101', '110']\n",
            "['000', '111']\n"
          ],
          "name": "stdout"
        }
      ]
    },
    {
      "cell_type": "code",
      "metadata": {
        "id": "nFpA95m0A9GJ",
        "colab_type": "code",
        "colab": {}
      },
      "source": [
        "# Graphspace Asynchronous\n",
        "def graphspace_asynchronous(edgelist_a, G):\n",
        "  limit_cycle = find_longer_list(nodes)\n",
        "  steady_states = find_steady_states(nodes)\n",
        "  random_walk = individual_random_walk(nodes)\n",
        "  \n",
        "  file_name = open('figure_ii_asynchronous.txt', 'w+')\n",
        "  file_name.write('head\\ttail\\thead_label\\ttail_label\\tedge_popup\\tstyle\\n')\n",
        "\n",
        "  head = \"{\\\"head\\\": {'spec': {'shape': '%s','color': '%s','border': \\\"black\\\"}, \\\"id\\\": '%s'},\"\n",
        "  tail = \"\\\"tail\\\": {'spec': {'shape': '%s','color': '%s','border': \\\"black\\\"}, \\\"id\\\": '%s'},\"\n",
        "  edge = \"\\\"edge\\\": {'spec': {\\\"target-arrow-shape\\\": 'triangle', \\\"color\\\": '%s', \\\"width\\\": '%s'}, \\\"id\\\": '%s-%s'}}\\n\"\n",
        "\n",
        "  style = head + tail + edge \n",
        "\n",
        "  for cycle in range(len(limit_cycle)):\n",
        "    if cycle in limit_cycle:\n",
        "      edge_color == 'blue'\n",
        "    else:\n",
        "      edge_color == 'grey'\n",
        "    \n",
        "  for state in range(len(steady_states)):\n",
        "    if state in steady_state:\n",
        "      shape1 == 'rectangle'\n",
        "      color1 == 'red'\n",
        "      edge_color == 'grey'\n",
        "    else:\n",
        "      shape1 == 'ellipse'\n",
        "      color1 == 'grey'\n",
        "      \n",
        "  for edge in range(len(random_walk)):\n",
        "    if edge in random_walk:\n",
        "      edge_width += 1 \n",
        "        \n",
        "        \n",
        "  for i in range(0, len(edgelist_a)):\n",
        "    file_name.write(\"%s\\t%s\\t%s\\t%s\\t-\\t\" % (edgelist_a[i][0], edgelist_a[i][1], edgelist_a[i][0], edgelist_a[i][1]))\n",
        "    file_name.write(style % (shape1, color1, edgelist_a[i][0], shape2, color2, edgelist_a[i][1], \n",
        "                             edge_color, edge_width, edgelist_a[i][0], edgelist_a[i][1]))\n",
        "    \n",
        "  file_name.close()   \n",
        "#print(graphspace_asynchronous(edgelist_a, G))"
      ],
      "execution_count": 0,
      "outputs": []
    },
    {
      "cell_type": "code",
      "metadata": {
        "id": "b5TtYeJ7Y-mS",
        "colab_type": "code",
        "outputId": "c2bb5d2b-5f71-48b3-f89d-19d5bd44c6a3",
        "colab": {
          "base_uri": "https://localhost:8080/",
          "height": 35
        }
      },
      "source": [
        "file_name = open('figure_ii_asynchronous.txt', 'r+')\n",
        "print(file_name.read())"
      ],
      "execution_count": 103,
      "outputs": [
        {
          "output_type": "stream",
          "text": [
            "\n"
          ],
          "name": "stdout"
        }
      ]
    },
    {
      "cell_type": "code",
      "metadata": {
        "id": "Q-kp3Z1XDfCK",
        "colab_type": "code",
        "colab": {}
      },
      "source": [
        "# Graphspace Synchronous\n",
        "file_name = open('figure_ii_synchronous.txt', 'w+')\n",
        "file_name.write('head\\ttail\\thead_label\\ttail_label\\tedge_popup\\tstyle\\n')\n",
        "\n",
        "\n",
        "head1 = \"{\\\"head\\\": {'spec': {'shape': \\\"ellipse\\\",'color': \\\"grey\\\",'border': \\\"black\\\"}, \\\"id\\\": '%s'},\"\n",
        "tail1 = \"\\\"tail\\\": {'spec': {'shape': \\\"ellipse\\\",'color': \\\"grey\\\",'border': \\\"black\\\"}, \\\"id\\\": '%s'},\"\n",
        "edge1 = \"\\\"edge\\\": {'spec': {\\\"target-arrow-shape\\\": 'triangle', \\\"color\\\": 'blue'}, \\\"id\\\": '%s-%s'}}\\n\"\n",
        "\n",
        "head2 = \"{\\\"head\\\": {'spec': {'shape': \\\"rectangle\\\",'color': \\\"red\\\",'border': \\\"black\\\"}, \\\"id\\\": '%s'},\"\n",
        "tail2 = \"\\\"tail\\\": {'spec': {'shape': \\\"rectangle\\\",'color': \\\"red\\\",'border': \\\"black\\\"}, \\\"id\\\": '%s'},\"\n",
        "edge2 = \"\\\"edge\\\": {'spec': {\\\"target-arrow-shape\\\": 'triangle'}, \\\"id\\\": '%s-%s'}}\\n\"\n",
        "\n",
        "head3 = \"{\\\"head\\\": {'spec': {'shape': \\\"rectangle\\\",'color': \\\"blue\\\",'border': \\\"black\\\"}, \\\"id\\\": '%s'},\"\n",
        "tail3 = \"\\\"tail\\\": {'spec': {'shape': \\\"rectangle\\\",'color': \\\"blue\\\",'border': \\\"black\\\"}, \\\"id\\\": '%s'},\"\n",
        "edge3 = \"\\\"edge\\\": {'spec': {\\\"target-arrow-shape\\\": 'triangle', \\\"line-color\\\": 'blue'}, \\\"id\\\": '%s-%s'}}\\n\"\n",
        "\n",
        "style1 = head1 + tail1 + edge1\n",
        "style2 = head2 + tail2 + edge2\n",
        "style3 = head3 + tail3 + edge3\n",
        "\n",
        "#print(edgelist)\n",
        "\n",
        "for i in range(0, len(edgelist)):\n",
        "  file_name.write(\"%s\\t%s\\t%s\\t%s\\t-\\t\" % (edgelist[i][0], edgelist[i][1], edgelist[i][0], edgelist[i][1]))\n",
        "  file_name.write(style1 % (edgelist[i][0], edgelist[i][1], edgelist[i][0], edgelist[i][1]))\n",
        " \n",
        "  \n",
        "file_name.close()\n",
        "\n",
        "file_name = open('figure_ii_synchronous.txt', 'r+')\n",
        "#print(file_name.read())"
      ],
      "execution_count": 0,
      "outputs": []
    },
    {
      "cell_type": "code",
      "metadata": {
        "id": "PNgAGZ9Czdqo",
        "colab_type": "code",
        "outputId": "e5f3bf75-c87f-47c7-ef81-f6837e90b6f6",
        "colab": {
          "base_uri": "https://localhost:8080/",
          "height": 52
        }
      },
      "source": [
        "import random\n",
        "\n",
        "def individual_random_walk(nodes):\n",
        "  path = []\n",
        "  random_path = []\n",
        "  all_possible_nodes = find_self_cycle(nodes)\n",
        "  steady_states = list(find_steady_states(nodes))\n",
        "  path = random.choice(all_possible_nodes)\n",
        "  random_path.append(path)\n",
        "  print(path)\n",
        "  G = nx.DiGraph(edgelist_a)\n",
        "  count = 0 \n",
        "  while path not in steady_states and count < 100:  \n",
        "    #print(path)\n",
        "    path_index = []\n",
        "    for i in range(len(edgelist_a)):\n",
        "      if path == edgelist_a[i][0]:\n",
        "        path_index.append(edgelist_a[i][1])\n",
        "    #print(path_index)\n",
        "    next_edge = random.choice(path_index)\n",
        "    random_path.append(next_edge)\n",
        "    path = str(next_edge)\n",
        "    count += 1\n",
        "  return random_path\n",
        "  \n",
        "print(individual_random_walk(G))"
      ],
      "execution_count": 53,
      "outputs": [
        {
          "output_type": "stream",
          "text": [
            "001\n",
            "['001', '001', '001', '000']\n"
          ],
          "name": "stdout"
        }
      ]
    },
    {
      "cell_type": "code",
      "metadata": {
        "id": "g7vAUCZzQCo0",
        "colab_type": "code",
        "outputId": "c1ebc89f-82ec-4329-a475-3206f5d3d311",
        "colab": {
          "base_uri": "https://localhost:8080/",
          "height": 346
        }
      },
      "source": [
        "def random_walk(G):\n",
        "  random_path = []\n",
        "  all_nodes = G.nodes(edgelist_a)\n",
        "  steady_states = list(find_steady_states(nodes))\n",
        "  start = random.choice(all_nodes)\n",
        "  random_path.append(start)\n",
        "  #print(random_path)\n",
        "  node = start\n",
        "  while node not in steady_states:\n",
        "    neighbors = G.neighbors(node)\n",
        "    next_state = random.choice(neighbors)\n",
        "    random_path.append(next_state)\n",
        "    node = next_state\n",
        "  return random_path\n",
        "  \n",
        "print(random_walk(G))"
      ],
      "execution_count": 27,
      "outputs": [
        {
          "output_type": "error",
          "ename": "KeyError",
          "evalue": "ignored",
          "traceback": [
            "\u001b[0;31m---------------------------------------------------------------------------\u001b[0m",
            "\u001b[0;31mKeyError\u001b[0m                                  Traceback (most recent call last)",
            "\u001b[0;32m<ipython-input-27-bfe8081fdbeb>\u001b[0m in \u001b[0;36m<module>\u001b[0;34m()\u001b[0m\n\u001b[1;32m     14\u001b[0m   \u001b[0;32mreturn\u001b[0m \u001b[0mrandom_path\u001b[0m\u001b[0;34m\u001b[0m\u001b[0;34m\u001b[0m\u001b[0m\n\u001b[1;32m     15\u001b[0m \u001b[0;34m\u001b[0m\u001b[0m\n\u001b[0;32m---> 16\u001b[0;31m \u001b[0mprint\u001b[0m\u001b[0;34m(\u001b[0m\u001b[0mrandom_walk\u001b[0m\u001b[0;34m(\u001b[0m\u001b[0mG\u001b[0m\u001b[0;34m)\u001b[0m\u001b[0;34m)\u001b[0m\u001b[0;34m\u001b[0m\u001b[0;34m\u001b[0m\u001b[0m\n\u001b[0m",
            "\u001b[0;32m<ipython-input-27-bfe8081fdbeb>\u001b[0m in \u001b[0;36mrandom_walk\u001b[0;34m(G)\u001b[0m\n\u001b[1;32m      3\u001b[0m   \u001b[0mall_nodes\u001b[0m \u001b[0;34m=\u001b[0m \u001b[0mG\u001b[0m\u001b[0;34m.\u001b[0m\u001b[0mnodes\u001b[0m\u001b[0;34m(\u001b[0m\u001b[0medgelist_a\u001b[0m\u001b[0;34m)\u001b[0m\u001b[0;34m\u001b[0m\u001b[0;34m\u001b[0m\u001b[0m\n\u001b[1;32m      4\u001b[0m   \u001b[0msteady_states\u001b[0m \u001b[0;34m=\u001b[0m \u001b[0mlist\u001b[0m\u001b[0;34m(\u001b[0m\u001b[0mfind_steady_states\u001b[0m\u001b[0;34m(\u001b[0m\u001b[0mnodes\u001b[0m\u001b[0;34m)\u001b[0m\u001b[0;34m)\u001b[0m\u001b[0;34m\u001b[0m\u001b[0;34m\u001b[0m\u001b[0m\n\u001b[0;32m----> 5\u001b[0;31m   \u001b[0mstart\u001b[0m \u001b[0;34m=\u001b[0m \u001b[0mrandom\u001b[0m\u001b[0;34m.\u001b[0m\u001b[0mchoice\u001b[0m\u001b[0;34m(\u001b[0m\u001b[0mall_nodes\u001b[0m\u001b[0;34m)\u001b[0m\u001b[0;34m\u001b[0m\u001b[0;34m\u001b[0m\u001b[0m\n\u001b[0m\u001b[1;32m      6\u001b[0m   \u001b[0mrandom_path\u001b[0m\u001b[0;34m.\u001b[0m\u001b[0mappend\u001b[0m\u001b[0;34m(\u001b[0m\u001b[0mstart\u001b[0m\u001b[0;34m)\u001b[0m\u001b[0;34m\u001b[0m\u001b[0;34m\u001b[0m\u001b[0m\n\u001b[1;32m      7\u001b[0m   \u001b[0;31m#print(random_path)\u001b[0m\u001b[0;34m\u001b[0m\u001b[0;34m\u001b[0m\u001b[0;34m\u001b[0m\u001b[0m\n",
            "\u001b[0;32m/usr/lib/python3.6/random.py\u001b[0m in \u001b[0;36mchoice\u001b[0;34m(self, seq)\u001b[0m\n\u001b[1;32m    259\u001b[0m         \u001b[0;32mexcept\u001b[0m \u001b[0mValueError\u001b[0m\u001b[0;34m:\u001b[0m\u001b[0;34m\u001b[0m\u001b[0;34m\u001b[0m\u001b[0m\n\u001b[1;32m    260\u001b[0m             \u001b[0;32mraise\u001b[0m \u001b[0mIndexError\u001b[0m\u001b[0;34m(\u001b[0m\u001b[0;34m'Cannot choose from an empty sequence'\u001b[0m\u001b[0;34m)\u001b[0m \u001b[0;32mfrom\u001b[0m \u001b[0;32mNone\u001b[0m\u001b[0;34m\u001b[0m\u001b[0;34m\u001b[0m\u001b[0m\n\u001b[0;32m--> 261\u001b[0;31m         \u001b[0;32mreturn\u001b[0m \u001b[0mseq\u001b[0m\u001b[0;34m[\u001b[0m\u001b[0mi\u001b[0m\u001b[0;34m]\u001b[0m\u001b[0;34m\u001b[0m\u001b[0;34m\u001b[0m\u001b[0m\n\u001b[0m\u001b[1;32m    262\u001b[0m \u001b[0;34m\u001b[0m\u001b[0m\n\u001b[1;32m    263\u001b[0m     \u001b[0;32mdef\u001b[0m \u001b[0mshuffle\u001b[0m\u001b[0;34m(\u001b[0m\u001b[0mself\u001b[0m\u001b[0;34m,\u001b[0m \u001b[0mx\u001b[0m\u001b[0;34m,\u001b[0m \u001b[0mrandom\u001b[0m\u001b[0;34m=\u001b[0m\u001b[0;32mNone\u001b[0m\u001b[0;34m)\u001b[0m\u001b[0;34m:\u001b[0m\u001b[0;34m\u001b[0m\u001b[0;34m\u001b[0m\u001b[0m\n",
            "\u001b[0;32m/usr/local/lib/python3.6/dist-packages/networkx/classes/reportviews.py\u001b[0m in \u001b[0;36m__getitem__\u001b[0;34m(self, n)\u001b[0m\n\u001b[1;32m    275\u001b[0m \u001b[0;34m\u001b[0m\u001b[0m\n\u001b[1;32m    276\u001b[0m     \u001b[0;32mdef\u001b[0m \u001b[0m__getitem__\u001b[0m\u001b[0;34m(\u001b[0m\u001b[0mself\u001b[0m\u001b[0;34m,\u001b[0m \u001b[0mn\u001b[0m\u001b[0;34m)\u001b[0m\u001b[0;34m:\u001b[0m\u001b[0;34m\u001b[0m\u001b[0;34m\u001b[0m\u001b[0m\n\u001b[0;32m--> 277\u001b[0;31m         \u001b[0mddict\u001b[0m \u001b[0;34m=\u001b[0m \u001b[0mself\u001b[0m\u001b[0;34m.\u001b[0m\u001b[0m_nodes\u001b[0m\u001b[0;34m[\u001b[0m\u001b[0mn\u001b[0m\u001b[0;34m]\u001b[0m\u001b[0;34m\u001b[0m\u001b[0;34m\u001b[0m\u001b[0m\n\u001b[0m\u001b[1;32m    278\u001b[0m         \u001b[0mdata\u001b[0m \u001b[0;34m=\u001b[0m \u001b[0mself\u001b[0m\u001b[0;34m.\u001b[0m\u001b[0m_data\u001b[0m\u001b[0;34m\u001b[0m\u001b[0;34m\u001b[0m\u001b[0m\n\u001b[1;32m    279\u001b[0m         \u001b[0;32mif\u001b[0m \u001b[0mdata\u001b[0m \u001b[0;32mis\u001b[0m \u001b[0;32mFalse\u001b[0m \u001b[0;32mor\u001b[0m \u001b[0mdata\u001b[0m \u001b[0;32mis\u001b[0m \u001b[0;32mTrue\u001b[0m\u001b[0;34m:\u001b[0m\u001b[0;34m\u001b[0m\u001b[0;34m\u001b[0m\u001b[0m\n",
            "\u001b[0;31mKeyError\u001b[0m: 1"
          ]
        }
      ]
    },
    {
      "cell_type": "code",
      "metadata": {
        "id": "eqGmcux3Qe-p",
        "colab_type": "code",
        "colab": {
          "base_uri": "https://localhost:8080/",
          "height": 357
        },
        "outputId": "016d6fb3-257c-49e7-ff5e-02f250a27bc0"
      },
      "source": [
        "def continue_random_walk(nodes):\n",
        "  random_walk = individual_random_walk(nodes)\n",
        "  #print(random_walk)\n",
        "  steps = 100\n",
        "  num_walks = 100\n",
        "  print(random_walk(steps))\n",
        "  walks = [random_walk(steps) for i in range(0, num_walks)]\n",
        "  average_walk = numpy.sum(walks, 0)*1.0/num_walks\n",
        "  return walks, average_walk\n",
        "\n",
        "print(continue_random_walk(G))\n",
        "  "
      ],
      "execution_count": 62,
      "outputs": [
        {
          "output_type": "stream",
          "text": [
            "001\n"
          ],
          "name": "stdout"
        },
        {
          "output_type": "error",
          "ename": "TypeError",
          "evalue": "ignored",
          "traceback": [
            "\u001b[0;31m---------------------------------------------------------------------------\u001b[0m",
            "\u001b[0;31mTypeError\u001b[0m                                 Traceback (most recent call last)",
            "\u001b[0;32m<ipython-input-62-1f7cf2c74ee8>\u001b[0m in \u001b[0;36m<module>\u001b[0;34m()\u001b[0m\n\u001b[1;32m      9\u001b[0m   \u001b[0;32mreturn\u001b[0m \u001b[0mwalks\u001b[0m\u001b[0;34m,\u001b[0m \u001b[0maverage_walk\u001b[0m\u001b[0;34m\u001b[0m\u001b[0;34m\u001b[0m\u001b[0m\n\u001b[1;32m     10\u001b[0m \u001b[0;34m\u001b[0m\u001b[0m\n\u001b[0;32m---> 11\u001b[0;31m \u001b[0mprint\u001b[0m\u001b[0;34m(\u001b[0m\u001b[0mcontinue_random_walk\u001b[0m\u001b[0;34m(\u001b[0m\u001b[0mG\u001b[0m\u001b[0;34m)\u001b[0m\u001b[0;34m)\u001b[0m\u001b[0;34m\u001b[0m\u001b[0;34m\u001b[0m\u001b[0m\n\u001b[0m\u001b[1;32m     12\u001b[0m \u001b[0;34m\u001b[0m\u001b[0m\n",
            "\u001b[0;32m<ipython-input-62-1f7cf2c74ee8>\u001b[0m in \u001b[0;36mcontinue_random_walk\u001b[0;34m(nodes)\u001b[0m\n\u001b[1;32m      4\u001b[0m   \u001b[0msteps\u001b[0m \u001b[0;34m=\u001b[0m \u001b[0;36m100\u001b[0m\u001b[0;34m\u001b[0m\u001b[0;34m\u001b[0m\u001b[0m\n\u001b[1;32m      5\u001b[0m   \u001b[0mnum_walks\u001b[0m \u001b[0;34m=\u001b[0m \u001b[0;36m100\u001b[0m\u001b[0;34m\u001b[0m\u001b[0;34m\u001b[0m\u001b[0m\n\u001b[0;32m----> 6\u001b[0;31m   \u001b[0mprint\u001b[0m\u001b[0;34m(\u001b[0m\u001b[0mrandom_walk\u001b[0m\u001b[0;34m(\u001b[0m\u001b[0msteps\u001b[0m\u001b[0;34m)\u001b[0m\u001b[0;34m)\u001b[0m\u001b[0;34m\u001b[0m\u001b[0;34m\u001b[0m\u001b[0m\n\u001b[0m\u001b[1;32m      7\u001b[0m   \u001b[0mwalks\u001b[0m \u001b[0;34m=\u001b[0m \u001b[0;34m[\u001b[0m\u001b[0mrandom_walk\u001b[0m\u001b[0;34m(\u001b[0m\u001b[0msteps\u001b[0m\u001b[0;34m)\u001b[0m \u001b[0;32mfor\u001b[0m \u001b[0mi\u001b[0m \u001b[0;32min\u001b[0m \u001b[0mrange\u001b[0m\u001b[0;34m(\u001b[0m\u001b[0;36m0\u001b[0m\u001b[0;34m,\u001b[0m \u001b[0mnum_walks\u001b[0m\u001b[0;34m)\u001b[0m\u001b[0;34m]\u001b[0m\u001b[0;34m\u001b[0m\u001b[0;34m\u001b[0m\u001b[0m\n\u001b[1;32m      8\u001b[0m   \u001b[0maverage_walk\u001b[0m \u001b[0;34m=\u001b[0m \u001b[0mnumpy\u001b[0m\u001b[0;34m.\u001b[0m\u001b[0msum\u001b[0m\u001b[0;34m(\u001b[0m\u001b[0mwalks\u001b[0m\u001b[0;34m,\u001b[0m \u001b[0;36m0\u001b[0m\u001b[0;34m)\u001b[0m\u001b[0;34m*\u001b[0m\u001b[0;36m1.0\u001b[0m\u001b[0;34m/\u001b[0m\u001b[0mnum_walks\u001b[0m\u001b[0;34m\u001b[0m\u001b[0;34m\u001b[0m\u001b[0m\n",
            "\u001b[0;31mTypeError\u001b[0m: 'list' object is not callable"
          ]
        }
      ]
    },
    {
      "cell_type": "code",
      "metadata": {
        "id": "Y7PXP0lY4LUM",
        "colab_type": "code",
        "outputId": "e9e9774d-f2d0-43cb-cc4d-d04d5cd0e7ac",
        "colab": {
          "base_uri": "https://localhost:8080/",
          "height": 69
        }
      },
      "source": [
        "def count_random_walk(nodes):\n",
        "  random_walk = individual_random_walk(nodes)\n",
        "  print(random_walk)\n",
        "  edges = G.edges()\n",
        "  nodes = G.nodes(edgelist_a)\n",
        "  pos = nx.spring_layout(G)\n",
        "  width = 0\n",
        "  for i in range(len(edges)):\n",
        "    G.add_edge(edgelist_a[i][0], edgelist_a[i][1])\n",
        "    if random_walk.count(node for node in random_walk) > 1:\n",
        "      width += 1\n",
        "    return width\n",
        "  #nx.draw_networkx_edges(G, pos, edges, width)\n",
        "  \n",
        "print(count_random_walk(G))"
      ],
      "execution_count": 93,
      "outputs": [
        {
          "output_type": "stream",
          "text": [
            "101\n",
            "['101', '111']\n",
            "0\n"
          ],
          "name": "stdout"
        }
      ]
    },
    {
      "cell_type": "code",
      "metadata": {
        "id": "jLfFnnACW-vg",
        "colab_type": "code",
        "outputId": "842a5d08-9d40-4015-c479-2dbdcc9bf202",
        "colab": {
          "base_uri": "https://localhost:8080/",
          "height": 69
        }
      },
      "source": [
        "def node_degrees(nodes):\n",
        "  in_degree = G.in_degree()\n",
        "  out_degree = G.out_degree()\n",
        "  print(in_degree)\n",
        "  print(out_degree)\n",
        "  \n",
        "print(node_degrees(G))\n"
      ],
      "execution_count": 23,
      "outputs": [
        {
          "output_type": "stream",
          "text": [
            "[('000', 4), ('001', 2), ('101', 2), ('010', 2), ('011', 2), ('111', 4), ('100', 2), ('110', 2)]\n",
            "[('000', 1), ('001', 3), ('101', 3), ('010', 3), ('011', 3), ('111', 1), ('100', 3), ('110', 3)]\n",
            "None\n"
          ],
          "name": "stdout"
        }
      ]
    }
  ]
}