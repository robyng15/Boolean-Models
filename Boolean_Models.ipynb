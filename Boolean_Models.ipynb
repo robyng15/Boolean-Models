{
  "nbformat": 4,
  "nbformat_minor": 0,
  "metadata": {
    "colab": {
      "name": "Boolean Models.ipynb",
      "version": "0.3.2",
      "provenance": [],
      "collapsed_sections": [],
      "include_colab_link": true
    },
    "kernelspec": {
      "name": "python3",
      "display_name": "Python 3"
    }
  },
  "cells": [
    {
      "cell_type": "markdown",
      "metadata": {
        "id": "view-in-github",
        "colab_type": "text"
      },
      "source": [
        "<a href=\"https://colab.research.google.com/github/robyng15/Boolean-Models/blob/master/Boolean_Models.ipynb\" target=\"_parent\"><img src=\"https://colab.research.google.com/assets/colab-badge.svg\" alt=\"Open In Colab\"/></a>"
      ]
    },
    {
      "cell_type": "code",
      "metadata": {
        "id": "zRnnbQdrcapI",
        "colab_type": "code",
        "outputId": "82487a91-87a8-43f5-b7c7-76cf4f48cb71",
        "colab": {
          "base_uri": "https://localhost:8080/",
          "height": 319
        }
      },
      "source": [
        "import matplotlib.pyplot as plt\n",
        "import networkx as nx\n",
        "\n",
        "# Create list to specify 'edges'\n",
        "edges = [('a','b'),\n",
        "         ('b','c'),\n",
        "         ('c','a')]\n",
        "\n",
        "# Variable to hold network\n",
        "G = nx.DiGraph(edges)\n",
        "\n",
        "# Visualize network\n",
        "nx.draw_circular(G,with_labels=True)\n",
        "plt.savefig('example_graph_drawing.png')"
      ],
      "execution_count": 0,
      "outputs": [
        {
          "output_type": "display_data",
          "data": {
            "image/png": "[encoded data removed]",
            "text/plain": [
              "<Figure size 432x288 with 1 Axes>"
            ]
          },
          "metadata": {
            "tags": []
          }
        }
      ]
    },
    {
      "cell_type": "code",
      "metadata": {
        "id": "rvZ3RQQidhyO",
        "colab_type": "code",
        "outputId": "5e6ad5bd-d540-494d-ee1c-cd7a9c57a6f2",
        "colab": {
          "base_uri": "https://localhost:8080/",
          "height": 374
        }
      },
      "source": [
        "edges = [('0000','1000'),\n",
        "         ('0000', '0000'),\n",
        "         ('1000', '1000'),\n",
        "         ('1000', '1100'),\n",
        "         ('1100', '1100'),\n",
        "         ('1100', '1110'),\n",
        "         ('1110', '1111'),\n",
        "         ('1111', '0111'),\n",
        "         ('0111', '0011'),\n",
        "         ('0011', '0001'),\n",
        "         ('0010', '1010'),\n",
        "         ('0010', '0000'),\n",
        "         ('0010', '0011'),\n",
        "         ('1010', '1110'),\n",
        "         ('1010', '1011'),\n",
        "         ('1011', '0011'),\n",
        "         ('0110', '1110'),\n",
        "         ('0100', '1100'),\n",
        "         ('0100', '0110'),\n",
        "         ('1101', '0101'),\n",
        "         ('0101', '0111'),\n",
        "         ('1001', '0001'),\n",
        "         ('1001', '1101'),\n",
        "         ('1001', '1000')]\n",
        "\n",
        "G = nx.DiGraph(edges)\n",
        "nx.draw_planar(G,with_labels=True)\n",
        "plt.savefig('fifth_problem_graph_drawing.png')\n",
        "        "
      ],
      "execution_count": 0,
      "outputs": [
        {
          "output_type": "stream",
          "text": [
            "/usr/local/lib/python3.6/dist-packages/networkx/drawing/layout.py:923: FutureWarning: arrays to stack must be passed as a \"sequence\" type such as list or tuple. Support for non-sequence iterables such as generators is deprecated as of NumPy 1.16 and will raise an error in the future.\n",
            "  pos = np.row_stack((pos[x] for x in node_list))\n"
          ],
          "name": "stderr"
        },
        {
          "output_type": "display_data",
          "data": {
            "image/png": "[encoded data removed]",
            "text/plain": [
              "<Figure size 432x288 with 1 Axes>"
            ]
          },
          "metadata": {
            "tags": []
          }
        }
      ]
    },
    {
      "cell_type": "code",
      "metadata": {
        "id": "eRTEZgp2w4OX",
        "colab_type": "code",
        "outputId": "965167ee-f50c-4040-916d-b34b37ba1311",
        "colab": {
          "base_uri": "https://localhost:8080/",
          "height": 35
        }
      },
      "source": [
        "file = open('figure-1-v-model.txt')\n",
        "lines = file.readlines()\n",
        "new_list = []\n",
        "rules = []\n",
        "gene_with_rule = list()\n",
        "\n",
        "#print(lines)\n",
        "\n",
        "def create_list_gene_with_rule(locallines):\n",
        "  length = len(locallines)\n",
        "  keywds = ['or','and','not']\n",
        "  gene_with_rule = []\n",
        "  for i in range(length - 1):\n",
        "    #print(lines[i+1])\n",
        "    l = lines[i+1].strip('\\n')\n",
        "    gene_with_rule.append(l.split('\\t'))\n",
        "    #print(l)\n",
        "#     gene_with_rule.append(l.split('\\t'))\n",
        "#     #print(gene_with_rule[i])\n",
        "#     gene_with_rule[i][1] = gene_with_rule[i][1].replace(')', '')\n",
        "#     gene_with_rule[i][1] = gene_with_rule[i][1].replace('(', '')\n",
        "#     gene_with_rule[i][1] = gene_with_rule[i][1].replace(' ', '')\n",
        "#     gene_with_rule[i][1] = gene_with_rule[i][1].replace('\\n', '')\n",
        "#   allkeywds = list(keywds)\n",
        "#   allkeywds.extend([gene_with_rule[k][0] for k in range(length-1)])\n",
        "#   #print(allkeywds)\n",
        "#   lengthkeywds = len(allkeywds)\n",
        "#   for j in range(length -1):\n",
        "#     for k in range(lengthkeywds):\n",
        "#       if allkeywds[k] in gene_with_rule[j][1][0:len(gene_with_rule[j][1])-1]:\n",
        "#         gene_with_rule[j][1] = gene_with_rule[j][1].replace(allkeywds[k], allkeywds[k] + ',')\n",
        "  return gene_with_rule\n",
        "\n",
        "print(create_list_gene_with_rule(lines))\n"
      ],
      "execution_count": 1,
      "outputs": [
        {
          "output_type": "stream",
          "text": [
            "[['a', 'not ( d )'], ['b', '( a )'], ['c', '( b )'], ['d', '( c or d )']]\n"
          ],
          "name": "stdout"
        }
      ]
    },
    {
      "cell_type": "code",
      "metadata": {
        "id": "cvwCauBDypgJ",
        "colab_type": "code",
        "outputId": "f3f0b115-cb33-40b0-b04a-69d009d0ec1b",
        "colab": {
          "base_uri": "https://localhost:8080/",
          "height": 35
        }
      },
      "source": [
        "# Loop to remove unnecessary info and creates a new list = (gene, rule)\n",
        "for line in lines:\n",
        "  line = line.strip()\n",
        "  line = line.split('\\t')\n",
        "  if line[1] != 'Rule':\n",
        "    rules.append(line[1])\n",
        "  #print(line[1].split(' '))\n",
        "  for token in line[1].split(' '):\n",
        "      if token != 'not' and token != '(' and token != ')' and token!= 'or' and token != \"Rule\":\n",
        "        new_list.append((line[0],token))\n",
        "#print(new_list)\n",
        "\n",
        "proteins = [item[0] for item in create_list_gene_with_rule(lines)]\n",
        "print(proteins)\n",
        "#print(rules)"
      ],
      "execution_count": 2,
      "outputs": [
        {
          "output_type": "stream",
          "text": [
            "['a', 'b', 'c', 'd']\n"
          ],
          "name": "stdout"
        }
      ]
    },
    {
      "cell_type": "code",
      "metadata": {
        "id": "mkFEKpbvy0FY",
        "colab_type": "code",
        "outputId": "91038b63-a6c9-44a1-c084-494a31ecbed8",
        "colab": {
          "base_uri": "https://localhost:8080/",
          "height": 35
        }
      },
      "source": [
        "# Function to return formula depending on protein_id\n",
        "def get_formula(protein_id, lines):\n",
        "  #for i,rule in enumerate(create_list_gene_with_rule(list(lines))):\n",
        "  for rule in create_list_gene_with_rule(list(lines)):\n",
        "    if protein_id == rule[0]:\n",
        "      #return(rule[1],i)\n",
        "      return(rule[1])\n",
        "print(get_formula('a',list(lines)))\n",
        "#print(create_list_gene_with_rule(list(lines)))"
      ],
      "execution_count": 3,
      "outputs": [
        {
          "output_type": "stream",
          "text": [
            "not ( d )\n"
          ],
          "name": "stdout"
        }
      ]
    },
    {
      "cell_type": "code",
      "metadata": {
        "id": "JoI1m0oELFsj",
        "colab_type": "code",
        "outputId": "8c590ddf-0a0d-4c4a-87f1-bdfb5b6dad52",
        "colab": {
          "base_uri": "https://localhost:8080/",
          "height": 35
        }
      },
      "source": [
        "# Function to determine protein state based on the rule for the system \n",
        "def compute_protein_state(formula, net_state, proteins): \n",
        "  boolspace = {}\n",
        "  for p, s in zip(proteins, net_state):\n",
        "    eval_Str = p + ' = ' + str(s)\n",
        "    exec(eval_Str, boolspace)\n",
        "  t = 'out = ' + formula\n",
        "  exec(t, boolspace)\n",
        "  out = int(boolspace['out'])\n",
        "  return out\n",
        "\n",
        "print(compute_protein_state(get_formula('a',list(lines)),[0,0,0,0],proteins))\n",
        "#print(compute_protein_state('(,[0,0,0,0,0,1,0,0,0,0],proteins))\n",
        "#   # Loop to return value based on formula\n",
        "#   #print(formula)\n",
        "#   tokens = formula.split(',')\n",
        "#   print(tokens)\n",
        "#   if 'not' in tokens:\n",
        "#     activator_flag = False\n",
        "#     #activator_state = 0\n",
        "#     inhibitor_state = 0\n",
        "#     for j in range(0, len(tokens)):\n",
        "#       # all prot before not are activators, after not are inhibitors\n",
        "#       #if tokens.index(tokens[j]) < tokens.index('not'):\n",
        "#       for k in range(0, len(create_list_gene_with_rule(lines))):\n",
        "#         if tokens.index(tokens[j]) < tokens.index('not'):\n",
        "#           if tokens[j] == (create_list_gene_with_rule(lines))[k][0]:\n",
        "#             activator_state = 0\n",
        "#             activator_flag = True\n",
        "#             #print(activator_flag)\n",
        "#             state = net_state[k]\n",
        "#             if state == 1:\n",
        "#               activator_state = 1\n",
        "#             if state == 0:\n",
        "#               activator_state = 0\n",
        "#         if j > tokens.index('not'):\n",
        "#           #print(tokens.index('not'))\n",
        "#           if tokens[j] == (create_list_gene_with_rule(lines))[k][0]:\n",
        "#             state = net_state[k]\n",
        "#             if state == 1:\n",
        "#               inhibitor_state = 0\n",
        "#             if state == 0:\n",
        "#               inhibitor_state = 1\n",
        "#               #print(inhibitor_state)\n",
        "#               #print(activator_flag, activator_state, inhibitor_state)\n",
        "#               break\n",
        "#     if activator_flag == True:\n",
        "#       if activator_state == 1 and inhibitor_state == 1: \n",
        "#         return 1\n",
        "#       else:\n",
        "#         return 0\n",
        "#     else:   # activator_flag == False\n",
        "#       for k in range(0,len(create_list_gene_with_rule(lines))):\n",
        "#         if tokens[j] == (create_list_gene_with_rule(lines))[k][0]:\n",
        "#             state = net_state[k]\n",
        "#             #print(state)\n",
        "#             if state == 1:\n",
        "#               inhibitor_state = 0\n",
        "#               #print(activator_flag, inhibitor_state)\n",
        "#               #print(tokens[j], state)\n",
        "#             if state == 0:\n",
        "#               inhibitor_state = 1\n",
        "#               break\n",
        "#       if inhibitor_state == 0:\n",
        "#         return 0\n",
        "#       else:\n",
        "#         return 1\n",
        "     \n",
        "#   elif 'or' in tokens:\n",
        "#     for j in range(0, len(tokens)):\n",
        "#       for k in range(0, len(create_list_gene_with_rule(lines))):\n",
        "#         if tokens[j] == (create_list_gene_with_rule(lines))[k][0]:\n",
        "#           state = net_state[k]\n",
        "#           if state == 1:\n",
        "#             return 1\n",
        "#     return 0\n",
        "#   elif '' in tokens:\n",
        "#     for j in range(0, len(tokens)):\n",
        "#       for k in range(0, len(create_list_gene_with_rule(lines))):\n",
        "#        #print(create_list_gene_with_rule(lines)[k][0])\n",
        "#         if tokens[j] == '':\n",
        "#           return net_state[k]\n",
        "#   else:\n",
        "#     for j in range(0, len(tokens)):\n",
        "#       for k in range(0, len(create_list_gene_with_rule(lines))):\n",
        "#         if tokens[j] == (create_list_gene_with_rule(lines))[k][0]:\n",
        "#           state = net_state[k]\n",
        "#           if state == 1:\n",
        "#             return 1\n",
        "#           elif state == 0:\n",
        "#             return 0\n",
        "# print(compute_protein_state(get_formula('a', lines), [0,0,0]))"
      ],
      "execution_count": 4,
      "outputs": [
        {
          "output_type": "stream",
          "text": [
            "1\n"
          ],
          "name": "stdout"
        }
      ]
    },
    {
      "cell_type": "code",
      "metadata": {
        "id": "0VAUyIoUESJv",
        "colab_type": "code",
        "outputId": "9063e44e-9ec2-4560-e100-59c1ece47937",
        "colab": {
          "base_uri": "https://localhost:8080/",
          "height": 35
        }
      },
      "source": [
        "# Function to determine protein state synchronously\n",
        "def compute_next_protein_state_synchronous(gene_with_rule, net_state, lines):\n",
        "  next_state_list = list(net_state)\n",
        "  #print(len(gene_with_rule))\n",
        "  for i in range(len(gene_with_rule)):\n",
        "    formula = get_formula(gene_with_rule[i][0],lines)\n",
        "    new_state_value = compute_protein_state(formula, net_state, proteins)\n",
        "    next_state_list[i] = new_state_value\n",
        "  #print(new_state_value)\n",
        "  return next_state_list\n",
        "print(compute_next_protein_state_synchronous(create_list_gene_with_rule(lines), [0,0,0,0,0,0,0,0,0,0], lines))"
      ],
      "execution_count": 0,
      "outputs": [
        {
          "output_type": "stream",
          "text": [
            "[0, 1, 1, 0, 0, 1, 0, 1, 1, 1]\n"
          ],
          "name": "stdout"
        }
      ]
    },
    {
      "cell_type": "code",
      "metadata": {
        "id": "l2Lf2WKPzNds",
        "colab_type": "code",
        "outputId": "79f23391-8af4-49f0-baf4-c452f35c442b",
        "colab": {
          "base_uri": "https://localhost:8080/",
          "height": 35
        }
      },
      "source": [
        "# Function to determine the protein state asynchronously\n",
        "def compute_next_protein_state_asynchronous(gene_with_rule, net_state, lines):  \n",
        "  next_state_list = list()\n",
        "  #print(proteins)\n",
        "  #for prot in proteins:\n",
        "  #  next_state_list.append([prot, net_state])\n",
        "  for gwr in gene_with_rule:\n",
        "    next_state_list.append([gwr[0], list(net_state)])\n",
        "  #print(next_state_list)\n",
        "  for i in range(0, len(next_state_list)):\n",
        "    next_state_list[i][1][i] = compute_protein_state(gene_with_rule[i][1], list(net_state), proteins)\n",
        "  return next_state_list\n",
        "print(compute_next_protein_state_asynchronous(create_list_gene_with_rule(lines), [0,0,0,0], lines))"
      ],
      "execution_count": 5,
      "outputs": [
        {
          "output_type": "stream",
          "text": [
            "[['a', [1, 0, 0, 0]], ['b', [0, 0, 0, 0]], ['c', [0, 0, 0, 0]], ['d', [0, 0, 0, 0]]]\n"
          ],
          "name": "stdout"
        }
      ]
    },
    {
      "cell_type": "code",
      "metadata": {
        "id": "virIna0LDuRI",
        "colab_type": "code",
        "outputId": "4ea0dc53-8c45-4d73-98cc-ea8f91ddaae0",
        "colab": {
          "base_uri": "https://localhost:8080/",
          "height": 55
        }
      },
      "source": [
        "import itertools\n",
        "import matplotlib.pyplot as plt\n",
        "import networkx as nx\n",
        "\n",
        "def compute_state_space_network_synchronous(gene_with_rule, net_state):\n",
        "  # creates a list of all the possible states depending on amt of proteins\n",
        "  all_states = list(map(list, itertools.product([0, 1], repeat = len(proteins))))\n",
        "  #print(len(all_states))\n",
        "  start_state = all_states[0]\n",
        "  used_states = all_states[0]\n",
        "  edgelist = []\n",
        "  for start_state in all_states:\n",
        "    next_state_space = compute_next_protein_state_synchronous(gene_with_rule, \n",
        "                                                              start_state, \n",
        "                                                                lines)\n",
        "    edgelist.append((start_state, next_state_space))\n",
        "    #print(next_state_space[0][1])\n",
        "    #print(edgelist)\n",
        "\n",
        "  return edgelist\n",
        "\n",
        "\n",
        "#if next_state_space[k][1] not in edgelist:\n",
        "#  edgelist.append((start_state, next_state_space[k][1]))\n",
        "\n",
        "output = compute_state_space_network_synchronous(create_list_gene_with_rule(lines), [1,0,0])\n",
        "print(output)"
      ],
      "execution_count": 0,
      "outputs": [
        {
          "output_type": "stream",
          "text": [
            "[([0, 0, 0, 0, 0, 0, 0, 0, 0, 0], [0, 1, 1, 0, 0, 1, 0, 1, 1, 1]), ([0, 0, 0, 0, 0, 0, 0, 0, 0, 1], [0, 0, 0, 0, 0, 0, 1, 0, 1, 1]), ([0, 0, 0, 0, 0, 0, 0, 0, 1, 0], [0, 1, 1, 0, 0, 1, 0, 1, 1, 1]), ([0, 0, 0, 0, 0, 0, 0, 0, 1, 1], [0, 0, 0, 0, 0, 0, 1, 0, 1, 1]), ([0, 0, 0, 0, 0, 0, 0, 1, 0, 0], [0, 1, 1, 0, 0, 1, 0, 1, 0, 0]), ([0, 0, 0, 0, 0, 0, 0, 1, 0, 1], [0, 0, 0, 0, 0, 0, 1, 0, 0, 0]), ([0, 0, 0, 0, 0, 0, 0, 1, 1, 0], [0, 1, 1, 0, 0, 1, 0, 1, 0, 0]), ([0, 0, 0, 0, 0, 0, 0, 1, 1, 1], [0, 0, 0, 0, 0, 0, 1, 0, 1, 0]), ([0, 0, 0, 0, 0, 0, 1, 0, 0, 0], [0, 1, 1, 0, 0, 1, 0, 1, 1, 0]), ([0, 0, 0, 0, 0, 0, 1, 0, 0, 1], [0, 0, 0, 0, 0, 0, 1, 1, 1, 0]), ([0, 0, 0, 0, 0, 0, 1, 0, 1, 0], [0, 1, 1, 0, 0, 1, 0, 1, 1, 0]), ([0, 0, 0, 0, 0, 0, 1, 0, 1, 1], [0, 0, 0, 0, 0, 0, 1, 1, 1, 0]), ([0, 0, 0, 0, 0, 0, 1, 1, 0, 0], [0, 1, 1, 0, 0, 1, 0, 1, 0, 0]), ([0, 0, 0, 0, 0, 0, 1, 1, 0, 1], [0, 0, 0, 0, 0, 0, 1, 1, 0, 0]), ([0, 0, 0, 0, 0, 0, 1, 1, 1, 0], [0, 1, 1, 0, 0, 1, 0, 1, 1, 0]), ([0, 0, 0, 0, 0, 0, 1, 1, 1, 1], [0, 0, 0, 0, 0, 0, 1, 1, 1, 0]), ([0, 0, 0, 0, 0, 1, 0, 0, 0, 0], [0, 1, 1, 0, 0, 1, 0, 1, 1, 1]), ([0, 0, 0, 0, 0, 1, 0, 0, 0, 1], [0, 0, 0, 0, 0, 0, 1, 0, 1, 1]), ([0, 0, 0, 0, 0, 1, 0, 0, 1, 0], [0, 1, 1, 0, 0, 1, 0, 1, 1, 1]), ([0, 0, 0, 0, 0, 1, 0, 0, 1, 1], [0, 0, 0, 0, 0, 0, 1, 0, 1, 1]), ([0, 0, 0, 0, 0, 1, 0, 1, 0, 0], [0, 1, 1, 0, 0, 1, 0, 1, 0, 0]), ([0, 0, 0, 0, 0, 1, 0, 1, 0, 1], [0, 0, 0, 0, 0, 0, 1, 0, 0, 0]), ([0, 0, 0, 0, 0, 1, 0, 1, 1, 0], [0, 1, 1, 0, 0, 1, 0, 1, 0, 0]), ([0, 0, 0, 0, 0, 1, 0, 1, 1, 1], [0, 0, 0, 0, 0, 0, 1, 0, 1, 0]), ([0, 0, 0, 0, 0, 1, 1, 0, 0, 0], [0, 1, 1, 0, 0, 1, 0, 1, 1, 0]), ([0, 0, 0, 0, 0, 1, 1, 0, 0, 1], [0, 0, 0, 0, 0, 0, 1, 1, 1, 0]), ([0, 0, 0, 0, 0, 1, 1, 0, 1, 0], [0, 1, 1, 0, 0, 1, 0, 1, 1, 0]), ([0, 0, 0, 0, 0, 1, 1, 0, 1, 1], [0, 0, 0, 0, 0, 0, 1, 1, 1, 0]), ([0, 0, 0, 0, 0, 1, 1, 1, 0, 0], [0, 1, 1, 0, 0, 1, 0, 1, 0, 0]), ([0, 0, 0, 0, 0, 1, 1, 1, 0, 1], [0, 0, 0, 0, 0, 0, 1, 1, 0, 0]), ([0, 0, 0, 0, 0, 1, 1, 1, 1, 0], [0, 1, 1, 0, 0, 1, 0, 1, 1, 0]), ([0, 0, 0, 0, 0, 1, 1, 1, 1, 1], [0, 0, 0, 0, 0, 0, 1, 1, 1, 0]), ([0, 0, 0, 0, 1, 0, 0, 0, 0, 0], [0, 0, 0, 0, 1, 0, 0, 0, 1, 1]), ([0, 0, 0, 0, 1, 0, 0, 0, 0, 1], [0, 0, 0, 0, 1, 0, 1, 0, 1, 1]), ([0, 0, 0, 0, 1, 0, 0, 0, 1, 0], [0, 0, 0, 0, 1, 0, 0, 0, 1, 1]), ([0, 0, 0, 0, 1, 0, 0, 0, 1, 1], [0, 0, 0, 0, 1, 0, 1, 0, 1, 1]), ([0, 0, 0, 0, 1, 0, 0, 1, 0, 0], [0, 0, 0, 0, 1, 0, 0, 0, 0, 0]), ([0, 0, 0, 0, 1, 0, 0, 1, 0, 1], [0, 0, 0, 0, 1, 0, 1, 0, 0, 0]), ([0, 0, 0, 0, 1, 0, 0, 1, 1, 0], [0, 0, 0, 0, 0, 0, 0, 0, 1, 0]), ([0, 0, 0, 0, 1, 0, 0, 1, 1, 1], [0, 0, 0, 0, 0, 0, 1, 0, 1, 0]), ([0, 0, 0, 0, 1, 0, 1, 0, 0, 0], [0, 0, 0, 0, 0, 0, 0, 1, 1, 0]), ([0, 0, 0, 0, 1, 0, 1, 0, 0, 1], [0, 0, 0, 0, 0, 0, 1, 1, 1, 0]), ([0, 0, 0, 0, 1, 0, 1, 0, 1, 0], [0, 0, 0, 0, 0, 0, 0, 1, 1, 0]), ([0, 0, 0, 0, 1, 0, 1, 0, 1, 1], [0, 0, 0, 0, 0, 0, 1, 1, 1, 0]), ([0, 0, 0, 0, 1, 0, 1, 1, 0, 0], [0, 0, 0, 0, 0, 0, 0, 1, 0, 0]), ([0, 0, 0, 0, 1, 0, 1, 1, 0, 1], [0, 0, 0, 0, 0, 0, 1, 1, 0, 0]), ([0, 0, 0, 0, 1, 0, 1, 1, 1, 0], [0, 0, 0, 0, 0, 0, 0, 1, 1, 0]), ([0, 0, 0, 0, 1, 0, 1, 1, 1, 1], [0, 0, 0, 0, 0, 0, 1, 1, 1, 0]), ([0, 0, 0, 0, 1, 1, 0, 0, 0, 0], [0, 1, 1, 0, 1, 1, 0, 1, 1, 1]), ([0, 0, 0, 0, 1, 1, 0, 0, 0, 1], [0, 0, 0, 0, 1, 0, 1, 0, 1, 1]), ([0, 0, 0, 0, 1, 1, 0, 0, 1, 0], [0, 1, 1, 0, 1, 1, 0, 1, 1, 1]), ([0, 0, 0, 0, 1, 1, 0, 0, 1, 1], [0, 0, 0, 0, 1, 0, 1, 0, 1, 1]), ([0, 0, 0, 0, 1, 1, 0, 1, 0, 0], [0, 1, 1, 0, 1, 1, 0, 1, 0, 0]), ([0, 0, 0, 0, 1, 1, 0, 1, 0, 1], [0, 0, 0, 0, 1, 0, 1, 0, 0, 0]), ([0, 0, 0, 0, 1, 1, 0, 1, 1, 0], [0, 1, 1, 0, 0, 1, 0, 1, 1, 0]), ([0, 0, 0, 0, 1, 1, 0, 1, 1, 1], [0, 0, 0, 0, 0, 0, 1, 0, 1, 0]), ([0, 0, 0, 0, 1, 1, 1, 0, 0, 0], [0, 1, 1, 0, 0, 1, 0, 1, 1, 0]), ([0, 0, 0, 0, 1, 1, 1, 0, 0, 1], [0, 0, 0, 0, 0, 0, 1, 1, 1, 0]), ([0, 0, 0, 0, 1, 1, 1, 0, 1, 0], [0, 1, 1, 0, 0, 1, 0, 1, 1, 0]), ([0, 0, 0, 0, 1, 1, 1, 0, 1, 1], [0, 0, 0, 0, 0, 0, 1, 1, 1, 0]), ([0, 0, 0, 0, 1, 1, 1, 1, 0, 0], [0, 1, 1, 0, 0, 1, 0, 1, 0, 0]), ([0, 0, 0, 0, 1, 1, 1, 1, 0, 1], [0, 0, 0, 0, 0, 0, 1, 1, 0, 0]), ([0, 0, 0, 0, 1, 1, 1, 1, 1, 0], [0, 1, 1, 0, 0, 1, 0, 1, 1, 0]), ([0, 0, 0, 0, 1, 1, 1, 1, 1, 1], [0, 0, 0, 0, 0, 0, 1, 1, 1, 0]), ([0, 0, 0, 1, 0, 0, 0, 0, 0, 0], [0, 0, 1, 0, 0, 0, 0, 1, 1, 1]), ([0, 0, 0, 1, 0, 0, 0, 0, 0, 1], [0, 0, 0, 0, 0, 0, 1, 0, 1, 1]), ([0, 0, 0, 1, 0, 0, 0, 0, 1, 0], [0, 0, 1, 0, 0, 0, 0, 1, 1, 1]), ([0, 0, 0, 1, 0, 0, 0, 0, 1, 1], [0, 0, 0, 0, 0, 0, 1, 0, 1, 1]), ([0, 0, 0, 1, 0, 0, 0, 1, 0, 0], [0, 0, 1, 0, 0, 0, 0, 1, 0, 0]), ([0, 0, 0, 1, 0, 0, 0, 1, 0, 1], [0, 0, 0, 0, 0, 0, 1, 0, 0, 0]), ([0, 0, 0, 1, 0, 0, 0, 1, 1, 0], [0, 0, 1, 0, 0, 0, 0, 1, 0, 0]), ([0, 0, 0, 1, 0, 0, 0, 1, 1, 1], [0, 0, 0, 0, 0, 0, 1, 0, 1, 0]), ([0, 0, 0, 1, 0, 0, 1, 0, 0, 0], [0, 0, 1, 0, 0, 0, 0, 1, 1, 0]), ([0, 0, 0, 1, 0, 0, 1, 0, 0, 1], [0, 0, 0, 0, 0, 0, 1, 1, 1, 0]), ([0, 0, 0, 1, 0, 0, 1, 0, 1, 0], [0, 0, 1, 0, 0, 0, 0, 1, 1, 0]), ([0, 0, 0, 1, 0, 0, 1, 0, 1, 1], [0, 0, 0, 0, 0, 0, 1, 1, 1, 0]), ([0, 0, 0, 1, 0, 0, 1, 1, 0, 0], [0, 0, 1, 0, 0, 0, 0, 1, 0, 0]), ([0, 0, 0, 1, 0, 0, 1, 1, 0, 1], [0, 0, 0, 0, 0, 0, 1, 1, 0, 0]), ([0, 0, 0, 1, 0, 0, 1, 1, 1, 0], [0, 0, 1, 0, 0, 0, 0, 1, 1, 0]), ([0, 0, 0, 1, 0, 0, 1, 1, 1, 1], [0, 0, 0, 0, 0, 0, 1, 1, 1, 0]), ([0, 0, 0, 1, 0, 1, 0, 0, 0, 0], [0, 1, 1, 0, 0, 1, 0, 1, 1, 1]), ([0, 0, 0, 1, 0, 1, 0, 0, 0, 1], [0, 0, 0, 0, 0, 0, 1, 0, 1, 1]), ([0, 0, 0, 1, 0, 1, 0, 0, 1, 0], [0, 1, 1, 0, 0, 1, 0, 1, 1, 1]), ([0, 0, 0, 1, 0, 1, 0, 0, 1, 1], [0, 0, 0, 0, 0, 0, 1, 0, 1, 1]), ([0, 0, 0, 1, 0, 1, 0, 1, 0, 0], [0, 1, 1, 0, 0, 1, 0, 1, 0, 0]), ([0, 0, 0, 1, 0, 1, 0, 1, 0, 1], [0, 0, 0, 0, 0, 0, 1, 0, 0, 0]), ([0, 0, 0, 1, 0, 1, 0, 1, 1, 0], [0, 1, 1, 0, 0, 1, 0, 1, 0, 0]), ([0, 0, 0, 1, 0, 1, 0, 1, 1, 1], [0, 0, 0, 0, 0, 0, 1, 0, 1, 0]), ([0, 0, 0, 1, 0, 1, 1, 0, 0, 0], [0, 1, 1, 0, 0, 1, 0, 1, 1, 0]), ([0, 0, 0, 1, 0, 1, 1, 0, 0, 1], [0, 0, 0, 0, 0, 0, 1, 1, 1, 0]), ([0, 0, 0, 1, 0, 1, 1, 0, 1, 0], [0, 1, 1, 0, 0, 1, 0, 1, 1, 0]), ([0, 0, 0, 1, 0, 1, 1, 0, 1, 1], [0, 0, 0, 0, 0, 0, 1, 1, 1, 0]), ([0, 0, 0, 1, 0, 1, 1, 1, 0, 0], [0, 1, 1, 0, 0, 1, 0, 1, 0, 0]), ([0, 0, 0, 1, 0, 1, 1, 1, 0, 1], [0, 0, 0, 0, 0, 0, 1, 1, 0, 0]), ([0, 0, 0, 1, 0, 1, 1, 1, 1, 0], [0, 1, 1, 0, 0, 1, 0, 1, 1, 0]), ([0, 0, 0, 1, 0, 1, 1, 1, 1, 1], [0, 0, 0, 0, 0, 0, 1, 1, 1, 0]), ([0, 0, 0, 1, 1, 0, 0, 0, 0, 0], [0, 0, 0, 0, 1, 0, 0, 0, 1, 1]), ([0, 0, 0, 1, 1, 0, 0, 0, 0, 1], [0, 0, 0, 0, 1, 0, 1, 0, 1, 1]), ([0, 0, 0, 1, 1, 0, 0, 0, 1, 0], [0, 0, 0, 0, 1, 0, 0, 0, 1, 1]), ([0, 0, 0, 1, 1, 0, 0, 0, 1, 1], [0, 0, 0, 0, 1, 0, 1, 0, 1, 1]), ([0, 0, 0, 1, 1, 0, 0, 1, 0, 0], [0, 0, 0, 0, 1, 0, 0, 0, 0, 0]), ([0, 0, 0, 1, 1, 0, 0, 1, 0, 1], [0, 0, 0, 0, 1, 0, 1, 0, 0, 0]), ([0, 0, 0, 1, 1, 0, 0, 1, 1, 0], [0, 0, 0, 0, 0, 0, 0, 0, 1, 0]), ([0, 0, 0, 1, 1, 0, 0, 1, 1, 1], [0, 0, 0, 0, 0, 0, 1, 0, 1, 0]), ([0, 0, 0, 1, 1, 0, 1, 0, 0, 0], [0, 0, 0, 0, 0, 0, 0, 1, 1, 0]), ([0, 0, 0, 1, 1, 0, 1, 0, 0, 1], [0, 0, 0, 0, 0, 0, 1, 1, 1, 0]), ([0, 0, 0, 1, 1, 0, 1, 0, 1, 0], [0, 0, 0, 0, 0, 0, 0, 1, 1, 0]), ([0, 0, 0, 1, 1, 0, 1, 0, 1, 1], [0, 0, 0, 0, 0, 0, 1, 1, 1, 0]), ([0, 0, 0, 1, 1, 0, 1, 1, 0, 0], [0, 0, 0, 0, 0, 0, 0, 1, 0, 0]), ([0, 0, 0, 1, 1, 0, 1, 1, 0, 1], [0, 0, 0, 0, 0, 0, 1, 1, 0, 0]), ([0, 0, 0, 1, 1, 0, 1, 1, 1, 0], [0, 0, 0, 0, 0, 0, 0, 1, 1, 0]), ([0, 0, 0, 1, 1, 0, 1, 1, 1, 1], [0, 0, 0, 0, 0, 0, 1, 1, 1, 0]), ([0, 0, 0, 1, 1, 1, 0, 0, 0, 0], [0, 1, 1, 0, 1, 0, 0, 1, 1, 1]), ([0, 0, 0, 1, 1, 1, 0, 0, 0, 1], [0, 0, 0, 0, 1, 0, 1, 0, 1, 1]), ([0, 0, 0, 1, 1, 1, 0, 0, 1, 0], [0, 1, 1, 0, 1, 0, 0, 1, 1, 1]), ([0, 0, 0, 1, 1, 1, 0, 0, 1, 1], [0, 0, 0, 0, 1, 0, 1, 0, 1, 1]), ([0, 0, 0, 1, 1, 1, 0, 1, 0, 0], [0, 1, 1, 0, 1, 0, 0, 1, 0, 0]), ([0, 0, 0, 1, 1, 1, 0, 1, 0, 1], [0, 0, 0, 0, 1, 0, 1, 0, 0, 0]), ([0, 0, 0, 1, 1, 1, 0, 1, 1, 0], [0, 1, 1, 0, 0, 0, 0, 1, 1, 0]), ([0, 0, 0, 1, 1, 1, 0, 1, 1, 1], [0, 0, 0, 0, 0, 0, 1, 0, 1, 0]), ([0, 0, 0, 1, 1, 1, 1, 0, 0, 0], [0, 1, 1, 0, 0, 0, 0, 1, 1, 0]), ([0, 0, 0, 1, 1, 1, 1, 0, 0, 1], [0, 0, 0, 0, 0, 0, 1, 1, 1, 0]), ([0, 0, 0, 1, 1, 1, 1, 0, 1, 0], [0, 1, 1, 0, 0, 0, 0, 1, 1, 0]), ([0, 0, 0, 1, 1, 1, 1, 0, 1, 1], [0, 0, 0, 0, 0, 0, 1, 1, 1, 0]), ([0, 0, 0, 1, 1, 1, 1, 1, 0, 0], [0, 1, 1, 0, 0, 0, 0, 1, 0, 0]), ([0, 0, 0, 1, 1, 1, 1, 1, 0, 1], [0, 0, 0, 0, 0, 0, 1, 1, 0, 0]), ([0, 0, 0, 1, 1, 1, 1, 1, 1, 0], [0, 1, 1, 0, 0, 0, 0, 1, 1, 0]), ([0, 0, 0, 1, 1, 1, 1, 1, 1, 1], [0, 0, 0, 0, 0, 0, 1, 1, 1, 0]), ([0, 0, 1, 0, 0, 0, 0, 0, 0, 0], [0, 1, 1, 1, 1, 1, 0, 1, 1, 1]), ([0, 0, 1, 0, 0, 0, 0, 0, 0, 1], [0, 0, 0, 1, 1, 0, 1, 0, 1, 1]), ([0, 0, 1, 0, 0, 0, 0, 0, 1, 0], [0, 1, 1, 1, 1, 1, 0, 1, 1, 1]), ([0, 0, 1, 0, 0, 0, 0, 0, 1, 1], [0, 0, 0, 1, 1, 0, 1, 0, 1, 1]), ([0, 0, 1, 0, 0, 0, 0, 1, 0, 0], [0, 1, 1, 1, 1, 1, 0, 1, 0, 0]), ([0, 0, 1, 0, 0, 0, 0, 1, 0, 1], [0, 0, 0, 1, 1, 0, 1, 0, 0, 0]), ([0, 0, 1, 0, 0, 0, 0, 1, 1, 0], [0, 1, 1, 1, 0, 1, 0, 1, 0, 0]), ([0, 0, 1, 0, 0, 0, 0, 1, 1, 1], [0, 0, 0, 1, 0, 0, 1, 0, 1, 0]), ([0, 0, 1, 0, 0, 0, 1, 0, 0, 0], [0, 1, 1, 1, 0, 1, 0, 1, 1, 0]), ([0, 0, 1, 0, 0, 0, 1, 0, 0, 1], [0, 0, 0, 1, 0, 0, 1, 1, 1, 0]), ([0, 0, 1, 0, 0, 0, 1, 0, 1, 0], [0, 1, 1, 1, 0, 1, 0, 1, 1, 0]), ([0, 0, 1, 0, 0, 0, 1, 0, 1, 1], [0, 0, 0, 1, 0, 0, 1, 1, 1, 0]), ([0, 0, 1, 0, 0, 0, 1, 1, 0, 0], [0, 1, 1, 1, 0, 1, 0, 1, 0, 0]), ([0, 0, 1, 0, 0, 0, 1, 1, 0, 1], [0, 0, 0, 1, 0, 0, 1, 1, 0, 0]), ([0, 0, 1, 0, 0, 0, 1, 1, 1, 0], [0, 1, 1, 1, 0, 1, 0, 1, 1, 0]), ([0, 0, 1, 0, 0, 0, 1, 1, 1, 1], [0, 0, 0, 1, 0, 0, 1, 1, 1, 0]), ([0, 0, 1, 0, 0, 1, 0, 0, 0, 0], [0, 1, 1, 1, 1, 1, 0, 1, 1, 1]), ([0, 0, 1, 0, 0, 1, 0, 0, 0, 1], [0, 0, 0, 1, 1, 0, 1, 0, 1, 1]), ([0, 0, 1, 0, 0, 1, 0, 0, 1, 0], [0, 1, 1, 1, 1, 1, 0, 1, 1, 1]), ([0, 0, 1, 0, 0, 1, 0, 0, 1, 1], [0, 0, 0, 1, 1, 0, 1, 0, 1, 1]), ([0, 0, 1, 0, 0, 1, 0, 1, 0, 0], [0, 1, 1, 1, 1, 1, 0, 1, 0, 0]), ([0, 0, 1, 0, 0, 1, 0, 1, 0, 1], [0, 0, 0, 1, 1, 0, 1, 0, 0, 0]), ([0, 0, 1, 0, 0, 1, 0, 1, 1, 0], [0, 1, 1, 1, 0, 1, 0, 1, 0, 0]), ([0, 0, 1, 0, 0, 1, 0, 1, 1, 1], [0, 0, 0, 1, 0, 0, 1, 0, 1, 0]), ([0, 0, 1, 0, 0, 1, 1, 0, 0, 0], [0, 1, 1, 1, 0, 1, 0, 1, 1, 0]), ([0, 0, 1, 0, 0, 1, 1, 0, 0, 1], [0, 0, 0, 1, 0, 0, 1, 1, 1, 0]), ([0, 0, 1, 0, 0, 1, 1, 0, 1, 0], [0, 1, 1, 1, 0, 1, 0, 1, 1, 0]), ([0, 0, 1, 0, 0, 1, 1, 0, 1, 1], [0, 0, 0, 1, 0, 0, 1, 1, 1, 0]), ([0, 0, 1, 0, 0, 1, 1, 1, 0, 0], [0, 1, 1, 1, 0, 1, 0, 1, 0, 0]), ([0, 0, 1, 0, 0, 1, 1, 1, 0, 1], [0, 0, 0, 1, 0, 0, 1, 1, 0, 0]), ([0, 0, 1, 0, 0, 1, 1, 1, 1, 0], [0, 1, 1, 1, 0, 1, 0, 1, 1, 0]), ([0, 0, 1, 0, 0, 1, 1, 1, 1, 1], [0, 0, 0, 1, 0, 0, 1, 1, 1, 0]), ([0, 0, 1, 0, 1, 0, 0, 0, 0, 0], [0, 0, 0, 1, 1, 0, 0, 0, 1, 1]), ([0, 0, 1, 0, 1, 0, 0, 0, 0, 1], [0, 0, 0, 1, 1, 0, 1, 0, 1, 1]), ([0, 0, 1, 0, 1, 0, 0, 0, 1, 0], [0, 0, 0, 1, 1, 0, 0, 0, 1, 1]), ([0, 0, 1, 0, 1, 0, 0, 0, 1, 1], [0, 0, 0, 1, 1, 0, 1, 0, 1, 1]), ([0, 0, 1, 0, 1, 0, 0, 1, 0, 0], [0, 0, 0, 1, 1, 0, 0, 0, 0, 0]), ([0, 0, 1, 0, 1, 0, 0, 1, 0, 1], [0, 0, 0, 1, 1, 0, 1, 0, 0, 0]), ([0, 0, 1, 0, 1, 0, 0, 1, 1, 0], [0, 0, 0, 1, 0, 0, 0, 0, 1, 0]), ([0, 0, 1, 0, 1, 0, 0, 1, 1, 1], [0, 0, 0, 1, 0, 0, 1, 0, 1, 0]), ([0, 0, 1, 0, 1, 0, 1, 0, 0, 0], [0, 0, 0, 1, 0, 0, 0, 1, 1, 0]), ([0, 0, 1, 0, 1, 0, 1, 0, 0, 1], [0, 0, 0, 1, 0, 0, 1, 1, 1, 0]), ([0, 0, 1, 0, 1, 0, 1, 0, 1, 0], [0, 0, 0, 1, 0, 0, 0, 1, 1, 0]), ([0, 0, 1, 0, 1, 0, 1, 0, 1, 1], [0, 0, 0, 1, 0, 0, 1, 1, 1, 0]), ([0, 0, 1, 0, 1, 0, 1, 1, 0, 0], [0, 0, 0, 1, 0, 0, 0, 1, 0, 0]), ([0, 0, 1, 0, 1, 0, 1, 1, 0, 1], [0, 0, 0, 1, 0, 0, 1, 1, 0, 0]), ([0, 0, 1, 0, 1, 0, 1, 1, 1, 0], [0, 0, 0, 1, 0, 0, 0, 1, 1, 0]), ([0, 0, 1, 0, 1, 0, 1, 1, 1, 1], [0, 0, 0, 1, 0, 0, 1, 1, 1, 0]), ([0, 0, 1, 0, 1, 1, 0, 0, 0, 0], [0, 1, 1, 1, 1, 1, 0, 1, 1, 1]), ([0, 0, 1, 0, 1, 1, 0, 0, 0, 1], [0, 0, 0, 1, 1, 0, 1, 0, 1, 1]), ([0, 0, 1, 0, 1, 1, 0, 0, 1, 0], [0, 1, 1, 1, 1, 1, 0, 1, 1, 1]), ([0, 0, 1, 0, 1, 1, 0, 0, 1, 1], [0, 0, 0, 1, 1, 0, 1, 0, 1, 1]), ([0, 0, 1, 0, 1, 1, 0, 1, 0, 0], [0, 1, 1, 1, 1, 1, 0, 1, 0, 0]), ([0, 0, 1, 0, 1, 1, 0, 1, 0, 1], [0, 0, 0, 1, 1, 0, 1, 0, 0, 0]), ([0, 0, 1, 0, 1, 1, 0, 1, 1, 0], [0, 1, 1, 1, 0, 1, 0, 1, 1, 0]), ([0, 0, 1, 0, 1, 1, 0, 1, 1, 1], [0, 0, 0, 1, 0, 0, 1, 0, 1, 0]), ([0, 0, 1, 0, 1, 1, 1, 0, 0, 0], [0, 1, 1, 1, 0, 1, 0, 1, 1, 0]), ([0, 0, 1, 0, 1, 1, 1, 0, 0, 1], [0, 0, 0, 1, 0, 0, 1, 1, 1, 0]), ([0, 0, 1, 0, 1, 1, 1, 0, 1, 0], [0, 1, 1, 1, 0, 1, 0, 1, 1, 0]), ([0, 0, 1, 0, 1, 1, 1, 0, 1, 1], [0, 0, 0, 1, 0, 0, 1, 1, 1, 0]), ([0, 0, 1, 0, 1, 1, 1, 1, 0, 0], [0, 1, 1, 1, 0, 1, 0, 1, 0, 0]), ([0, 0, 1, 0, 1, 1, 1, 1, 0, 1], [0, 0, 0, 1, 0, 0, 1, 1, 0, 0]), ([0, 0, 1, 0, 1, 1, 1, 1, 1, 0], [0, 1, 1, 1, 0, 1, 0, 1, 1, 0]), ([0, 0, 1, 0, 1, 1, 1, 1, 1, 1], [0, 0, 0, 1, 0, 0, 1, 1, 1, 0]), ([0, 0, 1, 1, 0, 0, 0, 0, 0, 0], [0, 0, 1, 1, 1, 0, 0, 1, 1, 1]), ([0, 0, 1, 1, 0, 0, 0, 0, 0, 1], [0, 0, 0, 1, 1, 0, 1, 0, 1, 1]), ([0, 0, 1, 1, 0, 0, 0, 0, 1, 0], [0, 0, 1, 1, 1, 0, 0, 1, 1, 1]), ([0, 0, 1, 1, 0, 0, 0, 0, 1, 1], [0, 0, 0, 1, 1, 0, 1, 0, 1, 1]), ([0, 0, 1, 1, 0, 0, 0, 1, 0, 0], [0, 0, 1, 1, 1, 0, 0, 1, 0, 0]), ([0, 0, 1, 1, 0, 0, 0, 1, 0, 1], [0, 0, 0, 1, 1, 0, 1, 0, 0, 0]), ([0, 0, 1, 1, 0, 0, 0, 1, 1, 0], [0, 0, 1, 1, 0, 0, 0, 1, 0, 0]), ([0, 0, 1, 1, 0, 0, 0, 1, 1, 1], [0, 0, 0, 1, 0, 0, 1, 0, 1, 0]), ([0, 0, 1, 1, 0, 0, 1, 0, 0, 0], [0, 0, 1, 1, 0, 0, 0, 1, 1, 0]), ([0, 0, 1, 1, 0, 0, 1, 0, 0, 1], [0, 0, 0, 1, 0, 0, 1, 1, 1, 0]), ([0, 0, 1, 1, 0, 0, 1, 0, 1, 0], [0, 0, 1, 1, 0, 0, 0, 1, 1, 0]), ([0, 0, 1, 1, 0, 0, 1, 0, 1, 1], [0, 0, 0, 1, 0, 0, 1, 1, 1, 0]), ([0, 0, 1, 1, 0, 0, 1, 1, 0, 0], [0, 0, 1, 1, 0, 0, 0, 1, 0, 0]), ([0, 0, 1, 1, 0, 0, 1, 1, 0, 1], [0, 0, 0, 1, 0, 0, 1, 1, 0, 0]), ([0, 0, 1, 1, 0, 0, 1, 1, 1, 0], [0, 0, 1, 1, 0, 0, 0, 1, 1, 0]), ([0, 0, 1, 1, 0, 0, 1, 1, 1, 1], [0, 0, 0, 1, 0, 0, 1, 1, 1, 0]), ([0, 0, 1, 1, 0, 1, 0, 0, 0, 0], [0, 1, 1, 1, 1, 1, 0, 1, 1, 1]), ([0, 0, 1, 1, 0, 1, 0, 0, 0, 1], [0, 0, 0, 1, 1, 0, 1, 0, 1, 1]), ([0, 0, 1, 1, 0, 1, 0, 0, 1, 0], [0, 1, 1, 1, 1, 1, 0, 1, 1, 1]), ([0, 0, 1, 1, 0, 1, 0, 0, 1, 1], [0, 0, 0, 1, 1, 0, 1, 0, 1, 1]), ([0, 0, 1, 1, 0, 1, 0, 1, 0, 0], [0, 1, 1, 1, 1, 1, 0, 1, 0, 0]), ([0, 0, 1, 1, 0, 1, 0, 1, 0, 1], [0, 0, 0, 1, 1, 0, 1, 0, 0, 0]), ([0, 0, 1, 1, 0, 1, 0, 1, 1, 0], [0, 1, 1, 1, 0, 1, 0, 1, 0, 0]), ([0, 0, 1, 1, 0, 1, 0, 1, 1, 1], [0, 0, 0, 1, 0, 0, 1, 0, 1, 0]), ([0, 0, 1, 1, 0, 1, 1, 0, 0, 0], [0, 1, 1, 1, 0, 1, 0, 1, 1, 0]), ([0, 0, 1, 1, 0, 1, 1, 0, 0, 1], [0, 0, 0, 1, 0, 0, 1, 1, 1, 0]), ([0, 0, 1, 1, 0, 1, 1, 0, 1, 0], [0, 1, 1, 1, 0, 1, 0, 1, 1, 0]), ([0, 0, 1, 1, 0, 1, 1, 0, 1, 1], [0, 0, 0, 1, 0, 0, 1, 1, 1, 0]), ([0, 0, 1, 1, 0, 1, 1, 1, 0, 0], [0, 1, 1, 1, 0, 1, 0, 1, 0, 0]), ([0, 0, 1, 1, 0, 1, 1, 1, 0, 1], [0, 0, 0, 1, 0, 0, 1, 1, 0, 0]), ([0, 0, 1, 1, 0, 1, 1, 1, 1, 0], [0, 1, 1, 1, 0, 1, 0, 1, 1, 0]), ([0, 0, 1, 1, 0, 1, 1, 1, 1, 1], [0, 0, 0, 1, 0, 0, 1, 1, 1, 0]), ([0, 0, 1, 1, 1, 0, 0, 0, 0, 0], [0, 0, 0, 1, 1, 0, 0, 0, 1, 1]), ([0, 0, 1, 1, 1, 0, 0, 0, 0, 1], [0, 0, 0, 1, 1, 0, 1, 0, 1, 1]), ([0, 0, 1, 1, 1, 0, 0, 0, 1, 0], [0, 0, 0, 1, 1, 0, 0, 0, 1, 1]), ([0, 0, 1, 1, 1, 0, 0, 0, 1, 1], [0, 0, 0, 1, 1, 0, 1, 0, 1, 1]), ([0, 0, 1, 1, 1, 0, 0, 1, 0, 0], [0, 0, 0, 1, 1, 0, 0, 0, 0, 0]), ([0, 0, 1, 1, 1, 0, 0, 1, 0, 1], [0, 0, 0, 1, 1, 0, 1, 0, 0, 0]), ([0, 0, 1, 1, 1, 0, 0, 1, 1, 0], [0, 0, 0, 1, 0, 0, 0, 0, 1, 0]), ([0, 0, 1, 1, 1, 0, 0, 1, 1, 1], [0, 0, 0, 1, 0, 0, 1, 0, 1, 0]), ([0, 0, 1, 1, 1, 0, 1, 0, 0, 0], [0, 0, 0, 1, 0, 0, 0, 1, 1, 0]), ([0, 0, 1, 1, 1, 0, 1, 0, 0, 1], [0, 0, 0, 1, 0, 0, 1, 1, 1, 0]), ([0, 0, 1, 1, 1, 0, 1, 0, 1, 0], [0, 0, 0, 1, 0, 0, 0, 1, 1, 0]), ([0, 0, 1, 1, 1, 0, 1, 0, 1, 1], [0, 0, 0, 1, 0, 0, 1, 1, 1, 0]), ([0, 0, 1, 1, 1, 0, 1, 1, 0, 0], [0, 0, 0, 1, 0, 0, 0, 1, 0, 0]), ([0, 0, 1, 1, 1, 0, 1, 1, 0, 1], [0, 0, 0, 1, 0, 0, 1, 1, 0, 0]), ([0, 0, 1, 1, 1, 0, 1, 1, 1, 0], [0, 0, 0, 1, 0, 0, 0, 1, 1, 0]), ([0, 0, 1, 1, 1, 0, 1, 1, 1, 1], [0, 0, 0, 1, 0, 0, 1, 1, 1, 0]), ([0, 0, 1, 1, 1, 1, 0, 0, 0, 0], [0, 1, 1, 1, 1, 0, 0, 1, 1, 1]), ([0, 0, 1, 1, 1, 1, 0, 0, 0, 1], [0, 0, 0, 1, 1, 0, 1, 0, 1, 1]), ([0, 0, 1, 1, 1, 1, 0, 0, 1, 0], [0, 1, 1, 1, 1, 0, 0, 1, 1, 1]), ([0, 0, 1, 1, 1, 1, 0, 0, 1, 1], [0, 0, 0, 1, 1, 0, 1, 0, 1, 1]), ([0, 0, 1, 1, 1, 1, 0, 1, 0, 0], [0, 1, 1, 1, 1, 0, 0, 1, 0, 0]), ([0, 0, 1, 1, 1, 1, 0, 1, 0, 1], [0, 0, 0, 1, 1, 0, 1, 0, 0, 0]), ([0, 0, 1, 1, 1, 1, 0, 1, 1, 0], [0, 1, 1, 1, 0, 0, 0, 1, 1, 0]), ([0, 0, 1, 1, 1, 1, 0, 1, 1, 1], [0, 0, 0, 1, 0, 0, 1, 0, 1, 0]), ([0, 0, 1, 1, 1, 1, 1, 0, 0, 0], [0, 1, 1, 1, 0, 0, 0, 1, 1, 0]), ([0, 0, 1, 1, 1, 1, 1, 0, 0, 1], [0, 0, 0, 1, 0, 0, 1, 1, 1, 0]), ([0, 0, 1, 1, 1, 1, 1, 0, 1, 0], [0, 1, 1, 1, 0, 0, 0, 1, 1, 0]), ([0, 0, 1, 1, 1, 1, 1, 0, 1, 1], [0, 0, 0, 1, 0, 0, 1, 1, 1, 0]), ([0, 0, 1, 1, 1, 1, 1, 1, 0, 0], [0, 1, 1, 1, 0, 0, 0, 1, 0, 0]), ([0, 0, 1, 1, 1, 1, 1, 1, 0, 1], [0, 0, 0, 1, 0, 0, 1, 1, 0, 0]), ([0, 0, 1, 1, 1, 1, 1, 1, 1, 0], [0, 1, 1, 1, 0, 0, 0, 1, 1, 0]), ([0, 0, 1, 1, 1, 1, 1, 1, 1, 1], [0, 0, 0, 1, 0, 0, 1, 1, 1, 0]), ([0, 1, 0, 0, 0, 0, 0, 0, 0, 0], [0, 1, 0, 0, 0, 1, 0, 1, 1, 1]), ([0, 1, 0, 0, 0, 0, 0, 0, 0, 1], [0, 0, 0, 0, 0, 0, 1, 0, 1, 1]), ([0, 1, 0, 0, 0, 0, 0, 0, 1, 0], [0, 1, 0, 0, 0, 1, 0, 1, 1, 1]), ([0, 1, 0, 0, 0, 0, 0, 0, 1, 1], [0, 0, 0, 0, 0, 0, 1, 0, 1, 1]), ([0, 1, 0, 0, 0, 0, 0, 1, 0, 0], [0, 1, 0, 0, 0, 1, 0, 1, 0, 0]), ([0, 1, 0, 0, 0, 0, 0, 1, 0, 1], [0, 0, 0, 0, 0, 0, 1, 0, 0, 0]), ([0, 1, 0, 0, 0, 0, 0, 1, 1, 0], [0, 1, 0, 0, 0, 1, 0, 1, 0, 0]), ([0, 1, 0, 0, 0, 0, 0, 1, 1, 1], [0, 0, 0, 0, 0, 0, 1, 0, 1, 0]), ([0, 1, 0, 0, 0, 0, 1, 0, 0, 0], [0, 1, 0, 0, 0, 1, 0, 1, 1, 0]), ([0, 1, 0, 0, 0, 0, 1, 0, 0, 1], [0, 0, 0, 0, 0, 0, 1, 1, 1, 0]), ([0, 1, 0, 0, 0, 0, 1, 0, 1, 0], [0, 1, 0, 0, 0, 1, 0, 1, 1, 0]), ([0, 1, 0, 0, 0, 0, 1, 0, 1, 1], [0, 0, 0, 0, 0, 0, 1, 1, 1, 0]), ([0, 1, 0, 0, 0, 0, 1, 1, 0, 0], [0, 1, 0, 0, 0, 1, 0, 1, 0, 0]), ([0, 1, 0, 0, 0, 0, 1, 1, 0, 1], [0, 0, 0, 0, 0, 0, 1, 1, 0, 0]), ([0, 1, 0, 0, 0, 0, 1, 1, 1, 0], [0, 1, 0, 0, 0, 1, 0, 1, 1, 0]), ([0, 1, 0, 0, 0, 0, 1, 1, 1, 1], [0, 0, 0, 0, 0, 0, 1, 1, 1, 0]), ([0, 1, 0, 0, 0, 1, 0, 0, 0, 0], [0, 1, 0, 0, 0, 1, 0, 1, 1, 1]), ([0, 1, 0, 0, 0, 1, 0, 0, 0, 1], [0, 0, 0, 0, 0, 0, 1, 0, 1, 1]), ([0, 1, 0, 0, 0, 1, 0, 0, 1, 0], [0, 1, 0, 0, 0, 1, 0, 1, 1, 1]), ([0, 1, 0, 0, 0, 1, 0, 0, 1, 1], [0, 0, 0, 0, 0, 0, 1, 0, 1, 1]), ([0, 1, 0, 0, 0, 1, 0, 1, 0, 0], [0, 1, 0, 0, 0, 1, 0, 1, 0, 0]), ([0, 1, 0, 0, 0, 1, 0, 1, 0, 1], [0, 0, 0, 0, 0, 0, 1, 0, 0, 0]), ([0, 1, 0, 0, 0, 1, 0, 1, 1, 0], [0, 1, 0, 0, 0, 1, 0, 1, 0, 0]), ([0, 1, 0, 0, 0, 1, 0, 1, 1, 1], [0, 0, 0, 0, 0, 0, 1, 0, 1, 0]), ([0, 1, 0, 0, 0, 1, 1, 0, 0, 0], [0, 1, 0, 0, 0, 1, 0, 1, 1, 0]), ([0, 1, 0, 0, 0, 1, 1, 0, 0, 1], [0, 0, 0, 0, 0, 0, 1, 1, 1, 0]), ([0, 1, 0, 0, 0, 1, 1, 0, 1, 0], [0, 1, 0, 0, 0, 1, 0, 1, 1, 0]), ([0, 1, 0, 0, 0, 1, 1, 0, 1, 1], [0, 0, 0, 0, 0, 0, 1, 1, 1, 0]), ([0, 1, 0, 0, 0, 1, 1, 1, 0, 0], [0, 1, 0, 0, 0, 1, 0, 1, 0, 0]), ([0, 1, 0, 0, 0, 1, 1, 1, 0, 1], [0, 0, 0, 0, 0, 0, 1, 1, 0, 0]), ([0, 1, 0, 0, 0, 1, 1, 1, 1, 0], [0, 1, 0, 0, 0, 1, 0, 1, 1, 0]), ([0, 1, 0, 0, 0, 1, 1, 1, 1, 1], [0, 0, 0, 0, 0, 0, 1, 1, 1, 0]), ([0, 1, 0, 0, 1, 0, 0, 0, 0, 0], [0, 0, 0, 0, 0, 0, 0, 0, 1, 1]), ([0, 1, 0, 0, 1, 0, 0, 0, 0, 1], [0, 0, 0, 0, 0, 0, 1, 0, 1, 1]), ([0, 1, 0, 0, 1, 0, 0, 0, 1, 0], [0, 0, 0, 0, 0, 0, 0, 0, 1, 1]), ([0, 1, 0, 0, 1, 0, 0, 0, 1, 1], [0, 0, 0, 0, 0, 0, 1, 0, 1, 1]), ([0, 1, 0, 0, 1, 0, 0, 1, 0, 0], [0, 0, 0, 0, 0, 0, 0, 0, 0, 0]), ([0, 1, 0, 0, 1, 0, 0, 1, 0, 1], [0, 0, 0, 0, 0, 0, 1, 0, 0, 0]), ([0, 1, 0, 0, 1, 0, 0, 1, 1, 0], [0, 0, 0, 0, 0, 0, 0, 0, 1, 0]), ([0, 1, 0, 0, 1, 0, 0, 1, 1, 1], [0, 0, 0, 0, 0, 0, 1, 0, 1, 0]), ([0, 1, 0, 0, 1, 0, 1, 0, 0, 0], [0, 0, 0, 0, 0, 0, 0, 1, 1, 0]), ([0, 1, 0, 0, 1, 0, 1, 0, 0, 1], [0, 0, 0, 0, 0, 0, 1, 1, 1, 0]), ([0, 1, 0, 0, 1, 0, 1, 0, 1, 0], [0, 0, 0, 0, 0, 0, 0, 1, 1, 0]), ([0, 1, 0, 0, 1, 0, 1, 0, 1, 1], [0, 0, 0, 0, 0, 0, 1, 1, 1, 0]), ([0, 1, 0, 0, 1, 0, 1, 1, 0, 0], [0, 0, 0, 0, 0, 0, 0, 1, 0, 0]), ([0, 1, 0, 0, 1, 0, 1, 1, 0, 1], [0, 0, 0, 0, 0, 0, 1, 1, 0, 0]), ([0, 1, 0, 0, 1, 0, 1, 1, 1, 0], [0, 0, 0, 0, 0, 0, 0, 1, 1, 0]), ([0, 1, 0, 0, 1, 0, 1, 1, 1, 1], [0, 0, 0, 0, 0, 0, 1, 1, 1, 0]), ([0, 1, 0, 0, 1, 1, 0, 0, 0, 0], [0, 1, 0, 0, 0, 1, 0, 1, 1, 1]), ([0, 1, 0, 0, 1, 1, 0, 0, 0, 1], [0, 0, 0, 0, 0, 0, 1, 0, 1, 1]), ([0, 1, 0, 0, 1, 1, 0, 0, 1, 0], [0, 1, 0, 0, 0, 1, 0, 1, 1, 1]), ([0, 1, 0, 0, 1, 1, 0, 0, 1, 1], [0, 0, 0, 0, 0, 0, 1, 0, 1, 1]), ([0, 1, 0, 0, 1, 1, 0, 1, 0, 0], [0, 1, 0, 0, 0, 1, 0, 1, 0, 0]), ([0, 1, 0, 0, 1, 1, 0, 1, 0, 1], [0, 0, 0, 0, 0, 0, 1, 0, 0, 0]), ([0, 1, 0, 0, 1, 1, 0, 1, 1, 0], [0, 1, 0, 0, 0, 1, 0, 1, 1, 0]), ([0, 1, 0, 0, 1, 1, 0, 1, 1, 1], [0, 0, 0, 0, 0, 0, 1, 0, 1, 0]), ([0, 1, 0, 0, 1, 1, 1, 0, 0, 0], [0, 1, 0, 0, 0, 1, 0, 1, 1, 0]), ([0, 1, 0, 0, 1, 1, 1, 0, 0, 1], [0, 0, 0, 0, 0, 0, 1, 1, 1, 0]), ([0, 1, 0, 0, 1, 1, 1, 0, 1, 0], [0, 1, 0, 0, 0, 1, 0, 1, 1, 0]), ([0, 1, 0, 0, 1, 1, 1, 0, 1, 1], [0, 0, 0, 0, 0, 0, 1, 1, 1, 0]), ([0, 1, 0, 0, 1, 1, 1, 1, 0, 0], [0, 1, 0, 0, 0, 1, 0, 1, 0, 0]), ([0, 1, 0, 0, 1, 1, 1, 1, 0, 1], [0, 0, 0, 0, 0, 0, 1, 1, 0, 0]), ([0, 1, 0, 0, 1, 1, 1, 1, 1, 0], [0, 1, 0, 0, 0, 1, 0, 1, 1, 0]), ([0, 1, 0, 0, 1, 1, 1, 1, 1, 1], [0, 0, 0, 0, 0, 0, 1, 1, 1, 0]), ([0, 1, 0, 1, 0, 0, 0, 0, 0, 0], [0, 0, 0, 0, 0, 0, 0, 1, 1, 1]), ([0, 1, 0, 1, 0, 0, 0, 0, 0, 1], [0, 0, 0, 0, 0, 0, 1, 0, 1, 1]), ([0, 1, 0, 1, 0, 0, 0, 0, 1, 0], [0, 0, 0, 0, 0, 0, 0, 1, 1, 1]), ([0, 1, 0, 1, 0, 0, 0, 0, 1, 1], [0, 0, 0, 0, 0, 0, 1, 0, 1, 1]), ([0, 1, 0, 1, 0, 0, 0, 1, 0, 0], [0, 0, 0, 0, 0, 0, 0, 1, 0, 0]), ([0, 1, 0, 1, 0, 0, 0, 1, 0, 1], [0, 0, 0, 0, 0, 0, 1, 0, 0, 0]), ([0, 1, 0, 1, 0, 0, 0, 1, 1, 0], [0, 0, 0, 0, 0, 0, 0, 1, 0, 0]), ([0, 1, 0, 1, 0, 0, 0, 1, 1, 1], [0, 0, 0, 0, 0, 0, 1, 0, 1, 0]), ([0, 1, 0, 1, 0, 0, 1, 0, 0, 0], [0, 0, 0, 0, 0, 0, 0, 1, 1, 0]), ([0, 1, 0, 1, 0, 0, 1, 0, 0, 1], [0, 0, 0, 0, 0, 0, 1, 1, 1, 0]), ([0, 1, 0, 1, 0, 0, 1, 0, 1, 0], [0, 0, 0, 0, 0, 0, 0, 1, 1, 0]), ([0, 1, 0, 1, 0, 0, 1, 0, 1, 1], [0, 0, 0, 0, 0, 0, 1, 1, 1, 0]), ([0, 1, 0, 1, 0, 0, 1, 1, 0, 0], [0, 0, 0, 0, 0, 0, 0, 1, 0, 0]), ([0, 1, 0, 1, 0, 0, 1, 1, 0, 1], [0, 0, 0, 0, 0, 0, 1, 1, 0, 0]), ([0, 1, 0, 1, 0, 0, 1, 1, 1, 0], [0, 0, 0, 0, 0, 0, 0, 1, 1, 0]), ([0, 1, 0, 1, 0, 0, 1, 1, 1, 1], [0, 0, 0, 0, 0, 0, 1, 1, 1, 0]), ([0, 1, 0, 1, 0, 1, 0, 0, 0, 0], [0, 1, 0, 0, 0, 1, 0, 1, 1, 1]), ([0, 1, 0, 1, 0, 1, 0, 0, 0, 1], [0, 0, 0, 0, 0, 0, 1, 0, 1, 1]), ([0, 1, 0, 1, 0, 1, 0, 0, 1, 0], [0, 1, 0, 0, 0, 1, 0, 1, 1, 1]), ([0, 1, 0, 1, 0, 1, 0, 0, 1, 1], [0, 0, 0, 0, 0, 0, 1, 0, 1, 1]), ([0, 1, 0, 1, 0, 1, 0, 1, 0, 0], [0, 1, 0, 0, 0, 1, 0, 1, 0, 0]), ([0, 1, 0, 1, 0, 1, 0, 1, 0, 1], [0, 0, 0, 0, 0, 0, 1, 0, 0, 0]), ([0, 1, 0, 1, 0, 1, 0, 1, 1, 0], [0, 1, 0, 0, 0, 1, 0, 1, 0, 0]), ([0, 1, 0, 1, 0, 1, 0, 1, 1, 1], [0, 0, 0, 0, 0, 0, 1, 0, 1, 0]), ([0, 1, 0, 1, 0, 1, 1, 0, 0, 0], [0, 1, 0, 0, 0, 1, 0, 1, 1, 0]), ([0, 1, 0, 1, 0, 1, 1, 0, 0, 1], [0, 0, 0, 0, 0, 0, 1, 1, 1, 0]), ([0, 1, 0, 1, 0, 1, 1, 0, 1, 0], [0, 1, 0, 0, 0, 1, 0, 1, 1, 0]), ([0, 1, 0, 1, 0, 1, 1, 0, 1, 1], [0, 0, 0, 0, 0, 0, 1, 1, 1, 0]), ([0, 1, 0, 1, 0, 1, 1, 1, 0, 0], [0, 1, 0, 0, 0, 1, 0, 1, 0, 0]), ([0, 1, 0, 1, 0, 1, 1, 1, 0, 1], [0, 0, 0, 0, 0, 0, 1, 1, 0, 0]), ([0, 1, 0, 1, 0, 1, 1, 1, 1, 0], [0, 1, 0, 0, 0, 1, 0, 1, 1, 0]), ([0, 1, 0, 1, 0, 1, 1, 1, 1, 1], [0, 0, 0, 0, 0, 0, 1, 1, 1, 0]), ([0, 1, 0, 1, 1, 0, 0, 0, 0, 0], [0, 0, 0, 0, 0, 0, 0, 0, 1, 1]), ([0, 1, 0, 1, 1, 0, 0, 0, 0, 1], [0, 0, 0, 0, 0, 0, 1, 0, 1, 1]), ([0, 1, 0, 1, 1, 0, 0, 0, 1, 0], [0, 0, 0, 0, 0, 0, 0, 0, 1, 1]), ([0, 1, 0, 1, 1, 0, 0, 0, 1, 1], [0, 0, 0, 0, 0, 0, 1, 0, 1, 1]), ([0, 1, 0, 1, 1, 0, 0, 1, 0, 0], [0, 0, 0, 0, 0, 0, 0, 0, 0, 0]), ([0, 1, 0, 1, 1, 0, 0, 1, 0, 1], [0, 0, 0, 0, 0, 0, 1, 0, 0, 0]), ([0, 1, 0, 1, 1, 0, 0, 1, 1, 0], [0, 0, 0, 0, 0, 0, 0, 0, 1, 0]), ([0, 1, 0, 1, 1, 0, 0, 1, 1, 1], [0, 0, 0, 0, 0, 0, 1, 0, 1, 0]), ([0, 1, 0, 1, 1, 0, 1, 0, 0, 0], [0, 0, 0, 0, 0, 0, 0, 1, 1, 0]), ([0, 1, 0, 1, 1, 0, 1, 0, 0, 1], [0, 0, 0, 0, 0, 0, 1, 1, 1, 0]), ([0, 1, 0, 1, 1, 0, 1, 0, 1, 0], [0, 0, 0, 0, 0, 0, 0, 1, 1, 0]), ([0, 1, 0, 1, 1, 0, 1, 0, 1, 1], [0, 0, 0, 0, 0, 0, 1, 1, 1, 0]), ([0, 1, 0, 1, 1, 0, 1, 1, 0, 0], [0, 0, 0, 0, 0, 0, 0, 1, 0, 0]), ([0, 1, 0, 1, 1, 0, 1, 1, 0, 1], [0, 0, 0, 0, 0, 0, 1, 1, 0, 0]), ([0, 1, 0, 1, 1, 0, 1, 1, 1, 0], [0, 0, 0, 0, 0, 0, 0, 1, 1, 0]), ([0, 1, 0, 1, 1, 0, 1, 1, 1, 1], [0, 0, 0, 0, 0, 0, 1, 1, 1, 0]), ([0, 1, 0, 1, 1, 1, 0, 0, 0, 0], [0, 1, 0, 0, 0, 0, 0, 1, 1, 1]), ([0, 1, 0, 1, 1, 1, 0, 0, 0, 1], [0, 0, 0, 0, 0, 0, 1, 0, 1, 1]), ([0, 1, 0, 1, 1, 1, 0, 0, 1, 0], [0, 1, 0, 0, 0, 0, 0, 1, 1, 1]), ([0, 1, 0, 1, 1, 1, 0, 0, 1, 1], [0, 0, 0, 0, 0, 0, 1, 0, 1, 1]), ([0, 1, 0, 1, 1, 1, 0, 1, 0, 0], [0, 1, 0, 0, 0, 0, 0, 1, 0, 0]), ([0, 1, 0, 1, 1, 1, 0, 1, 0, 1], [0, 0, 0, 0, 0, 0, 1, 0, 0, 0]), ([0, 1, 0, 1, 1, 1, 0, 1, 1, 0], [0, 1, 0, 0, 0, 0, 0, 1, 1, 0]), ([0, 1, 0, 1, 1, 1, 0, 1, 1, 1], [0, 0, 0, 0, 0, 0, 1, 0, 1, 0]), ([0, 1, 0, 1, 1, 1, 1, 0, 0, 0], [0, 1, 0, 0, 0, 0, 0, 1, 1, 0]), ([0, 1, 0, 1, 1, 1, 1, 0, 0, 1], [0, 0, 0, 0, 0, 0, 1, 1, 1, 0]), ([0, 1, 0, 1, 1, 1, 1, 0, 1, 0], [0, 1, 0, 0, 0, 0, 0, 1, 1, 0]), ([0, 1, 0, 1, 1, 1, 1, 0, 1, 1], [0, 0, 0, 0, 0, 0, 1, 1, 1, 0]), ([0, 1, 0, 1, 1, 1, 1, 1, 0, 0], [0, 1, 0, 0, 0, 0, 0, 1, 0, 0]), ([0, 1, 0, 1, 1, 1, 1, 1, 0, 1], [0, 0, 0, 0, 0, 0, 1, 1, 0, 0]), ([0, 1, 0, 1, 1, 1, 1, 1, 1, 0], [0, 1, 0, 0, 0, 0, 0, 1, 1, 0]), ([0, 1, 0, 1, 1, 1, 1, 1, 1, 1], [0, 0, 0, 0, 0, 0, 1, 1, 1, 0]), ([0, 1, 1, 0, 0, 0, 0, 0, 0, 0], [0, 1, 0, 0, 0, 1, 0, 1, 1, 1]), ([0, 1, 1, 0, 0, 0, 0, 0, 0, 1], [0, 0, 0, 0, 0, 0, 1, 0, 1, 1]), ([0, 1, 1, 0, 0, 0, 0, 0, 1, 0], [0, 1, 0, 0, 0, 1, 0, 1, 1, 1]), ([0, 1, 1, 0, 0, 0, 0, 0, 1, 1], [0, 0, 0, 0, 0, 0, 1, 0, 1, 1]), ([0, 1, 1, 0, 0, 0, 0, 1, 0, 0], [0, 1, 0, 0, 0, 1, 0, 1, 0, 0]), ([0, 1, 1, 0, 0, 0, 0, 1, 0, 1], [0, 0, 0, 0, 0, 0, 1, 0, 0, 0]), ([0, 1, 1, 0, 0, 0, 0, 1, 1, 0], [0, 1, 0, 0, 0, 1, 0, 1, 0, 0]), ([0, 1, 1, 0, 0, 0, 0, 1, 1, 1], [0, 0, 0, 0, 0, 0, 1, 0, 1, 0]), ([0, 1, 1, 0, 0, 0, 1, 0, 0, 0], [0, 1, 0, 0, 0, 1, 0, 1, 1, 0]), ([0, 1, 1, 0, 0, 0, 1, 0, 0, 1], [0, 0, 0, 0, 0, 0, 1, 1, 1, 0]), ([0, 1, 1, 0, 0, 0, 1, 0, 1, 0], [0, 1, 0, 0, 0, 1, 0, 1, 1, 0]), ([0, 1, 1, 0, 0, 0, 1, 0, 1, 1], [0, 0, 0, 0, 0, 0, 1, 1, 1, 0]), ([0, 1, 1, 0, 0, 0, 1, 1, 0, 0], [0, 1, 0, 0, 0, 1, 0, 1, 0, 0]), ([0, 1, 1, 0, 0, 0, 1, 1, 0, 1], [0, 0, 0, 0, 0, 0, 1, 1, 0, 0]), ([0, 1, 1, 0, 0, 0, 1, 1, 1, 0], [0, 1, 0, 0, 0, 1, 0, 1, 1, 0]), ([0, 1, 1, 0, 0, 0, 1, 1, 1, 1], [0, 0, 0, 0, 0, 0, 1, 1, 1, 0]), ([0, 1, 1, 0, 0, 1, 0, 0, 0, 0], [0, 1, 0, 0, 0, 1, 0, 1, 1, 1]), ([0, 1, 1, 0, 0, 1, 0, 0, 0, 1], [0, 0, 0, 0, 0, 0, 1, 0, 1, 1]), ([0, 1, 1, 0, 0, 1, 0, 0, 1, 0], [0, 1, 0, 0, 0, 1, 0, 1, 1, 1]), ([0, 1, 1, 0, 0, 1, 0, 0, 1, 1], [0, 0, 0, 0, 0, 0, 1, 0, 1, 1]), ([0, 1, 1, 0, 0, 1, 0, 1, 0, 0], [0, 1, 0, 0, 0, 1, 0, 1, 0, 0]), ([0, 1, 1, 0, 0, 1, 0, 1, 0, 1], [0, 0, 0, 0, 0, 0, 1, 0, 0, 0]), ([0, 1, 1, 0, 0, 1, 0, 1, 1, 0], [0, 1, 0, 0, 0, 1, 0, 1, 0, 0]), ([0, 1, 1, 0, 0, 1, 0, 1, 1, 1], [0, 0, 0, 0, 0, 0, 1, 0, 1, 0]), ([0, 1, 1, 0, 0, 1, 1, 0, 0, 0], [0, 1, 0, 0, 0, 1, 0, 1, 1, 0]), ([0, 1, 1, 0, 0, 1, 1, 0, 0, 1], [0, 0, 0, 0, 0, 0, 1, 1, 1, 0]), ([0, 1, 1, 0, 0, 1, 1, 0, 1, 0], [0, 1, 0, 0, 0, 1, 0, 1, 1, 0]), ([0, 1, 1, 0, 0, 1, 1, 0, 1, 1], [0, 0, 0, 0, 0, 0, 1, 1, 1, 0]), ([0, 1, 1, 0, 0, 1, 1, 1, 0, 0], [0, 1, 0, 0, 0, 1, 0, 1, 0, 0]), ([0, 1, 1, 0, 0, 1, 1, 1, 0, 1], [0, 0, 0, 0, 0, 0, 1, 1, 0, 0]), ([0, 1, 1, 0, 0, 1, 1, 1, 1, 0], [0, 1, 0, 0, 0, 1, 0, 1, 1, 0]), ([0, 1, 1, 0, 0, 1, 1, 1, 1, 1], [0, 0, 0, 0, 0, 0, 1, 1, 1, 0]), ([0, 1, 1, 0, 1, 0, 0, 0, 0, 0], [0, 0, 0, 0, 0, 0, 0, 0, 1, 1]), ([0, 1, 1, 0, 1, 0, 0, 0, 0, 1], [0, 0, 0, 0, 0, 0, 1, 0, 1, 1]), ([0, 1, 1, 0, 1, 0, 0, 0, 1, 0], [0, 0, 0, 0, 0, 0, 0, 0, 1, 1]), ([0, 1, 1, 0, 1, 0, 0, 0, 1, 1], [0, 0, 0, 0, 0, 0, 1, 0, 1, 1]), ([0, 1, 1, 0, 1, 0, 0, 1, 0, 0], [0, 0, 0, 0, 0, 0, 0, 0, 0, 0]), ([0, 1, 1, 0, 1, 0, 0, 1, 0, 1], [0, 0, 0, 0, 0, 0, 1, 0, 0, 0]), ([0, 1, 1, 0, 1, 0, 0, 1, 1, 0], [0, 0, 0, 0, 0, 0, 0, 0, 1, 0]), ([0, 1, 1, 0, 1, 0, 0, 1, 1, 1], [0, 0, 0, 0, 0, 0, 1, 0, 1, 0]), ([0, 1, 1, 0, 1, 0, 1, 0, 0, 0], [0, 0, 0, 0, 0, 0, 0, 1, 1, 0]), ([0, 1, 1, 0, 1, 0, 1, 0, 0, 1], [0, 0, 0, 0, 0, 0, 1, 1, 1, 0]), ([0, 1, 1, 0, 1, 0, 1, 0, 1, 0], [0, 0, 0, 0, 0, 0, 0, 1, 1, 0]), ([0, 1, 1, 0, 1, 0, 1, 0, 1, 1], [0, 0, 0, 0, 0, 0, 1, 1, 1, 0]), ([0, 1, 1, 0, 1, 0, 1, 1, 0, 0], [0, 0, 0, 0, 0, 0, 0, 1, 0, 0]), ([0, 1, 1, 0, 1, 0, 1, 1, 0, 1], [0, 0, 0, 0, 0, 0, 1, 1, 0, 0]), ([0, 1, 1, 0, 1, 0, 1, 1, 1, 0], [0, 0, 0, 0, 0, 0, 0, 1, 1, 0]), ([0, 1, 1, 0, 1, 0, 1, 1, 1, 1], [0, 0, 0, 0, 0, 0, 1, 1, 1, 0]), ([0, 1, 1, 0, 1, 1, 0, 0, 0, 0], [0, 1, 0, 0, 0, 1, 0, 1, 1, 1]), ([0, 1, 1, 0, 1, 1, 0, 0, 0, 1], [0, 0, 0, 0, 0, 0, 1, 0, 1, 1]), ([0, 1, 1, 0, 1, 1, 0, 0, 1, 0], [0, 1, 0, 0, 0, 1, 0, 1, 1, 1]), ([0, 1, 1, 0, 1, 1, 0, 0, 1, 1], [0, 0, 0, 0, 0, 0, 1, 0, 1, 1]), ([0, 1, 1, 0, 1, 1, 0, 1, 0, 0], [0, 1, 0, 0, 0, 1, 0, 1, 0, 0]), ([0, 1, 1, 0, 1, 1, 0, 1, 0, 1], [0, 0, 0, 0, 0, 0, 1, 0, 0, 0]), ([0, 1, 1, 0, 1, 1, 0, 1, 1, 0], [0, 1, 0, 0, 0, 1, 0, 1, 1, 0]), ([0, 1, 1, 0, 1, 1, 0, 1, 1, 1], [0, 0, 0, 0, 0, 0, 1, 0, 1, 0]), ([0, 1, 1, 0, 1, 1, 1, 0, 0, 0], [0, 1, 0, 0, 0, 1, 0, 1, 1, 0]), ([0, 1, 1, 0, 1, 1, 1, 0, 0, 1], [0, 0, 0, 0, 0, 0, 1, 1, 1, 0]), ([0, 1, 1, 0, 1, 1, 1, 0, 1, 0], [0, 1, 0, 0, 0, 1, 0, 1, 1, 0]), ([0, 1, 1, 0, 1, 1, 1, 0, 1, 1], [0, 0, 0, 0, 0, 0, 1, 1, 1, 0]), ([0, 1, 1, 0, 1, 1, 1, 1, 0, 0], [0, 1, 0, 0, 0, 1, 0, 1, 0, 0]), ([0, 1, 1, 0, 1, 1, 1, 1, 0, 1], [0, 0, 0, 0, 0, 0, 1, 1, 0, 0]), ([0, 1, 1, 0, 1, 1, 1, 1, 1, 0], [0, 1, 0, 0, 0, 1, 0, 1, 1, 0]), ([0, 1, 1, 0, 1, 1, 1, 1, 1, 1], [0, 0, 0, 0, 0, 0, 1, 1, 1, 0]), ([0, 1, 1, 1, 0, 0, 0, 0, 0, 0], [0, 0, 0, 0, 0, 0, 0, 1, 1, 1]), ([0, 1, 1, 1, 0, 0, 0, 0, 0, 1], [0, 0, 0, 0, 0, 0, 1, 0, 1, 1]), ([0, 1, 1, 1, 0, 0, 0, 0, 1, 0], [0, 0, 0, 0, 0, 0, 0, 1, 1, 1]), ([0, 1, 1, 1, 0, 0, 0, 0, 1, 1], [0, 0, 0, 0, 0, 0, 1, 0, 1, 1]), ([0, 1, 1, 1, 0, 0, 0, 1, 0, 0], [0, 0, 0, 0, 0, 0, 0, 1, 0, 0]), ([0, 1, 1, 1, 0, 0, 0, 1, 0, 1], [0, 0, 0, 0, 0, 0, 1, 0, 0, 0]), ([0, 1, 1, 1, 0, 0, 0, 1, 1, 0], [0, 0, 0, 0, 0, 0, 0, 1, 0, 0]), ([0, 1, 1, 1, 0, 0, 0, 1, 1, 1], [0, 0, 0, 0, 0, 0, 1, 0, 1, 0]), ([0, 1, 1, 1, 0, 0, 1, 0, 0, 0], [0, 0, 0, 0, 0, 0, 0, 1, 1, 0]), ([0, 1, 1, 1, 0, 0, 1, 0, 0, 1], [0, 0, 0, 0, 0, 0, 1, 1, 1, 0]), ([0, 1, 1, 1, 0, 0, 1, 0, 1, 0], [0, 0, 0, 0, 0, 0, 0, 1, 1, 0]), ([0, 1, 1, 1, 0, 0, 1, 0, 1, 1], [0, 0, 0, 0, 0, 0, 1, 1, 1, 0]), ([0, 1, 1, 1, 0, 0, 1, 1, 0, 0], [0, 0, 0, 0, 0, 0, 0, 1, 0, 0]), ([0, 1, 1, 1, 0, 0, 1, 1, 0, 1], [0, 0, 0, 0, 0, 0, 1, 1, 0, 0]), ([0, 1, 1, 1, 0, 0, 1, 1, 1, 0], [0, 0, 0, 0, 0, 0, 0, 1, 1, 0]), ([0, 1, 1, 1, 0, 0, 1, 1, 1, 1], [0, 0, 0, 0, 0, 0, 1, 1, 1, 0]), ([0, 1, 1, 1, 0, 1, 0, 0, 0, 0], [0, 1, 0, 0, 0, 1, 0, 1, 1, 1]), ([0, 1, 1, 1, 0, 1, 0, 0, 0, 1], [0, 0, 0, 0, 0, 0, 1, 0, 1, 1]), ([0, 1, 1, 1, 0, 1, 0, 0, 1, 0], [0, 1, 0, 0, 0, 1, 0, 1, 1, 1]), ([0, 1, 1, 1, 0, 1, 0, 0, 1, 1], [0, 0, 0, 0, 0, 0, 1, 0, 1, 1]), ([0, 1, 1, 1, 0, 1, 0, 1, 0, 0], [0, 1, 0, 0, 0, 1, 0, 1, 0, 0]), ([0, 1, 1, 1, 0, 1, 0, 1, 0, 1], [0, 0, 0, 0, 0, 0, 1, 0, 0, 0]), ([0, 1, 1, 1, 0, 1, 0, 1, 1, 0], [0, 1, 0, 0, 0, 1, 0, 1, 0, 0]), ([0, 1, 1, 1, 0, 1, 0, 1, 1, 1], [0, 0, 0, 0, 0, 0, 1, 0, 1, 0]), ([0, 1, 1, 1, 0, 1, 1, 0, 0, 0], [0, 1, 0, 0, 0, 1, 0, 1, 1, 0]), ([0, 1, 1, 1, 0, 1, 1, 0, 0, 1], [0, 0, 0, 0, 0, 0, 1, 1, 1, 0]), ([0, 1, 1, 1, 0, 1, 1, 0, 1, 0], [0, 1, 0, 0, 0, 1, 0, 1, 1, 0]), ([0, 1, 1, 1, 0, 1, 1, 0, 1, 1], [0, 0, 0, 0, 0, 0, 1, 1, 1, 0]), ([0, 1, 1, 1, 0, 1, 1, 1, 0, 0], [0, 1, 0, 0, 0, 1, 0, 1, 0, 0]), ([0, 1, 1, 1, 0, 1, 1, 1, 0, 1], [0, 0, 0, 0, 0, 0, 1, 1, 0, 0]), ([0, 1, 1, 1, 0, 1, 1, 1, 1, 0], [0, 1, 0, 0, 0, 1, 0, 1, 1, 0]), ([0, 1, 1, 1, 0, 1, 1, 1, 1, 1], [0, 0, 0, 0, 0, 0, 1, 1, 1, 0]), ([0, 1, 1, 1, 1, 0, 0, 0, 0, 0], [0, 0, 0, 0, 0, 0, 0, 0, 1, 1]), ([0, 1, 1, 1, 1, 0, 0, 0, 0, 1], [0, 0, 0, 0, 0, 0, 1, 0, 1, 1]), ([0, 1, 1, 1, 1, 0, 0, 0, 1, 0], [0, 0, 0, 0, 0, 0, 0, 0, 1, 1]), ([0, 1, 1, 1, 1, 0, 0, 0, 1, 1], [0, 0, 0, 0, 0, 0, 1, 0, 1, 1]), ([0, 1, 1, 1, 1, 0, 0, 1, 0, 0], [0, 0, 0, 0, 0, 0, 0, 0, 0, 0]), ([0, 1, 1, 1, 1, 0, 0, 1, 0, 1], [0, 0, 0, 0, 0, 0, 1, 0, 0, 0]), ([0, 1, 1, 1, 1, 0, 0, 1, 1, 0], [0, 0, 0, 0, 0, 0, 0, 0, 1, 0]), ([0, 1, 1, 1, 1, 0, 0, 1, 1, 1], [0, 0, 0, 0, 0, 0, 1, 0, 1, 0]), ([0, 1, 1, 1, 1, 0, 1, 0, 0, 0], [0, 0, 0, 0, 0, 0, 0, 1, 1, 0]), ([0, 1, 1, 1, 1, 0, 1, 0, 0, 1], [0, 0, 0, 0, 0, 0, 1, 1, 1, 0]), ([0, 1, 1, 1, 1, 0, 1, 0, 1, 0], [0, 0, 0, 0, 0, 0, 0, 1, 1, 0]), ([0, 1, 1, 1, 1, 0, 1, 0, 1, 1], [0, 0, 0, 0, 0, 0, 1, 1, 1, 0]), ([0, 1, 1, 1, 1, 0, 1, 1, 0, 0], [0, 0, 0, 0, 0, 0, 0, 1, 0, 0]), ([0, 1, 1, 1, 1, 0, 1, 1, 0, 1], [0, 0, 0, 0, 0, 0, 1, 1, 0, 0]), ([0, 1, 1, 1, 1, 0, 1, 1, 1, 0], [0, 0, 0, 0, 0, 0, 0, 1, 1, 0]), ([0, 1, 1, 1, 1, 0, 1, 1, 1, 1], [0, 0, 0, 0, 0, 0, 1, 1, 1, 0]), ([0, 1, 1, 1, 1, 1, 0, 0, 0, 0], [0, 1, 0, 0, 0, 0, 0, 1, 1, 1]), ([0, 1, 1, 1, 1, 1, 0, 0, 0, 1], [0, 0, 0, 0, 0, 0, 1, 0, 1, 1]), ([0, 1, 1, 1, 1, 1, 0, 0, 1, 0], [0, 1, 0, 0, 0, 0, 0, 1, 1, 1]), ([0, 1, 1, 1, 1, 1, 0, 0, 1, 1], [0, 0, 0, 0, 0, 0, 1, 0, 1, 1]), ([0, 1, 1, 1, 1, 1, 0, 1, 0, 0], [0, 1, 0, 0, 0, 0, 0, 1, 0, 0]), ([0, 1, 1, 1, 1, 1, 0, 1, 0, 1], [0, 0, 0, 0, 0, 0, 1, 0, 0, 0]), ([0, 1, 1, 1, 1, 1, 0, 1, 1, 0], [0, 1, 0, 0, 0, 0, 0, 1, 1, 0]), ([0, 1, 1, 1, 1, 1, 0, 1, 1, 1], [0, 0, 0, 0, 0, 0, 1, 0, 1, 0]), ([0, 1, 1, 1, 1, 1, 1, 0, 0, 0], [0, 1, 0, 0, 0, 0, 0, 1, 1, 0]), ([0, 1, 1, 1, 1, 1, 1, 0, 0, 1], [0, 0, 0, 0, 0, 0, 1, 1, 1, 0]), ([0, 1, 1, 1, 1, 1, 1, 0, 1, 0], [0, 1, 0, 0, 0, 0, 0, 1, 1, 0]), ([0, 1, 1, 1, 1, 1, 1, 0, 1, 1], [0, 0, 0, 0, 0, 0, 1, 1, 1, 0]), ([0, 1, 1, 1, 1, 1, 1, 1, 0, 0], [0, 1, 0, 0, 0, 0, 0, 1, 0, 0]), ([0, 1, 1, 1, 1, 1, 1, 1, 0, 1], [0, 0, 0, 0, 0, 0, 1, 1, 0, 0]), ([0, 1, 1, 1, 1, 1, 1, 1, 1, 0], [0, 1, 0, 0, 0, 0, 0, 1, 1, 0]), ([0, 1, 1, 1, 1, 1, 1, 1, 1, 1], [0, 0, 0, 0, 0, 0, 1, 1, 1, 0]), ([1, 0, 0, 0, 0, 0, 0, 0, 0, 0], [1, 0, 1, 0, 0, 0, 0, 1, 1, 1]), ([1, 0, 0, 0, 0, 0, 0, 0, 0, 1], [1, 0, 0, 0, 0, 0, 1, 0, 1, 1]), ([1, 0, 0, 0, 0, 0, 0, 0, 1, 0], [1, 0, 1, 0, 0, 0, 0, 1, 1, 1]), ([1, 0, 0, 0, 0, 0, 0, 0, 1, 1], [1, 0, 0, 0, 0, 0, 1, 0, 1, 1]), ([1, 0, 0, 0, 0, 0, 0, 1, 0, 0], [1, 0, 1, 0, 0, 0, 0, 1, 0, 0]), ([1, 0, 0, 0, 0, 0, 0, 1, 0, 1], [1, 0, 0, 0, 0, 0, 1, 0, 0, 0]), ([1, 0, 0, 0, 0, 0, 0, 1, 1, 0], [1, 0, 1, 0, 0, 0, 0, 1, 0, 0]), ([1, 0, 0, 0, 0, 0, 0, 1, 1, 1], [1, 0, 0, 0, 0, 0, 1, 0, 1, 0]), ([1, 0, 0, 0, 0, 0, 1, 0, 0, 0], [1, 0, 1, 0, 0, 0, 0, 1, 1, 0]), ([1, 0, 0, 0, 0, 0, 1, 0, 0, 1], [1, 0, 0, 0, 0, 0, 1, 1, 1, 0]), ([1, 0, 0, 0, 0, 0, 1, 0, 1, 0], [1, 0, 1, 0, 0, 0, 0, 1, 1, 0]), ([1, 0, 0, 0, 0, 0, 1, 0, 1, 1], [1, 0, 0, 0, 0, 0, 1, 1, 1, 0]), ([1, 0, 0, 0, 0, 0, 1, 1, 0, 0], [1, 0, 1, 0, 0, 0, 0, 1, 0, 0]), ([1, 0, 0, 0, 0, 0, 1, 1, 0, 1], [1, 0, 0, 0, 0, 0, 1, 1, 0, 0]), ([1, 0, 0, 0, 0, 0, 1, 1, 1, 0], [1, 0, 1, 0, 0, 0, 0, 1, 1, 0]), ([1, 0, 0, 0, 0, 0, 1, 1, 1, 1], [1, 0, 0, 0, 0, 0, 1, 1, 1, 0]), ([1, 0, 0, 0, 0, 1, 0, 0, 0, 0], [1, 0, 1, 0, 0, 0, 0, 1, 1, 1]), ([1, 0, 0, 0, 0, 1, 0, 0, 0, 1], [1, 0, 0, 0, 0, 0, 1, 0, 1, 1]), ([1, 0, 0, 0, 0, 1, 0, 0, 1, 0], [1, 0, 1, 0, 0, 0, 0, 1, 1, 1]), ([1, 0, 0, 0, 0, 1, 0, 0, 1, 1], [1, 0, 0, 0, 0, 0, 1, 0, 1, 1]), ([1, 0, 0, 0, 0, 1, 0, 1, 0, 0], [1, 0, 1, 0, 0, 0, 0, 1, 0, 0]), ([1, 0, 0, 0, 0, 1, 0, 1, 0, 1], [1, 0, 0, 0, 0, 0, 1, 0, 0, 0]), ([1, 0, 0, 0, 0, 1, 0, 1, 1, 0], [1, 0, 1, 0, 0, 0, 0, 1, 0, 0]), ([1, 0, 0, 0, 0, 1, 0, 1, 1, 1], [1, 0, 0, 0, 0, 0, 1, 0, 1, 0]), ([1, 0, 0, 0, 0, 1, 1, 0, 0, 0], [1, 0, 1, 0, 0, 0, 0, 1, 1, 0]), ([1, 0, 0, 0, 0, 1, 1, 0, 0, 1], [1, 0, 0, 0, 0, 0, 1, 1, 1, 0]), ([1, 0, 0, 0, 0, 1, 1, 0, 1, 0], [1, 0, 1, 0, 0, 0, 0, 1, 1, 0]), ([1, 0, 0, 0, 0, 1, 1, 0, 1, 1], [1, 0, 0, 0, 0, 0, 1, 1, 1, 0]), ([1, 0, 0, 0, 0, 1, 1, 1, 0, 0], [1, 0, 1, 0, 0, 0, 0, 1, 0, 0]), ([1, 0, 0, 0, 0, 1, 1, 1, 0, 1], [1, 0, 0, 0, 0, 0, 1, 1, 0, 0]), ([1, 0, 0, 0, 0, 1, 1, 1, 1, 0], [1, 0, 1, 0, 0, 0, 0, 1, 1, 0]), ([1, 0, 0, 0, 0, 1, 1, 1, 1, 1], [1, 0, 0, 0, 0, 0, 1, 1, 1, 0]), ([1, 0, 0, 0, 1, 0, 0, 0, 0, 0], [1, 0, 0, 0, 1, 0, 0, 0, 1, 1]), ([1, 0, 0, 0, 1, 0, 0, 0, 0, 1], [1, 0, 0, 0, 1, 0, 1, 0, 1, 1]), ([1, 0, 0, 0, 1, 0, 0, 0, 1, 0], [1, 0, 0, 0, 1, 0, 0, 0, 1, 1]), ([1, 0, 0, 0, 1, 0, 0, 0, 1, 1], [1, 0, 0, 0, 1, 0, 1, 0, 1, 1]), ([1, 0, 0, 0, 1, 0, 0, 1, 0, 0], [1, 0, 0, 0, 1, 0, 0, 0, 0, 0]), ([1, 0, 0, 0, 1, 0, 0, 1, 0, 1], [1, 0, 0, 0, 1, 0, 1, 0, 0, 0]), ([1, 0, 0, 0, 1, 0, 0, 1, 1, 0], [1, 0, 0, 0, 0, 0, 0, 0, 1, 0]), ([1, 0, 0, 0, 1, 0, 0, 1, 1, 1], [1, 0, 0, 0, 0, 0, 1, 0, 1, 0]), ([1, 0, 0, 0, 1, 0, 1, 0, 0, 0], [1, 0, 0, 0, 0, 0, 0, 1, 1, 0]), ([1, 0, 0, 0, 1, 0, 1, 0, 0, 1], [1, 0, 0, 0, 0, 0, 1, 1, 1, 0]), ([1, 0, 0, 0, 1, 0, 1, 0, 1, 0], [1, 0, 0, 0, 0, 0, 0, 1, 1, 0]), ([1, 0, 0, 0, 1, 0, 1, 0, 1, 1], [1, 0, 0, 0, 0, 0, 1, 1, 1, 0]), ([1, 0, 0, 0, 1, 0, 1, 1, 0, 0], [1, 0, 0, 0, 0, 0, 0, 1, 0, 0]), ([1, 0, 0, 0, 1, 0, 1, 1, 0, 1], [1, 0, 0, 0, 0, 0, 1, 1, 0, 0]), ([1, 0, 0, 0, 1, 0, 1, 1, 1, 0], [1, 0, 0, 0, 0, 0, 0, 1, 1, 0]), ([1, 0, 0, 0, 1, 0, 1, 1, 1, 1], [1, 0, 0, 0, 0, 0, 1, 1, 1, 0]), ([1, 0, 0, 0, 1, 1, 0, 0, 0, 0], [1, 0, 1, 0, 1, 0, 0, 1, 1, 1]), ([1, 0, 0, 0, 1, 1, 0, 0, 0, 1], [1, 0, 0, 0, 1, 0, 1, 0, 1, 1]), ([1, 0, 0, 0, 1, 1, 0, 0, 1, 0], [1, 0, 1, 0, 1, 0, 0, 1, 1, 1]), ([1, 0, 0, 0, 1, 1, 0, 0, 1, 1], [1, 0, 0, 0, 1, 0, 1, 0, 1, 1]), ([1, 0, 0, 0, 1, 1, 0, 1, 0, 0], [1, 0, 1, 0, 1, 0, 0, 1, 0, 0]), ([1, 0, 0, 0, 1, 1, 0, 1, 0, 1], [1, 0, 0, 0, 1, 0, 1, 0, 0, 0]), ([1, 0, 0, 0, 1, 1, 0, 1, 1, 0], [1, 0, 1, 0, 0, 0, 0, 1, 1, 0]), ([1, 0, 0, 0, 1, 1, 0, 1, 1, 1], [1, 0, 0, 0, 0, 0, 1, 0, 1, 0]), ([1, 0, 0, 0, 1, 1, 1, 0, 0, 0], [1, 0, 1, 0, 0, 0, 0, 1, 1, 0]), ([1, 0, 0, 0, 1, 1, 1, 0, 0, 1], [1, 0, 0, 0, 0, 0, 1, 1, 1, 0]), ([1, 0, 0, 0, 1, 1, 1, 0, 1, 0], [1, 0, 1, 0, 0, 0, 0, 1, 1, 0]), ([1, 0, 0, 0, 1, 1, 1, 0, 1, 1], [1, 0, 0, 0, 0, 0, 1, 1, 1, 0]), ([1, 0, 0, 0, 1, 1, 1, 1, 0, 0], [1, 0, 1, 0, 0, 0, 0, 1, 0, 0]), ([1, 0, 0, 0, 1, 1, 1, 1, 0, 1], [1, 0, 0, 0, 0, 0, 1, 1, 0, 0]), ([1, 0, 0, 0, 1, 1, 1, 1, 1, 0], [1, 0, 1, 0, 0, 0, 0, 1, 1, 0]), ([1, 0, 0, 0, 1, 1, 1, 1, 1, 1], [1, 0, 0, 0, 0, 0, 1, 1, 1, 0]), ([1, 0, 0, 1, 0, 0, 0, 0, 0, 0], [1, 0, 1, 0, 0, 0, 0, 1, 1, 1]), ([1, 0, 0, 1, 0, 0, 0, 0, 0, 1], [1, 0, 0, 0, 0, 0, 1, 0, 1, 1]), ([1, 0, 0, 1, 0, 0, 0, 0, 1, 0], [1, 0, 1, 0, 0, 0, 0, 1, 1, 1]), ([1, 0, 0, 1, 0, 0, 0, 0, 1, 1], [1, 0, 0, 0, 0, 0, 1, 0, 1, 1]), ([1, 0, 0, 1, 0, 0, 0, 1, 0, 0], [1, 0, 1, 0, 0, 0, 0, 1, 0, 0]), ([1, 0, 0, 1, 0, 0, 0, 1, 0, 1], [1, 0, 0, 0, 0, 0, 1, 0, 0, 0]), ([1, 0, 0, 1, 0, 0, 0, 1, 1, 0], [1, 0, 1, 0, 0, 0, 0, 1, 0, 0]), ([1, 0, 0, 1, 0, 0, 0, 1, 1, 1], [1, 0, 0, 0, 0, 0, 1, 0, 1, 0]), ([1, 0, 0, 1, 0, 0, 1, 0, 0, 0], [1, 0, 1, 0, 0, 0, 0, 1, 1, 0]), ([1, 0, 0, 1, 0, 0, 1, 0, 0, 1], [1, 0, 0, 0, 0, 0, 1, 1, 1, 0]), ([1, 0, 0, 1, 0, 0, 1, 0, 1, 0], [1, 0, 1, 0, 0, 0, 0, 1, 1, 0]), ([1, 0, 0, 1, 0, 0, 1, 0, 1, 1], [1, 0, 0, 0, 0, 0, 1, 1, 1, 0]), ([1, 0, 0, 1, 0, 0, 1, 1, 0, 0], [1, 0, 1, 0, 0, 0, 0, 1, 0, 0]), ([1, 0, 0, 1, 0, 0, 1, 1, 0, 1], [1, 0, 0, 0, 0, 0, 1, 1, 0, 0]), ([1, 0, 0, 1, 0, 0, 1, 1, 1, 0], [1, 0, 1, 0, 0, 0, 0, 1, 1, 0]), ([1, 0, 0, 1, 0, 0, 1, 1, 1, 1], [1, 0, 0, 0, 0, 0, 1, 1, 1, 0]), ([1, 0, 0, 1, 0, 1, 0, 0, 0, 0], [1, 0, 1, 0, 0, 0, 0, 1, 1, 1]), ([1, 0, 0, 1, 0, 1, 0, 0, 0, 1], [1, 0, 0, 0, 0, 0, 1, 0, 1, 1]), ([1, 0, 0, 1, 0, 1, 0, 0, 1, 0], [1, 0, 1, 0, 0, 0, 0, 1, 1, 1]), ([1, 0, 0, 1, 0, 1, 0, 0, 1, 1], [1, 0, 0, 0, 0, 0, 1, 0, 1, 1]), ([1, 0, 0, 1, 0, 1, 0, 1, 0, 0], [1, 0, 1, 0, 0, 0, 0, 1, 0, 0]), ([1, 0, 0, 1, 0, 1, 0, 1, 0, 1], [1, 0, 0, 0, 0, 0, 1, 0, 0, 0]), ([1, 0, 0, 1, 0, 1, 0, 1, 1, 0], [1, 0, 1, 0, 0, 0, 0, 1, 0, 0]), ([1, 0, 0, 1, 0, 1, 0, 1, 1, 1], [1, 0, 0, 0, 0, 0, 1, 0, 1, 0]), ([1, 0, 0, 1, 0, 1, 1, 0, 0, 0], [1, 0, 1, 0, 0, 0, 0, 1, 1, 0]), ([1, 0, 0, 1, 0, 1, 1, 0, 0, 1], [1, 0, 0, 0, 0, 0, 1, 1, 1, 0]), ([1, 0, 0, 1, 0, 1, 1, 0, 1, 0], [1, 0, 1, 0, 0, 0, 0, 1, 1, 0]), ([1, 0, 0, 1, 0, 1, 1, 0, 1, 1], [1, 0, 0, 0, 0, 0, 1, 1, 1, 0]), ([1, 0, 0, 1, 0, 1, 1, 1, 0, 0], [1, 0, 1, 0, 0, 0, 0, 1, 0, 0]), ([1, 0, 0, 1, 0, 1, 1, 1, 0, 1], [1, 0, 0, 0, 0, 0, 1, 1, 0, 0]), ([1, 0, 0, 1, 0, 1, 1, 1, 1, 0], [1, 0, 1, 0, 0, 0, 0, 1, 1, 0]), ([1, 0, 0, 1, 0, 1, 1, 1, 1, 1], [1, 0, 0, 0, 0, 0, 1, 1, 1, 0]), ([1, 0, 0, 1, 1, 0, 0, 0, 0, 0], [1, 0, 0, 0, 1, 0, 0, 0, 1, 1]), ([1, 0, 0, 1, 1, 0, 0, 0, 0, 1], [1, 0, 0, 0, 1, 0, 1, 0, 1, 1]), ([1, 0, 0, 1, 1, 0, 0, 0, 1, 0], [1, 0, 0, 0, 1, 0, 0, 0, 1, 1]), ([1, 0, 0, 1, 1, 0, 0, 0, 1, 1], [1, 0, 0, 0, 1, 0, 1, 0, 1, 1]), ([1, 0, 0, 1, 1, 0, 0, 1, 0, 0], [1, 0, 0, 0, 1, 0, 0, 0, 0, 0]), ([1, 0, 0, 1, 1, 0, 0, 1, 0, 1], [1, 0, 0, 0, 1, 0, 1, 0, 0, 0]), ([1, 0, 0, 1, 1, 0, 0, 1, 1, 0], [1, 0, 0, 0, 0, 0, 0, 0, 1, 0]), ([1, 0, 0, 1, 1, 0, 0, 1, 1, 1], [1, 0, 0, 0, 0, 0, 1, 0, 1, 0]), ([1, 0, 0, 1, 1, 0, 1, 0, 0, 0], [1, 0, 0, 0, 0, 0, 0, 1, 1, 0]), ([1, 0, 0, 1, 1, 0, 1, 0, 0, 1], [1, 0, 0, 0, 0, 0, 1, 1, 1, 0]), ([1, 0, 0, 1, 1, 0, 1, 0, 1, 0], [1, 0, 0, 0, 0, 0, 0, 1, 1, 0]), ([1, 0, 0, 1, 1, 0, 1, 0, 1, 1], [1, 0, 0, 0, 0, 0, 1, 1, 1, 0]), ([1, 0, 0, 1, 1, 0, 1, 1, 0, 0], [1, 0, 0, 0, 0, 0, 0, 1, 0, 0]), ([1, 0, 0, 1, 1, 0, 1, 1, 0, 1], [1, 0, 0, 0, 0, 0, 1, 1, 0, 0]), ([1, 0, 0, 1, 1, 0, 1, 1, 1, 0], [1, 0, 0, 0, 0, 0, 0, 1, 1, 0]), ([1, 0, 0, 1, 1, 0, 1, 1, 1, 1], [1, 0, 0, 0, 0, 0, 1, 1, 1, 0]), ([1, 0, 0, 1, 1, 1, 0, 0, 0, 0], [1, 0, 1, 0, 1, 0, 0, 1, 1, 1]), ([1, 0, 0, 1, 1, 1, 0, 0, 0, 1], [1, 0, 0, 0, 1, 0, 1, 0, 1, 1]), ([1, 0, 0, 1, 1, 1, 0, 0, 1, 0], [1, 0, 1, 0, 1, 0, 0, 1, 1, 1]), ([1, 0, 0, 1, 1, 1, 0, 0, 1, 1], [1, 0, 0, 0, 1, 0, 1, 0, 1, 1]), ([1, 0, 0, 1, 1, 1, 0, 1, 0, 0], [1, 0, 1, 0, 1, 0, 0, 1, 0, 0]), ([1, 0, 0, 1, 1, 1, 0, 1, 0, 1], [1, 0, 0, 0, 1, 0, 1, 0, 0, 0]), ([1, 0, 0, 1, 1, 1, 0, 1, 1, 0], [1, 0, 1, 0, 0, 0, 0, 1, 1, 0]), ([1, 0, 0, 1, 1, 1, 0, 1, 1, 1], [1, 0, 0, 0, 0, 0, 1, 0, 1, 0]), ([1, 0, 0, 1, 1, 1, 1, 0, 0, 0], [1, 0, 1, 0, 0, 0, 0, 1, 1, 0]), ([1, 0, 0, 1, 1, 1, 1, 0, 0, 1], [1, 0, 0, 0, 0, 0, 1, 1, 1, 0]), ([1, 0, 0, 1, 1, 1, 1, 0, 1, 0], [1, 0, 1, 0, 0, 0, 0, 1, 1, 0]), ([1, 0, 0, 1, 1, 1, 1, 0, 1, 1], [1, 0, 0, 0, 0, 0, 1, 1, 1, 0]), ([1, 0, 0, 1, 1, 1, 1, 1, 0, 0], [1, 0, 1, 0, 0, 0, 0, 1, 0, 0]), ([1, 0, 0, 1, 1, 1, 1, 1, 0, 1], [1, 0, 0, 0, 0, 0, 1, 1, 0, 0]), ([1, 0, 0, 1, 1, 1, 1, 1, 1, 0], [1, 0, 1, 0, 0, 0, 0, 1, 1, 0]), ([1, 0, 0, 1, 1, 1, 1, 1, 1, 1], [1, 0, 0, 0, 0, 0, 1, 1, 1, 0]), ([1, 0, 1, 0, 0, 0, 0, 0, 0, 0], [1, 0, 1, 1, 1, 0, 0, 1, 1, 1]), ([1, 0, 1, 0, 0, 0, 0, 0, 0, 1], [1, 0, 0, 1, 1, 0, 1, 0, 1, 1]), ([1, 0, 1, 0, 0, 0, 0, 0, 1, 0], [1, 0, 1, 1, 1, 0, 0, 1, 1, 1]), ([1, 0, 1, 0, 0, 0, 0, 0, 1, 1], [1, 0, 0, 1, 1, 0, 1, 0, 1, 1]), ([1, 0, 1, 0, 0, 0, 0, 1, 0, 0], [1, 0, 1, 1, 1, 0, 0, 1, 0, 0]), ([1, 0, 1, 0, 0, 0, 0, 1, 0, 1], [1, 0, 0, 1, 1, 0, 1, 0, 0, 0]), ([1, 0, 1, 0, 0, 0, 0, 1, 1, 0], [1, 0, 1, 1, 0, 0, 0, 1, 0, 0]), ([1, 0, 1, 0, 0, 0, 0, 1, 1, 1], [1, 0, 0, 1, 0, 0, 1, 0, 1, 0]), ([1, 0, 1, 0, 0, 0, 1, 0, 0, 0], [1, 0, 1, 1, 0, 0, 0, 1, 1, 0]), ([1, 0, 1, 0, 0, 0, 1, 0, 0, 1], [1, 0, 0, 1, 0, 0, 1, 1, 1, 0]), ([1, 0, 1, 0, 0, 0, 1, 0, 1, 0], [1, 0, 1, 1, 0, 0, 0, 1, 1, 0]), ([1, 0, 1, 0, 0, 0, 1, 0, 1, 1], [1, 0, 0, 1, 0, 0, 1, 1, 1, 0]), ([1, 0, 1, 0, 0, 0, 1, 1, 0, 0], [1, 0, 1, 1, 0, 0, 0, 1, 0, 0]), ([1, 0, 1, 0, 0, 0, 1, 1, 0, 1], [1, 0, 0, 1, 0, 0, 1, 1, 0, 0]), ([1, 0, 1, 0, 0, 0, 1, 1, 1, 0], [1, 0, 1, 1, 0, 0, 0, 1, 1, 0]), ([1, 0, 1, 0, 0, 0, 1, 1, 1, 1], [1, 0, 0, 1, 0, 0, 1, 1, 1, 0]), ([1, 0, 1, 0, 0, 1, 0, 0, 0, 0], [1, 0, 1, 1, 1, 0, 0, 1, 1, 1]), ([1, 0, 1, 0, 0, 1, 0, 0, 0, 1], [1, 0, 0, 1, 1, 0, 1, 0, 1, 1]), ([1, 0, 1, 0, 0, 1, 0, 0, 1, 0], [1, 0, 1, 1, 1, 0, 0, 1, 1, 1]), ([1, 0, 1, 0, 0, 1, 0, 0, 1, 1], [1, 0, 0, 1, 1, 0, 1, 0, 1, 1]), ([1, 0, 1, 0, 0, 1, 0, 1, 0, 0], [1, 0, 1, 1, 1, 0, 0, 1, 0, 0]), ([1, 0, 1, 0, 0, 1, 0, 1, 0, 1], [1, 0, 0, 1, 1, 0, 1, 0, 0, 0]), ([1, 0, 1, 0, 0, 1, 0, 1, 1, 0], [1, 0, 1, 1, 0, 0, 0, 1, 0, 0]), ([1, 0, 1, 0, 0, 1, 0, 1, 1, 1], [1, 0, 0, 1, 0, 0, 1, 0, 1, 0]), ([1, 0, 1, 0, 0, 1, 1, 0, 0, 0], [1, 0, 1, 1, 0, 0, 0, 1, 1, 0]), ([1, 0, 1, 0, 0, 1, 1, 0, 0, 1], [1, 0, 0, 1, 0, 0, 1, 1, 1, 0]), ([1, 0, 1, 0, 0, 1, 1, 0, 1, 0], [1, 0, 1, 1, 0, 0, 0, 1, 1, 0]), ([1, 0, 1, 0, 0, 1, 1, 0, 1, 1], [1, 0, 0, 1, 0, 0, 1, 1, 1, 0]), ([1, 0, 1, 0, 0, 1, 1, 1, 0, 0], [1, 0, 1, 1, 0, 0, 0, 1, 0, 0]), ([1, 0, 1, 0, 0, 1, 1, 1, 0, 1], [1, 0, 0, 1, 0, 0, 1, 1, 0, 0]), ([1, 0, 1, 0, 0, 1, 1, 1, 1, 0], [1, 0, 1, 1, 0, 0, 0, 1, 1, 0]), ([1, 0, 1, 0, 0, 1, 1, 1, 1, 1], [1, 0, 0, 1, 0, 0, 1, 1, 1, 0]), ([1, 0, 1, 0, 1, 0, 0, 0, 0, 0], [1, 0, 0, 1, 1, 0, 0, 0, 1, 1]), ([1, 0, 1, 0, 1, 0, 0, 0, 0, 1], [1, 0, 0, 1, 1, 0, 1, 0, 1, 1]), ([1, 0, 1, 0, 1, 0, 0, 0, 1, 0], [1, 0, 0, 1, 1, 0, 0, 0, 1, 1]), ([1, 0, 1, 0, 1, 0, 0, 0, 1, 1], [1, 0, 0, 1, 1, 0, 1, 0, 1, 1]), ([1, 0, 1, 0, 1, 0, 0, 1, 0, 0], [1, 0, 0, 1, 1, 0, 0, 0, 0, 0]), ([1, 0, 1, 0, 1, 0, 0, 1, 0, 1], [1, 0, 0, 1, 1, 0, 1, 0, 0, 0]), ([1, 0, 1, 0, 1, 0, 0, 1, 1, 0], [1, 0, 0, 1, 0, 0, 0, 0, 1, 0]), ([1, 0, 1, 0, 1, 0, 0, 1, 1, 1], [1, 0, 0, 1, 0, 0, 1, 0, 1, 0]), ([1, 0, 1, 0, 1, 0, 1, 0, 0, 0], [1, 0, 0, 1, 0, 0, 0, 1, 1, 0]), ([1, 0, 1, 0, 1, 0, 1, 0, 0, 1], [1, 0, 0, 1, 0, 0, 1, 1, 1, 0]), ([1, 0, 1, 0, 1, 0, 1, 0, 1, 0], [1, 0, 0, 1, 0, 0, 0, 1, 1, 0]), ([1, 0, 1, 0, 1, 0, 1, 0, 1, 1], [1, 0, 0, 1, 0, 0, 1, 1, 1, 0]), ([1, 0, 1, 0, 1, 0, 1, 1, 0, 0], [1, 0, 0, 1, 0, 0, 0, 1, 0, 0]), ([1, 0, 1, 0, 1, 0, 1, 1, 0, 1], [1, 0, 0, 1, 0, 0, 1, 1, 0, 0]), ([1, 0, 1, 0, 1, 0, 1, 1, 1, 0], [1, 0, 0, 1, 0, 0, 0, 1, 1, 0]), ([1, 0, 1, 0, 1, 0, 1, 1, 1, 1], [1, 0, 0, 1, 0, 0, 1, 1, 1, 0]), ([1, 0, 1, 0, 1, 1, 0, 0, 0, 0], [1, 0, 1, 1, 1, 0, 0, 1, 1, 1]), ([1, 0, 1, 0, 1, 1, 0, 0, 0, 1], [1, 0, 0, 1, 1, 0, 1, 0, 1, 1]), ([1, 0, 1, 0, 1, 1, 0, 0, 1, 0], [1, 0, 1, 1, 1, 0, 0, 1, 1, 1]), ([1, 0, 1, 0, 1, 1, 0, 0, 1, 1], [1, 0, 0, 1, 1, 0, 1, 0, 1, 1]), ([1, 0, 1, 0, 1, 1, 0, 1, 0, 0], [1, 0, 1, 1, 1, 0, 0, 1, 0, 0]), ([1, 0, 1, 0, 1, 1, 0, 1, 0, 1], [1, 0, 0, 1, 1, 0, 1, 0, 0, 0]), ([1, 0, 1, 0, 1, 1, 0, 1, 1, 0], [1, 0, 1, 1, 0, 0, 0, 1, 1, 0]), ([1, 0, 1, 0, 1, 1, 0, 1, 1, 1], [1, 0, 0, 1, 0, 0, 1, 0, 1, 0]), ([1, 0, 1, 0, 1, 1, 1, 0, 0, 0], [1, 0, 1, 1, 0, 0, 0, 1, 1, 0]), ([1, 0, 1, 0, 1, 1, 1, 0, 0, 1], [1, 0, 0, 1, 0, 0, 1, 1, 1, 0]), ([1, 0, 1, 0, 1, 1, 1, 0, 1, 0], [1, 0, 1, 1, 0, 0, 0, 1, 1, 0]), ([1, 0, 1, 0, 1, 1, 1, 0, 1, 1], [1, 0, 0, 1, 0, 0, 1, 1, 1, 0]), ([1, 0, 1, 0, 1, 1, 1, 1, 0, 0], [1, 0, 1, 1, 0, 0, 0, 1, 0, 0]), ([1, 0, 1, 0, 1, 1, 1, 1, 0, 1], [1, 0, 0, 1, 0, 0, 1, 1, 0, 0]), ([1, 0, 1, 0, 1, 1, 1, 1, 1, 0], [1, 0, 1, 1, 0, 0, 0, 1, 1, 0]), ([1, 0, 1, 0, 1, 1, 1, 1, 1, 1], [1, 0, 0, 1, 0, 0, 1, 1, 1, 0]), ([1, 0, 1, 1, 0, 0, 0, 0, 0, 0], [1, 0, 1, 1, 1, 0, 0, 1, 1, 1]), ([1, 0, 1, 1, 0, 0, 0, 0, 0, 1], [1, 0, 0, 1, 1, 0, 1, 0, 1, 1]), ([1, 0, 1, 1, 0, 0, 0, 0, 1, 0], [1, 0, 1, 1, 1, 0, 0, 1, 1, 1]), ([1, 0, 1, 1, 0, 0, 0, 0, 1, 1], [1, 0, 0, 1, 1, 0, 1, 0, 1, 1]), ([1, 0, 1, 1, 0, 0, 0, 1, 0, 0], [1, 0, 1, 1, 1, 0, 0, 1, 0, 0]), ([1, 0, 1, 1, 0, 0, 0, 1, 0, 1], [1, 0, 0, 1, 1, 0, 1, 0, 0, 0]), ([1, 0, 1, 1, 0, 0, 0, 1, 1, 0], [1, 0, 1, 1, 0, 0, 0, 1, 0, 0]), ([1, 0, 1, 1, 0, 0, 0, 1, 1, 1], [1, 0, 0, 1, 0, 0, 1, 0, 1, 0]), ([1, 0, 1, 1, 0, 0, 1, 0, 0, 0], [1, 0, 1, 1, 0, 0, 0, 1, 1, 0]), ([1, 0, 1, 1, 0, 0, 1, 0, 0, 1], [1, 0, 0, 1, 0, 0, 1, 1, 1, 0]), ([1, 0, 1, 1, 0, 0, 1, 0, 1, 0], [1, 0, 1, 1, 0, 0, 0, 1, 1, 0]), ([1, 0, 1, 1, 0, 0, 1, 0, 1, 1], [1, 0, 0, 1, 0, 0, 1, 1, 1, 0]), ([1, 0, 1, 1, 0, 0, 1, 1, 0, 0], [1, 0, 1, 1, 0, 0, 0, 1, 0, 0]), ([1, 0, 1, 1, 0, 0, 1, 1, 0, 1], [1, 0, 0, 1, 0, 0, 1, 1, 0, 0]), ([1, 0, 1, 1, 0, 0, 1, 1, 1, 0], [1, 0, 1, 1, 0, 0, 0, 1, 1, 0]), ([1, 0, 1, 1, 0, 0, 1, 1, 1, 1], [1, 0, 0, 1, 0, 0, 1, 1, 1, 0]), ([1, 0, 1, 1, 0, 1, 0, 0, 0, 0], [1, 0, 1, 1, 1, 0, 0, 1, 1, 1]), ([1, 0, 1, 1, 0, 1, 0, 0, 0, 1], [1, 0, 0, 1, 1, 0, 1, 0, 1, 1]), ([1, 0, 1, 1, 0, 1, 0, 0, 1, 0], [1, 0, 1, 1, 1, 0, 0, 1, 1, 1]), ([1, 0, 1, 1, 0, 1, 0, 0, 1, 1], [1, 0, 0, 1, 1, 0, 1, 0, 1, 1]), ([1, 0, 1, 1, 0, 1, 0, 1, 0, 0], [1, 0, 1, 1, 1, 0, 0, 1, 0, 0]), ([1, 0, 1, 1, 0, 1, 0, 1, 0, 1], [1, 0, 0, 1, 1, 0, 1, 0, 0, 0]), ([1, 0, 1, 1, 0, 1, 0, 1, 1, 0], [1, 0, 1, 1, 0, 0, 0, 1, 0, 0]), ([1, 0, 1, 1, 0, 1, 0, 1, 1, 1], [1, 0, 0, 1, 0, 0, 1, 0, 1, 0]), ([1, 0, 1, 1, 0, 1, 1, 0, 0, 0], [1, 0, 1, 1, 0, 0, 0, 1, 1, 0]), ([1, 0, 1, 1, 0, 1, 1, 0, 0, 1], [1, 0, 0, 1, 0, 0, 1, 1, 1, 0]), ([1, 0, 1, 1, 0, 1, 1, 0, 1, 0], [1, 0, 1, 1, 0, 0, 0, 1, 1, 0]), ([1, 0, 1, 1, 0, 1, 1, 0, 1, 1], [1, 0, 0, 1, 0, 0, 1, 1, 1, 0]), ([1, 0, 1, 1, 0, 1, 1, 1, 0, 0], [1, 0, 1, 1, 0, 0, 0, 1, 0, 0]), ([1, 0, 1, 1, 0, 1, 1, 1, 0, 1], [1, 0, 0, 1, 0, 0, 1, 1, 0, 0]), ([1, 0, 1, 1, 0, 1, 1, 1, 1, 0], [1, 0, 1, 1, 0, 0, 0, 1, 1, 0]), ([1, 0, 1, 1, 0, 1, 1, 1, 1, 1], [1, 0, 0, 1, 0, 0, 1, 1, 1, 0]), ([1, 0, 1, 1, 1, 0, 0, 0, 0, 0], [1, 0, 0, 1, 1, 0, 0, 0, 1, 1]), ([1, 0, 1, 1, 1, 0, 0, 0, 0, 1], [1, 0, 0, 1, 1, 0, 1, 0, 1, 1]), ([1, 0, 1, 1, 1, 0, 0, 0, 1, 0], [1, 0, 0, 1, 1, 0, 0, 0, 1, 1]), ([1, 0, 1, 1, 1, 0, 0, 0, 1, 1], [1, 0, 0, 1, 1, 0, 1, 0, 1, 1]), ([1, 0, 1, 1, 1, 0, 0, 1, 0, 0], [1, 0, 0, 1, 1, 0, 0, 0, 0, 0]), ([1, 0, 1, 1, 1, 0, 0, 1, 0, 1], [1, 0, 0, 1, 1, 0, 1, 0, 0, 0]), ([1, 0, 1, 1, 1, 0, 0, 1, 1, 0], [1, 0, 0, 1, 0, 0, 0, 0, 1, 0]), ([1, 0, 1, 1, 1, 0, 0, 1, 1, 1], [1, 0, 0, 1, 0, 0, 1, 0, 1, 0]), ([1, 0, 1, 1, 1, 0, 1, 0, 0, 0], [1, 0, 0, 1, 0, 0, 0, 1, 1, 0]), ([1, 0, 1, 1, 1, 0, 1, 0, 0, 1], [1, 0, 0, 1, 0, 0, 1, 1, 1, 0]), ([1, 0, 1, 1, 1, 0, 1, 0, 1, 0], [1, 0, 0, 1, 0, 0, 0, 1, 1, 0]), ([1, 0, 1, 1, 1, 0, 1, 0, 1, 1], [1, 0, 0, 1, 0, 0, 1, 1, 1, 0]), ([1, 0, 1, 1, 1, 0, 1, 1, 0, 0], [1, 0, 0, 1, 0, 0, 0, 1, 0, 0]), ([1, 0, 1, 1, 1, 0, 1, 1, 0, 1], [1, 0, 0, 1, 0, 0, 1, 1, 0, 0]), ([1, 0, 1, 1, 1, 0, 1, 1, 1, 0], [1, 0, 0, 1, 0, 0, 0, 1, 1, 0]), ([1, 0, 1, 1, 1, 0, 1, 1, 1, 1], [1, 0, 0, 1, 0, 0, 1, 1, 1, 0]), ([1, 0, 1, 1, 1, 1, 0, 0, 0, 0], [1, 0, 1, 1, 1, 0, 0, 1, 1, 1]), ([1, 0, 1, 1, 1, 1, 0, 0, 0, 1], [1, 0, 0, 1, 1, 0, 1, 0, 1, 1]), ([1, 0, 1, 1, 1, 1, 0, 0, 1, 0], [1, 0, 1, 1, 1, 0, 0, 1, 1, 1]), ([1, 0, 1, 1, 1, 1, 0, 0, 1, 1], [1, 0, 0, 1, 1, 0, 1, 0, 1, 1]), ([1, 0, 1, 1, 1, 1, 0, 1, 0, 0], [1, 0, 1, 1, 1, 0, 0, 1, 0, 0]), ([1, 0, 1, 1, 1, 1, 0, 1, 0, 1], [1, 0, 0, 1, 1, 0, 1, 0, 0, 0]), ([1, 0, 1, 1, 1, 1, 0, 1, 1, 0], [1, 0, 1, 1, 0, 0, 0, 1, 1, 0]), ([1, 0, 1, 1, 1, 1, 0, 1, 1, 1], [1, 0, 0, 1, 0, 0, 1, 0, 1, 0]), ([1, 0, 1, 1, 1, 1, 1, 0, 0, 0], [1, 0, 1, 1, 0, 0, 0, 1, 1, 0]), ([1, 0, 1, 1, 1, 1, 1, 0, 0, 1], [1, 0, 0, 1, 0, 0, 1, 1, 1, 0]), ([1, 0, 1, 1, 1, 1, 1, 0, 1, 0], [1, 0, 1, 1, 0, 0, 0, 1, 1, 0]), ([1, 0, 1, 1, 1, 1, 1, 0, 1, 1], [1, 0, 0, 1, 0, 0, 1, 1, 1, 0]), ([1, 0, 1, 1, 1, 1, 1, 1, 0, 0], [1, 0, 1, 1, 0, 0, 0, 1, 0, 0]), ([1, 0, 1, 1, 1, 1, 1, 1, 0, 1], [1, 0, 0, 1, 0, 0, 1, 1, 0, 0]), ([1, 0, 1, 1, 1, 1, 1, 1, 1, 0], [1, 0, 1, 1, 0, 0, 0, 1, 1, 0]), ([1, 0, 1, 1, 1, 1, 1, 1, 1, 1], [1, 0, 0, 1, 0, 0, 1, 1, 1, 0]), ([1, 1, 0, 0, 0, 0, 0, 0, 0, 0], [1, 0, 0, 0, 0, 0, 0, 1, 1, 1]), ([1, 1, 0, 0, 0, 0, 0, 0, 0, 1], [1, 0, 0, 0, 0, 0, 1, 0, 1, 1]), ([1, 1, 0, 0, 0, 0, 0, 0, 1, 0], [1, 0, 0, 0, 0, 0, 0, 1, 1, 1]), ([1, 1, 0, 0, 0, 0, 0, 0, 1, 1], [1, 0, 0, 0, 0, 0, 1, 0, 1, 1]), ([1, 1, 0, 0, 0, 0, 0, 1, 0, 0], [1, 0, 0, 0, 0, 0, 0, 1, 0, 0]), ([1, 1, 0, 0, 0, 0, 0, 1, 0, 1], [1, 0, 0, 0, 0, 0, 1, 0, 0, 0]), ([1, 1, 0, 0, 0, 0, 0, 1, 1, 0], [1, 0, 0, 0, 0, 0, 0, 1, 0, 0]), ([1, 1, 0, 0, 0, 0, 0, 1, 1, 1], [1, 0, 0, 0, 0, 0, 1, 0, 1, 0]), ([1, 1, 0, 0, 0, 0, 1, 0, 0, 0], [1, 0, 0, 0, 0, 0, 0, 1, 1, 0]), ([1, 1, 0, 0, 0, 0, 1, 0, 0, 1], [1, 0, 0, 0, 0, 0, 1, 1, 1, 0]), ([1, 1, 0, 0, 0, 0, 1, 0, 1, 0], [1, 0, 0, 0, 0, 0, 0, 1, 1, 0]), ([1, 1, 0, 0, 0, 0, 1, 0, 1, 1], [1, 0, 0, 0, 0, 0, 1, 1, 1, 0]), ([1, 1, 0, 0, 0, 0, 1, 1, 0, 0], [1, 0, 0, 0, 0, 0, 0, 1, 0, 0]), ([1, 1, 0, 0, 0, 0, 1, 1, 0, 1], [1, 0, 0, 0, 0, 0, 1, 1, 0, 0]), ([1, 1, 0, 0, 0, 0, 1, 1, 1, 0], [1, 0, 0, 0, 0, 0, 0, 1, 1, 0]), ([1, 1, 0, 0, 0, 0, 1, 1, 1, 1], [1, 0, 0, 0, 0, 0, 1, 1, 1, 0]), ([1, 1, 0, 0, 0, 1, 0, 0, 0, 0], [1, 0, 0, 0, 0, 0, 0, 1, 1, 1]), ([1, 1, 0, 0, 0, 1, 0, 0, 0, 1], [1, 0, 0, 0, 0, 0, 1, 0, 1, 1]), ([1, 1, 0, 0, 0, 1, 0, 0, 1, 0], [1, 0, 0, 0, 0, 0, 0, 1, 1, 1]), ([1, 1, 0, 0, 0, 1, 0, 0, 1, 1], [1, 0, 0, 0, 0, 0, 1, 0, 1, 1]), ([1, 1, 0, 0, 0, 1, 0, 1, 0, 0], [1, 0, 0, 0, 0, 0, 0, 1, 0, 0]), ([1, 1, 0, 0, 0, 1, 0, 1, 0, 1], [1, 0, 0, 0, 0, 0, 1, 0, 0, 0]), ([1, 1, 0, 0, 0, 1, 0, 1, 1, 0], [1, 0, 0, 0, 0, 0, 0, 1, 0, 0]), ([1, 1, 0, 0, 0, 1, 0, 1, 1, 1], [1, 0, 0, 0, 0, 0, 1, 0, 1, 0]), ([1, 1, 0, 0, 0, 1, 1, 0, 0, 0], [1, 0, 0, 0, 0, 0, 0, 1, 1, 0]), ([1, 1, 0, 0, 0, 1, 1, 0, 0, 1], [1, 0, 0, 0, 0, 0, 1, 1, 1, 0]), ([1, 1, 0, 0, 0, 1, 1, 0, 1, 0], [1, 0, 0, 0, 0, 0, 0, 1, 1, 0]), ([1, 1, 0, 0, 0, 1, 1, 0, 1, 1], [1, 0, 0, 0, 0, 0, 1, 1, 1, 0]), ([1, 1, 0, 0, 0, 1, 1, 1, 0, 0], [1, 0, 0, 0, 0, 0, 0, 1, 0, 0]), ([1, 1, 0, 0, 0, 1, 1, 1, 0, 1], [1, 0, 0, 0, 0, 0, 1, 1, 0, 0]), ([1, 1, 0, 0, 0, 1, 1, 1, 1, 0], [1, 0, 0, 0, 0, 0, 0, 1, 1, 0]), ([1, 1, 0, 0, 0, 1, 1, 1, 1, 1], [1, 0, 0, 0, 0, 0, 1, 1, 1, 0]), ([1, 1, 0, 0, 1, 0, 0, 0, 0, 0], [1, 0, 0, 0, 0, 0, 0, 0, 1, 1]), ([1, 1, 0, 0, 1, 0, 0, 0, 0, 1], [1, 0, 0, 0, 0, 0, 1, 0, 1, 1]), ([1, 1, 0, 0, 1, 0, 0, 0, 1, 0], [1, 0, 0, 0, 0, 0, 0, 0, 1, 1]), ([1, 1, 0, 0, 1, 0, 0, 0, 1, 1], [1, 0, 0, 0, 0, 0, 1, 0, 1, 1]), ([1, 1, 0, 0, 1, 0, 0, 1, 0, 0], [1, 0, 0, 0, 0, 0, 0, 0, 0, 0]), ([1, 1, 0, 0, 1, 0, 0, 1, 0, 1], [1, 0, 0, 0, 0, 0, 1, 0, 0, 0]), ([1, 1, 0, 0, 1, 0, 0, 1, 1, 0], [1, 0, 0, 0, 0, 0, 0, 0, 1, 0]), ([1, 1, 0, 0, 1, 0, 0, 1, 1, 1], [1, 0, 0, 0, 0, 0, 1, 0, 1, 0]), ([1, 1, 0, 0, 1, 0, 1, 0, 0, 0], [1, 0, 0, 0, 0, 0, 0, 1, 1, 0]), ([1, 1, 0, 0, 1, 0, 1, 0, 0, 1], [1, 0, 0, 0, 0, 0, 1, 1, 1, 0]), ([1, 1, 0, 0, 1, 0, 1, 0, 1, 0], [1, 0, 0, 0, 0, 0, 0, 1, 1, 0]), ([1, 1, 0, 0, 1, 0, 1, 0, 1, 1], [1, 0, 0, 0, 0, 0, 1, 1, 1, 0]), ([1, 1, 0, 0, 1, 0, 1, 1, 0, 0], [1, 0, 0, 0, 0, 0, 0, 1, 0, 0]), ([1, 1, 0, 0, 1, 0, 1, 1, 0, 1], [1, 0, 0, 0, 0, 0, 1, 1, 0, 0]), ([1, 1, 0, 0, 1, 0, 1, 1, 1, 0], [1, 0, 0, 0, 0, 0, 0, 1, 1, 0]), ([1, 1, 0, 0, 1, 0, 1, 1, 1, 1], [1, 0, 0, 0, 0, 0, 1, 1, 1, 0]), ([1, 1, 0, 0, 1, 1, 0, 0, 0, 0], [1, 0, 0, 0, 0, 0, 0, 1, 1, 1]), ([1, 1, 0, 0, 1, 1, 0, 0, 0, 1], [1, 0, 0, 0, 0, 0, 1, 0, 1, 1]), ([1, 1, 0, 0, 1, 1, 0, 0, 1, 0], [1, 0, 0, 0, 0, 0, 0, 1, 1, 1]), ([1, 1, 0, 0, 1, 1, 0, 0, 1, 1], [1, 0, 0, 0, 0, 0, 1, 0, 1, 1]), ([1, 1, 0, 0, 1, 1, 0, 1, 0, 0], [1, 0, 0, 0, 0, 0, 0, 1, 0, 0]), ([1, 1, 0, 0, 1, 1, 0, 1, 0, 1], [1, 0, 0, 0, 0, 0, 1, 0, 0, 0]), ([1, 1, 0, 0, 1, 1, 0, 1, 1, 0], [1, 0, 0, 0, 0, 0, 0, 1, 1, 0]), ([1, 1, 0, 0, 1, 1, 0, 1, 1, 1], [1, 0, 0, 0, 0, 0, 1, 0, 1, 0]), ([1, 1, 0, 0, 1, 1, 1, 0, 0, 0], [1, 0, 0, 0, 0, 0, 0, 1, 1, 0]), ([1, 1, 0, 0, 1, 1, 1, 0, 0, 1], [1, 0, 0, 0, 0, 0, 1, 1, 1, 0]), ([1, 1, 0, 0, 1, 1, 1, 0, 1, 0], [1, 0, 0, 0, 0, 0, 0, 1, 1, 0]), ([1, 1, 0, 0, 1, 1, 1, 0, 1, 1], [1, 0, 0, 0, 0, 0, 1, 1, 1, 0]), ([1, 1, 0, 0, 1, 1, 1, 1, 0, 0], [1, 0, 0, 0, 0, 0, 0, 1, 0, 0]), ([1, 1, 0, 0, 1, 1, 1, 1, 0, 1], [1, 0, 0, 0, 0, 0, 1, 1, 0, 0]), ([1, 1, 0, 0, 1, 1, 1, 1, 1, 0], [1, 0, 0, 0, 0, 0, 0, 1, 1, 0]), ([1, 1, 0, 0, 1, 1, 1, 1, 1, 1], [1, 0, 0, 0, 0, 0, 1, 1, 1, 0]), ([1, 1, 0, 1, 0, 0, 0, 0, 0, 0], [1, 0, 0, 0, 0, 0, 0, 1, 1, 1]), ([1, 1, 0, 1, 0, 0, 0, 0, 0, 1], [1, 0, 0, 0, 0, 0, 1, 0, 1, 1]), ([1, 1, 0, 1, 0, 0, 0, 0, 1, 0], [1, 0, 0, 0, 0, 0, 0, 1, 1, 1]), ([1, 1, 0, 1, 0, 0, 0, 0, 1, 1], [1, 0, 0, 0, 0, 0, 1, 0, 1, 1]), ([1, 1, 0, 1, 0, 0, 0, 1, 0, 0], [1, 0, 0, 0, 0, 0, 0, 1, 0, 0]), ([1, 1, 0, 1, 0, 0, 0, 1, 0, 1], [1, 0, 0, 0, 0, 0, 1, 0, 0, 0]), ([1, 1, 0, 1, 0, 0, 0, 1, 1, 0], [1, 0, 0, 0, 0, 0, 0, 1, 0, 0]), ([1, 1, 0, 1, 0, 0, 0, 1, 1, 1], [1, 0, 0, 0, 0, 0, 1, 0, 1, 0]), ([1, 1, 0, 1, 0, 0, 1, 0, 0, 0], [1, 0, 0, 0, 0, 0, 0, 1, 1, 0]), ([1, 1, 0, 1, 0, 0, 1, 0, 0, 1], [1, 0, 0, 0, 0, 0, 1, 1, 1, 0]), ([1, 1, 0, 1, 0, 0, 1, 0, 1, 0], [1, 0, 0, 0, 0, 0, 0, 1, 1, 0]), ([1, 1, 0, 1, 0, 0, 1, 0, 1, 1], [1, 0, 0, 0, 0, 0, 1, 1, 1, 0]), ([1, 1, 0, 1, 0, 0, 1, 1, 0, 0], [1, 0, 0, 0, 0, 0, 0, 1, 0, 0]), ([1, 1, 0, 1, 0, 0, 1, 1, 0, 1], [1, 0, 0, 0, 0, 0, 1, 1, 0, 0]), ([1, 1, 0, 1, 0, 0, 1, 1, 1, 0], [1, 0, 0, 0, 0, 0, 0, 1, 1, 0]), ([1, 1, 0, 1, 0, 0, 1, 1, 1, 1], [1, 0, 0, 0, 0, 0, 1, 1, 1, 0]), ([1, 1, 0, 1, 0, 1, 0, 0, 0, 0], [1, 0, 0, 0, 0, 0, 0, 1, 1, 1]), ([1, 1, 0, 1, 0, 1, 0, 0, 0, 1], [1, 0, 0, 0, 0, 0, 1, 0, 1, 1]), ([1, 1, 0, 1, 0, 1, 0, 0, 1, 0], [1, 0, 0, 0, 0, 0, 0, 1, 1, 1]), ([1, 1, 0, 1, 0, 1, 0, 0, 1, 1], [1, 0, 0, 0, 0, 0, 1, 0, 1, 1]), ([1, 1, 0, 1, 0, 1, 0, 1, 0, 0], [1, 0, 0, 0, 0, 0, 0, 1, 0, 0]), ([1, 1, 0, 1, 0, 1, 0, 1, 0, 1], [1, 0, 0, 0, 0, 0, 1, 0, 0, 0]), ([1, 1, 0, 1, 0, 1, 0, 1, 1, 0], [1, 0, 0, 0, 0, 0, 0, 1, 0, 0]), ([1, 1, 0, 1, 0, 1, 0, 1, 1, 1], [1, 0, 0, 0, 0, 0, 1, 0, 1, 0]), ([1, 1, 0, 1, 0, 1, 1, 0, 0, 0], [1, 0, 0, 0, 0, 0, 0, 1, 1, 0]), ([1, 1, 0, 1, 0, 1, 1, 0, 0, 1], [1, 0, 0, 0, 0, 0, 1, 1, 1, 0]), ([1, 1, 0, 1, 0, 1, 1, 0, 1, 0], [1, 0, 0, 0, 0, 0, 0, 1, 1, 0]), ([1, 1, 0, 1, 0, 1, 1, 0, 1, 1], [1, 0, 0, 0, 0, 0, 1, 1, 1, 0]), ([1, 1, 0, 1, 0, 1, 1, 1, 0, 0], [1, 0, 0, 0, 0, 0, 0, 1, 0, 0]), ([1, 1, 0, 1, 0, 1, 1, 1, 0, 1], [1, 0, 0, 0, 0, 0, 1, 1, 0, 0]), ([1, 1, 0, 1, 0, 1, 1, 1, 1, 0], [1, 0, 0, 0, 0, 0, 0, 1, 1, 0]), ([1, 1, 0, 1, 0, 1, 1, 1, 1, 1], [1, 0, 0, 0, 0, 0, 1, 1, 1, 0]), ([1, 1, 0, 1, 1, 0, 0, 0, 0, 0], [1, 0, 0, 0, 0, 0, 0, 0, 1, 1]), ([1, 1, 0, 1, 1, 0, 0, 0, 0, 1], [1, 0, 0, 0, 0, 0, 1, 0, 1, 1]), ([1, 1, 0, 1, 1, 0, 0, 0, 1, 0], [1, 0, 0, 0, 0, 0, 0, 0, 1, 1]), ([1, 1, 0, 1, 1, 0, 0, 0, 1, 1], [1, 0, 0, 0, 0, 0, 1, 0, 1, 1]), ([1, 1, 0, 1, 1, 0, 0, 1, 0, 0], [1, 0, 0, 0, 0, 0, 0, 0, 0, 0]), ([1, 1, 0, 1, 1, 0, 0, 1, 0, 1], [1, 0, 0, 0, 0, 0, 1, 0, 0, 0]), ([1, 1, 0, 1, 1, 0, 0, 1, 1, 0], [1, 0, 0, 0, 0, 0, 0, 0, 1, 0]), ([1, 1, 0, 1, 1, 0, 0, 1, 1, 1], [1, 0, 0, 0, 0, 0, 1, 0, 1, 0]), ([1, 1, 0, 1, 1, 0, 1, 0, 0, 0], [1, 0, 0, 0, 0, 0, 0, 1, 1, 0]), ([1, 1, 0, 1, 1, 0, 1, 0, 0, 1], [1, 0, 0, 0, 0, 0, 1, 1, 1, 0]), ([1, 1, 0, 1, 1, 0, 1, 0, 1, 0], [1, 0, 0, 0, 0, 0, 0, 1, 1, 0]), ([1, 1, 0, 1, 1, 0, 1, 0, 1, 1], [1, 0, 0, 0, 0, 0, 1, 1, 1, 0]), ([1, 1, 0, 1, 1, 0, 1, 1, 0, 0], [1, 0, 0, 0, 0, 0, 0, 1, 0, 0]), ([1, 1, 0, 1, 1, 0, 1, 1, 0, 1], [1, 0, 0, 0, 0, 0, 1, 1, 0, 0]), ([1, 1, 0, 1, 1, 0, 1, 1, 1, 0], [1, 0, 0, 0, 0, 0, 0, 1, 1, 0]), ([1, 1, 0, 1, 1, 0, 1, 1, 1, 1], [1, 0, 0, 0, 0, 0, 1, 1, 1, 0]), ([1, 1, 0, 1, 1, 1, 0, 0, 0, 0], [1, 0, 0, 0, 0, 0, 0, 1, 1, 1]), ([1, 1, 0, 1, 1, 1, 0, 0, 0, 1], [1, 0, 0, 0, 0, 0, 1, 0, 1, 1]), ([1, 1, 0, 1, 1, 1, 0, 0, 1, 0], [1, 0, 0, 0, 0, 0, 0, 1, 1, 1]), ([1, 1, 0, 1, 1, 1, 0, 0, 1, 1], [1, 0, 0, 0, 0, 0, 1, 0, 1, 1]), ([1, 1, 0, 1, 1, 1, 0, 1, 0, 0], [1, 0, 0, 0, 0, 0, 0, 1, 0, 0]), ([1, 1, 0, 1, 1, 1, 0, 1, 0, 1], [1, 0, 0, 0, 0, 0, 1, 0, 0, 0]), ([1, 1, 0, 1, 1, 1, 0, 1, 1, 0], [1, 0, 0, 0, 0, 0, 0, 1, 1, 0]), ([1, 1, 0, 1, 1, 1, 0, 1, 1, 1], [1, 0, 0, 0, 0, 0, 1, 0, 1, 0]), ([1, 1, 0, 1, 1, 1, 1, 0, 0, 0], [1, 0, 0, 0, 0, 0, 0, 1, 1, 0]), ([1, 1, 0, 1, 1, 1, 1, 0, 0, 1], [1, 0, 0, 0, 0, 0, 1, 1, 1, 0]), ([1, 1, 0, 1, 1, 1, 1, 0, 1, 0], [1, 0, 0, 0, 0, 0, 0, 1, 1, 0]), ([1, 1, 0, 1, 1, 1, 1, 0, 1, 1], [1, 0, 0, 0, 0, 0, 1, 1, 1, 0]), ([1, 1, 0, 1, 1, 1, 1, 1, 0, 0], [1, 0, 0, 0, 0, 0, 0, 1, 0, 0]), ([1, 1, 0, 1, 1, 1, 1, 1, 0, 1], [1, 0, 0, 0, 0, 0, 1, 1, 0, 0]), ([1, 1, 0, 1, 1, 1, 1, 1, 1, 0], [1, 0, 0, 0, 0, 0, 0, 1, 1, 0]), ([1, 1, 0, 1, 1, 1, 1, 1, 1, 1], [1, 0, 0, 0, 0, 0, 1, 1, 1, 0]), ([1, 1, 1, 0, 0, 0, 0, 0, 0, 0], [1, 0, 0, 0, 0, 0, 0, 1, 1, 1]), ([1, 1, 1, 0, 0, 0, 0, 0, 0, 1], [1, 0, 0, 0, 0, 0, 1, 0, 1, 1]), ([1, 1, 1, 0, 0, 0, 0, 0, 1, 0], [1, 0, 0, 0, 0, 0, 0, 1, 1, 1]), ([1, 1, 1, 0, 0, 0, 0, 0, 1, 1], [1, 0, 0, 0, 0, 0, 1, 0, 1, 1]), ([1, 1, 1, 0, 0, 0, 0, 1, 0, 0], [1, 0, 0, 0, 0, 0, 0, 1, 0, 0]), ([1, 1, 1, 0, 0, 0, 0, 1, 0, 1], [1, 0, 0, 0, 0, 0, 1, 0, 0, 0]), ([1, 1, 1, 0, 0, 0, 0, 1, 1, 0], [1, 0, 0, 0, 0, 0, 0, 1, 0, 0]), ([1, 1, 1, 0, 0, 0, 0, 1, 1, 1], [1, 0, 0, 0, 0, 0, 1, 0, 1, 0]), ([1, 1, 1, 0, 0, 0, 1, 0, 0, 0], [1, 0, 0, 0, 0, 0, 0, 1, 1, 0]), ([1, 1, 1, 0, 0, 0, 1, 0, 0, 1], [1, 0, 0, 0, 0, 0, 1, 1, 1, 0]), ([1, 1, 1, 0, 0, 0, 1, 0, 1, 0], [1, 0, 0, 0, 0, 0, 0, 1, 1, 0]), ([1, 1, 1, 0, 0, 0, 1, 0, 1, 1], [1, 0, 0, 0, 0, 0, 1, 1, 1, 0]), ([1, 1, 1, 0, 0, 0, 1, 1, 0, 0], [1, 0, 0, 0, 0, 0, 0, 1, 0, 0]), ([1, 1, 1, 0, 0, 0, 1, 1, 0, 1], [1, 0, 0, 0, 0, 0, 1, 1, 0, 0]), ([1, 1, 1, 0, 0, 0, 1, 1, 1, 0], [1, 0, 0, 0, 0, 0, 0, 1, 1, 0]), ([1, 1, 1, 0, 0, 0, 1, 1, 1, 1], [1, 0, 0, 0, 0, 0, 1, 1, 1, 0]), ([1, 1, 1, 0, 0, 1, 0, 0, 0, 0], [1, 0, 0, 0, 0, 0, 0, 1, 1, 1]), ([1, 1, 1, 0, 0, 1, 0, 0, 0, 1], [1, 0, 0, 0, 0, 0, 1, 0, 1, 1]), ([1, 1, 1, 0, 0, 1, 0, 0, 1, 0], [1, 0, 0, 0, 0, 0, 0, 1, 1, 1]), ([1, 1, 1, 0, 0, 1, 0, 0, 1, 1], [1, 0, 0, 0, 0, 0, 1, 0, 1, 1]), ([1, 1, 1, 0, 0, 1, 0, 1, 0, 0], [1, 0, 0, 0, 0, 0, 0, 1, 0, 0]), ([1, 1, 1, 0, 0, 1, 0, 1, 0, 1], [1, 0, 0, 0, 0, 0, 1, 0, 0, 0]), ([1, 1, 1, 0, 0, 1, 0, 1, 1, 0], [1, 0, 0, 0, 0, 0, 0, 1, 0, 0]), ([1, 1, 1, 0, 0, 1, 0, 1, 1, 1], [1, 0, 0, 0, 0, 0, 1, 0, 1, 0]), ([1, 1, 1, 0, 0, 1, 1, 0, 0, 0], [1, 0, 0, 0, 0, 0, 0, 1, 1, 0]), ([1, 1, 1, 0, 0, 1, 1, 0, 0, 1], [1, 0, 0, 0, 0, 0, 1, 1, 1, 0]), ([1, 1, 1, 0, 0, 1, 1, 0, 1, 0], [1, 0, 0, 0, 0, 0, 0, 1, 1, 0]), ([1, 1, 1, 0, 0, 1, 1, 0, 1, 1], [1, 0, 0, 0, 0, 0, 1, 1, 1, 0]), ([1, 1, 1, 0, 0, 1, 1, 1, 0, 0], [1, 0, 0, 0, 0, 0, 0, 1, 0, 0]), ([1, 1, 1, 0, 0, 1, 1, 1, 0, 1], [1, 0, 0, 0, 0, 0, 1, 1, 0, 0]), ([1, 1, 1, 0, 0, 1, 1, 1, 1, 0], [1, 0, 0, 0, 0, 0, 0, 1, 1, 0]), ([1, 1, 1, 0, 0, 1, 1, 1, 1, 1], [1, 0, 0, 0, 0, 0, 1, 1, 1, 0]), ([1, 1, 1, 0, 1, 0, 0, 0, 0, 0], [1, 0, 0, 0, 0, 0, 0, 0, 1, 1]), ([1, 1, 1, 0, 1, 0, 0, 0, 0, 1], [1, 0, 0, 0, 0, 0, 1, 0, 1, 1]), ([1, 1, 1, 0, 1, 0, 0, 0, 1, 0], [1, 0, 0, 0, 0, 0, 0, 0, 1, 1]), ([1, 1, 1, 0, 1, 0, 0, 0, 1, 1], [1, 0, 0, 0, 0, 0, 1, 0, 1, 1]), ([1, 1, 1, 0, 1, 0, 0, 1, 0, 0], [1, 0, 0, 0, 0, 0, 0, 0, 0, 0]), ([1, 1, 1, 0, 1, 0, 0, 1, 0, 1], [1, 0, 0, 0, 0, 0, 1, 0, 0, 0]), ([1, 1, 1, 0, 1, 0, 0, 1, 1, 0], [1, 0, 0, 0, 0, 0, 0, 0, 1, 0]), ([1, 1, 1, 0, 1, 0, 0, 1, 1, 1], [1, 0, 0, 0, 0, 0, 1, 0, 1, 0]), ([1, 1, 1, 0, 1, 0, 1, 0, 0, 0], [1, 0, 0, 0, 0, 0, 0, 1, 1, 0]), ([1, 1, 1, 0, 1, 0, 1, 0, 0, 1], [1, 0, 0, 0, 0, 0, 1, 1, 1, 0]), ([1, 1, 1, 0, 1, 0, 1, 0, 1, 0], [1, 0, 0, 0, 0, 0, 0, 1, 1, 0]), ([1, 1, 1, 0, 1, 0, 1, 0, 1, 1], [1, 0, 0, 0, 0, 0, 1, 1, 1, 0]), ([1, 1, 1, 0, 1, 0, 1, 1, 0, 0], [1, 0, 0, 0, 0, 0, 0, 1, 0, 0]), ([1, 1, 1, 0, 1, 0, 1, 1, 0, 1], [1, 0, 0, 0, 0, 0, 1, 1, 0, 0]), ([1, 1, 1, 0, 1, 0, 1, 1, 1, 0], [1, 0, 0, 0, 0, 0, 0, 1, 1, 0]), ([1, 1, 1, 0, 1, 0, 1, 1, 1, 1], [1, 0, 0, 0, 0, 0, 1, 1, 1, 0]), ([1, 1, 1, 0, 1, 1, 0, 0, 0, 0], [1, 0, 0, 0, 0, 0, 0, 1, 1, 1]), ([1, 1, 1, 0, 1, 1, 0, 0, 0, 1], [1, 0, 0, 0, 0, 0, 1, 0, 1, 1]), ([1, 1, 1, 0, 1, 1, 0, 0, 1, 0], [1, 0, 0, 0, 0, 0, 0, 1, 1, 1]), ([1, 1, 1, 0, 1, 1, 0, 0, 1, 1], [1, 0, 0, 0, 0, 0, 1, 0, 1, 1]), ([1, 1, 1, 0, 1, 1, 0, 1, 0, 0], [1, 0, 0, 0, 0, 0, 0, 1, 0, 0]), ([1, 1, 1, 0, 1, 1, 0, 1, 0, 1], [1, 0, 0, 0, 0, 0, 1, 0, 0, 0]), ([1, 1, 1, 0, 1, 1, 0, 1, 1, 0], [1, 0, 0, 0, 0, 0, 0, 1, 1, 0]), ([1, 1, 1, 0, 1, 1, 0, 1, 1, 1], [1, 0, 0, 0, 0, 0, 1, 0, 1, 0]), ([1, 1, 1, 0, 1, 1, 1, 0, 0, 0], [1, 0, 0, 0, 0, 0, 0, 1, 1, 0]), ([1, 1, 1, 0, 1, 1, 1, 0, 0, 1], [1, 0, 0, 0, 0, 0, 1, 1, 1, 0]), ([1, 1, 1, 0, 1, 1, 1, 0, 1, 0], [1, 0, 0, 0, 0, 0, 0, 1, 1, 0]), ([1, 1, 1, 0, 1, 1, 1, 0, 1, 1], [1, 0, 0, 0, 0, 0, 1, 1, 1, 0]), ([1, 1, 1, 0, 1, 1, 1, 1, 0, 0], [1, 0, 0, 0, 0, 0, 0, 1, 0, 0]), ([1, 1, 1, 0, 1, 1, 1, 1, 0, 1], [1, 0, 0, 0, 0, 0, 1, 1, 0, 0]), ([1, 1, 1, 0, 1, 1, 1, 1, 1, 0], [1, 0, 0, 0, 0, 0, 0, 1, 1, 0]), ([1, 1, 1, 0, 1, 1, 1, 1, 1, 1], [1, 0, 0, 0, 0, 0, 1, 1, 1, 0]), ([1, 1, 1, 1, 0, 0, 0, 0, 0, 0], [1, 0, 0, 0, 0, 0, 0, 1, 1, 1]), ([1, 1, 1, 1, 0, 0, 0, 0, 0, 1], [1, 0, 0, 0, 0, 0, 1, 0, 1, 1]), ([1, 1, 1, 1, 0, 0, 0, 0, 1, 0], [1, 0, 0, 0, 0, 0, 0, 1, 1, 1]), ([1, 1, 1, 1, 0, 0, 0, 0, 1, 1], [1, 0, 0, 0, 0, 0, 1, 0, 1, 1]), ([1, 1, 1, 1, 0, 0, 0, 1, 0, 0], [1, 0, 0, 0, 0, 0, 0, 1, 0, 0]), ([1, 1, 1, 1, 0, 0, 0, 1, 0, 1], [1, 0, 0, 0, 0, 0, 1, 0, 0, 0]), ([1, 1, 1, 1, 0, 0, 0, 1, 1, 0], [1, 0, 0, 0, 0, 0, 0, 1, 0, 0]), ([1, 1, 1, 1, 0, 0, 0, 1, 1, 1], [1, 0, 0, 0, 0, 0, 1, 0, 1, 0]), ([1, 1, 1, 1, 0, 0, 1, 0, 0, 0], [1, 0, 0, 0, 0, 0, 0, 1, 1, 0]), ([1, 1, 1, 1, 0, 0, 1, 0, 0, 1], [1, 0, 0, 0, 0, 0, 1, 1, 1, 0]), ([1, 1, 1, 1, 0, 0, 1, 0, 1, 0], [1, 0, 0, 0, 0, 0, 0, 1, 1, 0]), ([1, 1, 1, 1, 0, 0, 1, 0, 1, 1], [1, 0, 0, 0, 0, 0, 1, 1, 1, 0]), ([1, 1, 1, 1, 0, 0, 1, 1, 0, 0], [1, 0, 0, 0, 0, 0, 0, 1, 0, 0]), ([1, 1, 1, 1, 0, 0, 1, 1, 0, 1], [1, 0, 0, 0, 0, 0, 1, 1, 0, 0]), ([1, 1, 1, 1, 0, 0, 1, 1, 1, 0], [1, 0, 0, 0, 0, 0, 0, 1, 1, 0]), ([1, 1, 1, 1, 0, 0, 1, 1, 1, 1], [1, 0, 0, 0, 0, 0, 1, 1, 1, 0]), ([1, 1, 1, 1, 0, 1, 0, 0, 0, 0], [1, 0, 0, 0, 0, 0, 0, 1, 1, 1]), ([1, 1, 1, 1, 0, 1, 0, 0, 0, 1], [1, 0, 0, 0, 0, 0, 1, 0, 1, 1]), ([1, 1, 1, 1, 0, 1, 0, 0, 1, 0], [1, 0, 0, 0, 0, 0, 0, 1, 1, 1]), ([1, 1, 1, 1, 0, 1, 0, 0, 1, 1], [1, 0, 0, 0, 0, 0, 1, 0, 1, 1]), ([1, 1, 1, 1, 0, 1, 0, 1, 0, 0], [1, 0, 0, 0, 0, 0, 0, 1, 0, 0]), ([1, 1, 1, 1, 0, 1, 0, 1, 0, 1], [1, 0, 0, 0, 0, 0, 1, 0, 0, 0]), ([1, 1, 1, 1, 0, 1, 0, 1, 1, 0], [1, 0, 0, 0, 0, 0, 0, 1, 0, 0]), ([1, 1, 1, 1, 0, 1, 0, 1, 1, 1], [1, 0, 0, 0, 0, 0, 1, 0, 1, 0]), ([1, 1, 1, 1, 0, 1, 1, 0, 0, 0], [1, 0, 0, 0, 0, 0, 0, 1, 1, 0]), ([1, 1, 1, 1, 0, 1, 1, 0, 0, 1], [1, 0, 0, 0, 0, 0, 1, 1, 1, 0]), ([1, 1, 1, 1, 0, 1, 1, 0, 1, 0], [1, 0, 0, 0, 0, 0, 0, 1, 1, 0]), ([1, 1, 1, 1, 0, 1, 1, 0, 1, 1], [1, 0, 0, 0, 0, 0, 1, 1, 1, 0]), ([1, 1, 1, 1, 0, 1, 1, 1, 0, 0], [1, 0, 0, 0, 0, 0, 0, 1, 0, 0]), ([1, 1, 1, 1, 0, 1, 1, 1, 0, 1], [1, 0, 0, 0, 0, 0, 1, 1, 0, 0]), ([1, 1, 1, 1, 0, 1, 1, 1, 1, 0], [1, 0, 0, 0, 0, 0, 0, 1, 1, 0]), ([1, 1, 1, 1, 0, 1, 1, 1, 1, 1], [1, 0, 0, 0, 0, 0, 1, 1, 1, 0]), ([1, 1, 1, 1, 1, 0, 0, 0, 0, 0], [1, 0, 0, 0, 0, 0, 0, 0, 1, 1]), ([1, 1, 1, 1, 1, 0, 0, 0, 0, 1], [1, 0, 0, 0, 0, 0, 1, 0, 1, 1]), ([1, 1, 1, 1, 1, 0, 0, 0, 1, 0], [1, 0, 0, 0, 0, 0, 0, 0, 1, 1]), ([1, 1, 1, 1, 1, 0, 0, 0, 1, 1], [1, 0, 0, 0, 0, 0, 1, 0, 1, 1]), ([1, 1, 1, 1, 1, 0, 0, 1, 0, 0], [1, 0, 0, 0, 0, 0, 0, 0, 0, 0]), ([1, 1, 1, 1, 1, 0, 0, 1, 0, 1], [1, 0, 0, 0, 0, 0, 1, 0, 0, 0]), ([1, 1, 1, 1, 1, 0, 0, 1, 1, 0], [1, 0, 0, 0, 0, 0, 0, 0, 1, 0]), ([1, 1, 1, 1, 1, 0, 0, 1, 1, 1], [1, 0, 0, 0, 0, 0, 1, 0, 1, 0]), ([1, 1, 1, 1, 1, 0, 1, 0, 0, 0], [1, 0, 0, 0, 0, 0, 0, 1, 1, 0]), ([1, 1, 1, 1, 1, 0, 1, 0, 0, 1], [1, 0, 0, 0, 0, 0, 1, 1, 1, 0]), ([1, 1, 1, 1, 1, 0, 1, 0, 1, 0], [1, 0, 0, 0, 0, 0, 0, 1, 1, 0]), ([1, 1, 1, 1, 1, 0, 1, 0, 1, 1], [1, 0, 0, 0, 0, 0, 1, 1, 1, 0]), ([1, 1, 1, 1, 1, 0, 1, 1, 0, 0], [1, 0, 0, 0, 0, 0, 0, 1, 0, 0]), ([1, 1, 1, 1, 1, 0, 1, 1, 0, 1], [1, 0, 0, 0, 0, 0, 1, 1, 0, 0]), ([1, 1, 1, 1, 1, 0, 1, 1, 1, 0], [1, 0, 0, 0, 0, 0, 0, 1, 1, 0]), ([1, 1, 1, 1, 1, 0, 1, 1, 1, 1], [1, 0, 0, 0, 0, 0, 1, 1, 1, 0]), ([1, 1, 1, 1, 1, 1, 0, 0, 0, 0], [1, 0, 0, 0, 0, 0, 0, 1, 1, 1]), ([1, 1, 1, 1, 1, 1, 0, 0, 0, 1], [1, 0, 0, 0, 0, 0, 1, 0, 1, 1]), ([1, 1, 1, 1, 1, 1, 0, 0, 1, 0], [1, 0, 0, 0, 0, 0, 0, 1, 1, 1]), ([1, 1, 1, 1, 1, 1, 0, 0, 1, 1], [1, 0, 0, 0, 0, 0, 1, 0, 1, 1]), ([1, 1, 1, 1, 1, 1, 0, 1, 0, 0], [1, 0, 0, 0, 0, 0, 0, 1, 0, 0]), ([1, 1, 1, 1, 1, 1, 0, 1, 0, 1], [1, 0, 0, 0, 0, 0, 1, 0, 0, 0]), ([1, 1, 1, 1, 1, 1, 0, 1, 1, 0], [1, 0, 0, 0, 0, 0, 0, 1, 1, 0]), ([1, 1, 1, 1, 1, 1, 0, 1, 1, 1], [1, 0, 0, 0, 0, 0, 1, 0, 1, 0]), ([1, 1, 1, 1, 1, 1, 1, 0, 0, 0], [1, 0, 0, 0, 0, 0, 0, 1, 1, 0]), ([1, 1, 1, 1, 1, 1, 1, 0, 0, 1], [1, 0, 0, 0, 0, 0, 1, 1, 1, 0]), ([1, 1, 1, 1, 1, 1, 1, 0, 1, 0], [1, 0, 0, 0, 0, 0, 0, 1, 1, 0]), ([1, 1, 1, 1, 1, 1, 1, 0, 1, 1], [1, 0, 0, 0, 0, 0, 1, 1, 1, 0]), ([1, 1, 1, 1, 1, 1, 1, 1, 0, 0], [1, 0, 0, 0, 0, 0, 0, 1, 0, 0]), ([1, 1, 1, 1, 1, 1, 1, 1, 0, 1], [1, 0, 0, 0, 0, 0, 1, 1, 0, 0]), ([1, 1, 1, 1, 1, 1, 1, 1, 1, 0], [1, 0, 0, 0, 0, 0, 0, 1, 1, 0]), ([1, 1, 1, 1, 1, 1, 1, 1, 1, 1], [1, 0, 0, 0, 0, 0, 1, 1, 1, 0])]\n"
          ],
          "name": "stdout"
        }
      ]
    },
    {
      "cell_type": "code",
      "metadata": {
        "id": "_scdwnIsABVS",
        "colab_type": "code",
        "outputId": "cf52fae0-4dbf-4b54-e0e9-2ae5e932556b",
        "colab": {
          "base_uri": "https://localhost:8080/",
          "height": 337
        }
      },
      "source": [
        "edgelist = []\n",
        "for seq in output:\n",
        "  sequence = seq\n",
        "  edgelist.append((''.join([str(st) for st in seq[0]]),\n",
        "                   ''.join([str(st) for st in seq[1]])))\n",
        "G = nx.DiGraph(edgelist)\n",
        "print(list(nx.simple_cycles(G)))\n",
        "#print(nx.cycle_basis(G,0))\n",
        "#if the edge of the graph is a self-loop --> steady state\n",
        "nx.draw_spring(G, with_labels=True)\n",
        "  \n",
        "#print(edgelist)\n",
        "plt.savefig('state_space_network_synchronous_model-ii.png')"
      ],
      "execution_count": 0,
      "outputs": [
        {
          "output_type": "stream",
          "text": [
            "[['000'], ['111'], ['011', '101', '110'], ['100', '010', '001']]\n"
          ],
          "name": "stdout"
        },
        {
          "output_type": "display_data",
          "data": {
            "image/png": "[encoded data removed]",
            "text/plain": [
              "<Figure size 432x288 with 1 Axes>"
            ]
          },
          "metadata": {
            "tags": []
          }
        }
      ]
    },
    {
      "cell_type": "code",
      "metadata": {
        "id": "4jHZD9yI0TWE",
        "colab_type": "code",
        "colab": {}
      },
      "source": [
        "import itertools\n",
        "import networkx as nx\n",
        "def compute_state_space_network_asynchronous(gene_with_rule, net_state):\n",
        "  # creates a list of all the possible states depending on amt of proteins\n",
        "  all_states = list(map(list, itertools.product([0, 1], repeat = len(proteins))))\n",
        "  #print(len(all_states))\n",
        "  start_state = all_states[0]\n",
        "  used_states = all_states[0]\n",
        "  edgelist = []\n",
        "  for start_state in all_states:\n",
        "    next_state_space = compute_next_protein_state_asynchronous(gene_with_rule, \n",
        "                                                              start_state, \n",
        "                                                                lines)\n",
        "    #print(next_state_space[0][1])\n",
        "    #print(edgelist)\n",
        "    for k in range(len(next_state_space)):\n",
        "      if next_state_space[k][1] not in edgelist:\n",
        "        edgelist.append((start_state, next_state_space[k][1]))\n",
        "      #if edgelist.count(next_state_space) > 1: \n",
        "  return edgelist\n",
        "\n",
        "output_a = compute_state_space_network_asynchronous(create_list_gene_with_rule(lines), [0,0,0,0])\n",
        "#print(output_a)"
      ],
      "execution_count": 0,
      "outputs": []
    },
    {
      "cell_type": "code",
      "metadata": {
        "id": "BUKVIhO55O3R",
        "colab_type": "code",
        "outputId": "cf6e445a-bdb2-41ed-d416-78460302d281",
        "colab": {
          "base_uri": "https://localhost:8080/",
          "height": 55
        }
      },
      "source": [
        "edgelist_a = []\n",
        "for seq in output_a:\n",
        "  sequence = seq\n",
        "  edgelist_a.extend([(''.join([str(st) for st in sequence[i]]),\n",
        "             ''.join([str(st) for st in sequence[i+1]])) for i in range(len(sequence)-1)])\n",
        "  \n",
        "print(edgelist_a)\n",
        "G_a = nx.DiGraph(edgelist_a)\n",
        "#nodes = G_a.nodes()\n",
        "#print(nodes)\n",
        "#cycle_a = (list(nx.simple_cycles(G_a)))\n",
        "#print(cycle_a)\n",
        "    \n",
        "    \n",
        "# self-loop\n",
        "#self_loop = list(nx.nodes_with_selfloops(G_a))\n",
        "#self_loop_edges = list(nx.selfloop_edges(G_a))\n",
        "#print(self_loop_edges)\n",
        "#print(self_loop)\n",
        "\n",
        "#nx.draw_circular(G_a, node_color='blue', with_labels=True)\n",
        "#plt.savefig('state_space_network_asynchronous_dyn-cycle.png')"
      ],
      "execution_count": 57,
      "outputs": [
        {
          "output_type": "stream",
          "text": [
            "[('0000', '1000'), ('0000', '0000'), ('0000', '0000'), ('0000', '0000'), ('0001', '0001'), ('0001', '0001'), ('0001', '0001'), ('0001', '0001'), ('0010', '1010'), ('0010', '0010'), ('0010', '0000'), ('0010', '0011'), ('0011', '0011'), ('0011', '0011'), ('0011', '0001'), ('0011', '0011'), ('0100', '1100'), ('0100', '0000'), ('0100', '0110'), ('0100', '0100'), ('0101', '0101'), ('0101', '0001'), ('0101', '0111'), ('0101', '0101'), ('0110', '1110'), ('0110', '0010'), ('0110', '0110'), ('0110', '0111'), ('0111', '0111'), ('0111', '0011'), ('0111', '0111'), ('0111', '0111'), ('1000', '1000'), ('1000', '1100'), ('1000', '1000'), ('1000', '1000'), ('1001', '0001'), ('1001', '1101'), ('1001', '1001'), ('1001', '1001'), ('1010', '1010'), ('1010', '1110'), ('1010', '1000'), ('1010', '1011'), ('1011', '0011'), ('1011', '1111'), ('1011', '1001'), ('1011', '1011'), ('1100', '1100'), ('1100', '1100'), ('1100', '1110'), ('1100', '1100'), ('1101', '0101'), ('1101', '1101'), ('1101', '1111'), ('1101', '1101'), ('1110', '1110'), ('1110', '1110'), ('1110', '1110'), ('1110', '1111'), ('1111', '0111'), ('1111', '1111'), ('1111', '1111'), ('1111', '1111')]\n"
          ],
          "name": "stdout"
        }
      ]
    },
    {
      "cell_type": "code",
      "metadata": {
        "id": "V1LrWo0a0yZ6",
        "colab_type": "code",
        "outputId": "8e3c958b-e575-4df2-9a15-ec6773d506af",
        "colab": {
          "base_uri": "https://localhost:8080/",
          "height": 55
        }
      },
      "source": [
        "def find_limit_cycle(G_a):\n",
        "  limit_cycle = list()\n",
        "  cycle = list(nx.simple_cycles(G_a))\n",
        "  return cycle\n",
        "\n",
        "print(find_limit_cycle(G_a))"
      ],
      "execution_count": 20,
      "outputs": [
        {
          "output_type": "stream",
          "text": [
            "[['0000'], ['1000'], ['1100'], ['0001'], ['0010'], ['1010'], ['0011'], ['1110'], ['1011'], ['0100'], ['0110'], ['0111'], ['0101'], ['1111'], ['1001'], ['1101']]\n"
          ],
          "name": "stdout"
        }
      ]
    },
    {
      "cell_type": "code",
      "metadata": {
        "id": "wUqmgopG31L8",
        "colab_type": "code",
        "outputId": "5fdc92e9-2ca4-44fe-d6db-8eab55ef157f",
        "colab": {
          "base_uri": "https://localhost:8080/",
          "height": 35
        }
      },
      "source": [
        "def find_longer_list(G_a):\n",
        "  limit_cycle = find_limit_cycle(G_a)\n",
        "  long_limit_cycle = list()\n",
        "  for i in limit_cycle:\n",
        "    if len(i) != 1:\n",
        "      long_limit_cycle.append(i)\n",
        "      return long_limit_cycle\n",
        "  edgelist_loop = []\n",
        "  for seq in long_limit_cycle:\n",
        "    sequence = seq\n",
        "    edgelist_loop.append((''.join([str(st) for st in seq[0]]),\n",
        "                          ''.join([str(st) for st in seq[1]])))\n",
        "    G_loop = nx.DiGraph(edgelist_loop)\n",
        "    nx.draw_spring(G_loop, with_labels=True)\n",
        "\n",
        "print(find_longer_list(G_a))"
      ],
      "execution_count": 23,
      "outputs": [
        {
          "output_type": "stream",
          "text": [
            "None\n"
          ],
          "name": "stdout"
        }
      ]
    },
    {
      "cell_type": "code",
      "metadata": {
        "id": "UjeFRComHcgl",
        "colab_type": "code",
        "outputId": "cf9bcd45-3dee-4fde-fb92-bced6485ecb7",
        "colab": {
          "base_uri": "https://localhost:8080/",
          "height": 319
        }
      },
      "source": [
        "# Mammalian\n",
        "loop = find_longer_list(G)\n",
        "#print(loop)\n",
        "edgelist_loop = []\n",
        "for seq in loop:\n",
        "  sequence = seq\n",
        "  edgelist_loop.extend([(''.join([str(st) for st in sequence[i]]),\n",
        "                      ''.join([str(st) for st in sequence[i+1]])) for i in range(len(sequence)-1)])\n",
        "edgelist_loop.extend([\n",
        "    (''.join([str(st) for st in loop[0][-1]]),\n",
        "    ''.join([str(st) for st in loop[0][0]])\n",
        "    )])\n",
        "G_loop = nx.DiGraph(edgelist_loop)\n",
        "nx.draw_circular(G_loop, with_labels=True)"
      ],
      "execution_count": 0,
      "outputs": [
        {
          "output_type": "display_data",
          "data": {
            "image/png": "[encoded data removed]",
            "text/plain": [
              "<Figure size 432x288 with 1 Axes>"
            ]
          },
          "metadata": {
            "tags": []
          }
        }
      ]
    },
    {
      "cell_type": "code",
      "metadata": {
        "id": "jvoXjFQI08vK",
        "colab_type": "code",
        "outputId": "fb4190d6-06fb-45a4-fa49-47ba049bd02f",
        "colab": {
          "base_uri": "https://localhost:8080/",
          "height": 55
        }
      },
      "source": [
        "def find_self_cycle(G_a):\n",
        "  self_cycle = list()\n",
        "  G = nx.DiGraph(edgelist_a)\n",
        "  self_loop_edges = list(nx.selfloop_edges(G))\n",
        "  state = [node[0] for node in self_loop_edges]\n",
        "  return state\n",
        "\n",
        "print(find_self_cycle(edgelist_a))"
      ],
      "execution_count": 25,
      "outputs": [
        {
          "output_type": "stream",
          "text": [
            "['0000', '1000', '0001', '0010', '1010', '0011', '0100', '1100', '0110', '0101', '0111', '1110', '1001', '1101', '1011', '1111']\n"
          ],
          "name": "stdout"
        }
      ]
    },
    {
      "cell_type": "code",
      "metadata": {
        "id": "B5RcyzGY5RrA",
        "colab_type": "code",
        "outputId": "c215d54d-8b0e-4953-e2bb-48fcf881fae6",
        "colab": {
          "base_uri": "https://localhost:8080/",
          "height": 72
        }
      },
      "source": [
        "# Creates a list of all nodes that are not steady states and removes duplicates\n",
        "def find_not_steady_states(G_a):\n",
        "  not_steady_state = list()\n",
        "  self_cycle = find_self_cycle(G_a)\n",
        "  long_limit_cycle = find_longer_list(G_a)\n",
        "  #print(len(edgelist_a))\n",
        "  #print(len(self_cycle))\n",
        "  for i in range(len(edgelist_a)):\n",
        "    for j in range(len(self_cycle)):\n",
        "      if self_cycle[j] == edgelist_a[i][0] and self_cycle[j] != edgelist_a[i][1]:\n",
        "        if self_cycle[j] not in not_steady_state:\n",
        "          not_steady_state.append(self_cycle[j])\n",
        "  return not_steady_state\n",
        "print(find_not_steady_states(G_a))\n",
        "\n",
        "# Remove the states that are not steady states from a list that contains all the possible nodes\n",
        "def find_steady_states(G_a):\n",
        "  steady_states = list()\n",
        "  self_cycle = find_self_cycle(G_a)\n",
        "  not_steady_state = find_not_steady_states(G_a)\n",
        "  steady_states = [x for x in self_cycle if x not in not_steady_state]\n",
        "  return steady_states\n",
        "print(find_steady_states(G_a))  "
      ],
      "execution_count": 26,
      "outputs": [
        {
          "output_type": "stream",
          "text": [
            "['0000', '0010', '0011', '0100', '0101', '0110', '0111', '1000', '1001', '1010', '1011', '1100', '1101', '1110', '1111']\n",
            "['0001']\n"
          ],
          "name": "stdout"
        }
      ]
    },
    {
      "cell_type": "code",
      "metadata": {
        "id": "nFpA95m0A9GJ",
        "colab_type": "code",
        "outputId": "beb3f441-61fa-4fec-b294-38c522b622ad",
        "colab": {
          "base_uri": "https://localhost:8080/",
          "height": 35
        }
      },
      "source": [
        "# Graphspace Asynchronous\n",
        "def graphspace_asynchronous(edgelist_a, G):\n",
        "  nodes = G_a.nodes()\n",
        "  edges = G_a.edges()\n",
        "  limit_cycle = find_longer_list(G_a)\n",
        "  steady_states = find_steady_states(G_a)\n",
        "  edges_count = count_edges(G_a)\n",
        "  #print(edges_count)\n",
        "  #print(len(edges_count.keys()))\n",
        "  scaled_edges = max_count_edges(G_a)\n",
        "  #print(scaled_edges)\n",
        "  #print(len(scaled_edges.keys()))\n",
        "  nodes_count = count_nodes(G_a)\n",
        "  scaled_nodes = max_count_nodes(G_a)\n",
        "  #print(len(scaled_nodes.keys()))\n",
        "  \n",
        "  file_name = open('figure-1-model-v_asynchronous.txt', 'w+')\n",
        "  file_name.write('head\\ttail\\thead_label\\ttail_label\\tedge_popup\\tstyle\\n')\n",
        "\n",
        "  head = \"{\\\"head\\\": {'spec': {'shape': '%s','color': '%s','border': \\\"black\\\", 'opacity': '%s'}, \\\"id\\\": '%s'},\"\n",
        "  tail = \"\\\"tail\\\": {'spec': {'shape': '%s','color': '%s','border': \\\"black\\\", 'opacity': '%s'}, \\\"id\\\": '%s'},\"\n",
        "  edge = \"\\\"edge\\\": {'spec': {\\\"target-arrow-shape\\\": 'triangle', \\\"color\\\": '%s', \\\"width\\\": '%s'}, \\\"id\\\": '%s-%s'}}\\n\"\n",
        "\n",
        "  style = head + tail + edge \n",
        "\n",
        "  for i in range(0, len(edgelist_a)):\n",
        "    if limit_cycle != None:\n",
        "      if edgelist_a[i][0] in limit_cycle:\n",
        "        edge_color = 'blue'\n",
        "      else:\n",
        "        edge_color = 'grey'\n",
        "    \n",
        "    if edgelist_a[i][0] in steady_states:\n",
        "      shape1 = 'rectangle'\n",
        "      color1 = 'red'\n",
        "      edge_color = 'grey'\n",
        "    else:\n",
        "      shape1 = 'ellipse'\n",
        "      color1 = 'grey'\n",
        "      edge_color = 'grey'\n",
        "    \n",
        "    if edgelist_a[i][1] in steady_states:\n",
        "      shape2 = 'rectangle'\n",
        "      color2 = 'red'\n",
        "    else:\n",
        "      shape2 = 'ellipse'\n",
        "      color2 = 'grey'\n",
        "      \n",
        "    if edgelist_a[i] in scaled_edges.keys():\n",
        "      if scaled_edges[edgelist_a[i]] == 0.0:\n",
        "        edge_width = 1.0\n",
        "      else:\n",
        "        edge_width = scaled_edges[edgelist_a[i]]\n",
        "      \n",
        "    if edgelist_a[i][0] in scaled_nodes.keys():\n",
        "      if scaled_nodes[edgelist_a[i][0]] == 0.0:\n",
        "        opacity1 = 0.25\n",
        "      else:\n",
        "        opacity1 = scaled_nodes[edgelist_a[i][0]]\n",
        "\n",
        "    if edgelist_a[i][1] in scaled_nodes.keys():\n",
        "      if scaled_nodes[edgelist_a[i][1]] == 0.0:\n",
        "        opacity2 = 0.25\n",
        "      else:\n",
        "        opacity2 = scaled_nodes[edgelist_a[i][1]]\n",
        "\n",
        "        \n",
        "    file_name.write(\"%s\\t%s\\t%s\\t%s\\t-\\t\" % (edgelist_a[i][0], edgelist_a[i][1], edgelist_a[i][0], edgelist_a[i][1]))\n",
        "    file_name.write(style % (shape1, color1, opacity1, edgelist_a[i][0], shape2, color2, opacity2, edgelist_a[i][1], \n",
        "                             edge_color, edge_width, edgelist_a[i][0], edgelist_a[i][1]))\n",
        "    \n",
        "  file_name.close()   \n",
        "print(graphspace_asynchronous(edgelist_a, G_a))"
      ],
      "execution_count": 150,
      "outputs": [
        {
          "output_type": "stream",
          "text": [
            "None\n"
          ],
          "name": "stdout"
        }
      ]
    },
    {
      "cell_type": "code",
      "metadata": {
        "id": "b5TtYeJ7Y-mS",
        "colab_type": "code",
        "outputId": "55cf5a3b-64bf-4c81-b0c1-660d38e46a78",
        "colab": {
          "base_uri": "https://localhost:8080/",
          "height": 1181
        }
      },
      "source": [
        "file_name = open('figure-1-model-v_asynchronous.txt', 'r+')\n",
        "print(file_name.read())"
      ],
      "execution_count": 151,
      "outputs": [
        {
          "output_type": "stream",
          "text": [
            "head\ttail\thead_label\ttail_label\tedge_popup\tstyle\n",
            "0000\t1000\t0000\t1000\t-\t{\"head\": {'spec': {'shape': 'ellipse','color': 'grey','border': \"black\", 'opacity': '0.25'}, \"id\": '0000'},\"tail\": {'spec': {'shape': 'ellipse','color': 'grey','border': \"black\", 'opacity': '0.7142857142857142'}, \"id\": '1000'},\"edge\": {'spec': {\"target-arrow-shape\": 'triangle', \"color\": 'grey', \"width\": '2.727272727272727'}, \"id\": '0000-1000'}}\n",
            "0000\t0000\t0000\t0000\t-\t{\"head\": {'spec': {'shape': 'ellipse','color': 'grey','border': \"black\", 'opacity': '0.25'}, \"id\": '0000'},\"tail\": {'spec': {'shape': 'ellipse','color': 'grey','border': \"black\", 'opacity': '0.25'}, \"id\": '0000'},\"edge\": {'spec': {\"target-arrow-shape\": 'triangle', \"color\": 'grey', \"width\": '1.0'}, \"id\": '0000-0000'}}\n",
            "0000\t0000\t0000\t0000\t-\t{\"head\": {'spec': {'shape': 'ellipse','color': 'grey','border': \"black\", 'opacity': '0.25'}, \"id\": '0000'},\"tail\": {'spec': {'shape': 'ellipse','color': 'grey','border': \"black\", 'opacity': '0.25'}, \"id\": '0000'},\"edge\": {'spec': {\"target-arrow-shape\": 'triangle', \"color\": 'grey', \"width\": '1.0'}, \"id\": '0000-0000'}}\n",
            "0000\t0000\t0000\t0000\t-\t{\"head\": {'spec': {'shape': 'ellipse','color': 'grey','border': \"black\", 'opacity': '0.25'}, \"id\": '0000'},\"tail\": {'spec': {'shape': 'ellipse','color': 'grey','border': \"black\", 'opacity': '0.25'}, \"id\": '0000'},\"edge\": {'spec': {\"target-arrow-shape\": 'triangle', \"color\": 'grey', \"width\": '1.0'}, \"id\": '0000-0000'}}\n",
            "0001\t0001\t0001\t0001\t-\t{\"head\": {'spec': {'shape': 'rectangle','color': 'red','border': \"black\", 'opacity': '10.0'}, \"id\": '0001'},\"tail\": {'spec': {'shape': 'rectangle','color': 'red','border': \"black\", 'opacity': '10.0'}, \"id\": '0001'},\"edge\": {'spec': {\"target-arrow-shape\": 'triangle', \"color\": 'grey', \"width\": '1.0'}, \"id\": '0001-0001'}}\n",
            "0001\t0001\t0001\t0001\t-\t{\"head\": {'spec': {'shape': 'rectangle','color': 'red','border': \"black\", 'opacity': '10.0'}, \"id\": '0001'},\"tail\": {'spec': {'shape': 'rectangle','color': 'red','border': \"black\", 'opacity': '10.0'}, \"id\": '0001'},\"edge\": {'spec': {\"target-arrow-shape\": 'triangle', \"color\": 'grey', \"width\": '1.0'}, \"id\": '0001-0001'}}\n",
            "0001\t0001\t0001\t0001\t-\t{\"head\": {'spec': {'shape': 'rectangle','color': 'red','border': \"black\", 'opacity': '10.0'}, \"id\": '0001'},\"tail\": {'spec': {'shape': 'rectangle','color': 'red','border': \"black\", 'opacity': '10.0'}, \"id\": '0001'},\"edge\": {'spec': {\"target-arrow-shape\": 'triangle', \"color\": 'grey', \"width\": '1.0'}, \"id\": '0001-0001'}}\n",
            "0001\t0001\t0001\t0001\t-\t{\"head\": {'spec': {'shape': 'rectangle','color': 'red','border': \"black\", 'opacity': '10.0'}, \"id\": '0001'},\"tail\": {'spec': {'shape': 'rectangle','color': 'red','border': \"black\", 'opacity': '10.0'}, \"id\": '0001'},\"edge\": {'spec': {\"target-arrow-shape\": 'triangle', \"color\": 'grey', \"width\": '1.0'}, \"id\": '0001-0001'}}\n",
            "0010\t1010\t0010\t1010\t-\t{\"head\": {'spec': {'shape': 'ellipse','color': 'grey','border': \"black\", 'opacity': '0.3571428571428571'}, \"id\": '0010'},\"tail\": {'spec': {'shape': 'ellipse','color': 'grey','border': \"black\", 'opacity': '0.3571428571428571'}, \"id\": '1010'},\"edge\": {'spec': {\"target-arrow-shape\": 'triangle', \"color\": 'grey', \"width\": '0.4545454545454546'}, \"id\": '0010-1010'}}\n",
            "0010\t0010\t0010\t0010\t-\t{\"head\": {'spec': {'shape': 'ellipse','color': 'grey','border': \"black\", 'opacity': '0.3571428571428571'}, \"id\": '0010'},\"tail\": {'spec': {'shape': 'ellipse','color': 'grey','border': \"black\", 'opacity': '0.3571428571428571'}, \"id\": '0010'},\"edge\": {'spec': {\"target-arrow-shape\": 'triangle', \"color\": 'grey', \"width\": '1.0'}, \"id\": '0010-0010'}}\n",
            "0010\t0000\t0010\t0000\t-\t{\"head\": {'spec': {'shape': 'ellipse','color': 'grey','border': \"black\", 'opacity': '0.3571428571428571'}, \"id\": '0010'},\"tail\": {'spec': {'shape': 'ellipse','color': 'grey','border': \"black\", 'opacity': '0.25'}, \"id\": '0000'},\"edge\": {'spec': {\"target-arrow-shape\": 'triangle', \"color\": 'grey', \"width\": '0.4545454545454546'}, \"id\": '0010-0000'}}\n",
            "0010\t0011\t0010\t0011\t-\t{\"head\": {'spec': {'shape': 'ellipse','color': 'grey','border': \"black\", 'opacity': '0.3571428571428571'}, \"id\": '0010'},\"tail\": {'spec': {'shape': 'ellipse','color': 'grey','border': \"black\", 'opacity': '8.214285714285714'}, \"id\": '0011'},\"edge\": {'spec': {\"target-arrow-shape\": 'triangle', \"color\": 'grey', \"width\": '1.0'}, \"id\": '0010-0011'}}\n",
            "0011\t0011\t0011\t0011\t-\t{\"head\": {'spec': {'shape': 'ellipse','color': 'grey','border': \"black\", 'opacity': '8.214285714285714'}, \"id\": '0011'},\"tail\": {'spec': {'shape': 'ellipse','color': 'grey','border': \"black\", 'opacity': '8.214285714285714'}, \"id\": '0011'},\"edge\": {'spec': {\"target-arrow-shape\": 'triangle', \"color\": 'grey', \"width\": '1.0'}, \"id\": '0011-0011'}}\n",
            "0011\t0011\t0011\t0011\t-\t{\"head\": {'spec': {'shape': 'ellipse','color': 'grey','border': \"black\", 'opacity': '8.214285714285714'}, \"id\": '0011'},\"tail\": {'spec': {'shape': 'ellipse','color': 'grey','border': \"black\", 'opacity': '8.214285714285714'}, \"id\": '0011'},\"edge\": {'spec': {\"target-arrow-shape\": 'triangle', \"color\": 'grey', \"width\": '1.0'}, \"id\": '0011-0011'}}\n",
            "0011\t0001\t0011\t0001\t-\t{\"head\": {'spec': {'shape': 'ellipse','color': 'grey','border': \"black\", 'opacity': '8.214285714285714'}, \"id\": '0011'},\"tail\": {'spec': {'shape': 'rectangle','color': 'red','border': \"black\", 'opacity': '10.0'}, \"id\": '0001'},\"edge\": {'spec': {\"target-arrow-shape\": 'triangle', \"color\": 'grey', \"width\": '10.0'}, \"id\": '0011-0001'}}\n",
            "0011\t0011\t0011\t0011\t-\t{\"head\": {'spec': {'shape': 'ellipse','color': 'grey','border': \"black\", 'opacity': '8.214285714285714'}, \"id\": '0011'},\"tail\": {'spec': {'shape': 'ellipse','color': 'grey','border': \"black\", 'opacity': '8.214285714285714'}, \"id\": '0011'},\"edge\": {'spec': {\"target-arrow-shape\": 'triangle', \"color\": 'grey', \"width\": '1.0'}, \"id\": '0011-0011'}}\n",
            "0100\t1100\t0100\t1100\t-\t{\"head\": {'spec': {'shape': 'ellipse','color': 'grey','border': \"black\", 'opacity': '0.25'}, \"id\": '0100'},\"tail\": {'spec': {'shape': 'ellipse','color': 'grey','border': \"black\", 'opacity': '1.0714285714285714'}, \"id\": '1100'},\"edge\": {'spec': {\"target-arrow-shape\": 'triangle', \"color\": 'grey', \"width\": '0.4545454545454546'}, \"id\": '0100-1100'}}\n",
            "0100\t0000\t0100\t0000\t-\t{\"head\": {'spec': {'shape': 'ellipse','color': 'grey','border': \"black\", 'opacity': '0.25'}, \"id\": '0100'},\"tail\": {'spec': {'shape': 'ellipse','color': 'grey','border': \"black\", 'opacity': '0.25'}, \"id\": '0000'},\"edge\": {'spec': {\"target-arrow-shape\": 'triangle', \"color\": 'grey', \"width\": '1.0'}, \"id\": '0100-0000'}}\n",
            "0100\t0110\t0100\t0110\t-\t{\"head\": {'spec': {'shape': 'ellipse','color': 'grey','border': \"black\", 'opacity': '0.25'}, \"id\": '0100'},\"tail\": {'spec': {'shape': 'ellipse','color': 'grey','border': \"black\", 'opacity': '0.25'}, \"id\": '0110'},\"edge\": {'spec': {\"target-arrow-shape\": 'triangle', \"color\": 'grey', \"width\": '1.0'}, \"id\": '0100-0110'}}\n",
            "0100\t0100\t0100\t0100\t-\t{\"head\": {'spec': {'shape': 'ellipse','color': 'grey','border': \"black\", 'opacity': '0.25'}, \"id\": '0100'},\"tail\": {'spec': {'shape': 'ellipse','color': 'grey','border': \"black\", 'opacity': '0.25'}, \"id\": '0100'},\"edge\": {'spec': {\"target-arrow-shape\": 'triangle', \"color\": 'grey', \"width\": '1.0'}, \"id\": '0100-0100'}}\n",
            "0101\t0101\t0101\t0101\t-\t{\"head\": {'spec': {'shape': 'ellipse','color': 'grey','border': \"black\", 'opacity': '0.7142857142857142'}, \"id\": '0101'},\"tail\": {'spec': {'shape': 'ellipse','color': 'grey','border': \"black\", 'opacity': '0.7142857142857142'}, \"id\": '0101'},\"edge\": {'spec': {\"target-arrow-shape\": 'triangle', \"color\": 'grey', \"width\": '1.0'}, \"id\": '0101-0101'}}\n",
            "0101\t0001\t0101\t0001\t-\t{\"head\": {'spec': {'shape': 'ellipse','color': 'grey','border': \"black\", 'opacity': '0.7142857142857142'}, \"id\": '0101'},\"tail\": {'spec': {'shape': 'rectangle','color': 'red','border': \"black\", 'opacity': '10.0'}, \"id\": '0001'},\"edge\": {'spec': {\"target-arrow-shape\": 'triangle', \"color\": 'grey', \"width\": '1.3636363636363635'}, \"id\": '0101-0001'}}\n",
            "0101\t0111\t0101\t0111\t-\t{\"head\": {'spec': {'shape': 'ellipse','color': 'grey','border': \"black\", 'opacity': '0.7142857142857142'}, \"id\": '0101'},\"tail\": {'spec': {'shape': 'ellipse','color': 'grey','border': \"black\", 'opacity': '7.142857142857143'}, \"id\": '0111'},\"edge\": {'spec': {\"target-arrow-shape\": 'triangle', \"color\": 'grey', \"width\": '1.0'}, \"id\": '0101-0111'}}\n",
            "0101\t0101\t0101\t0101\t-\t{\"head\": {'spec': {'shape': 'ellipse','color': 'grey','border': \"black\", 'opacity': '0.7142857142857142'}, \"id\": '0101'},\"tail\": {'spec': {'shape': 'ellipse','color': 'grey','border': \"black\", 'opacity': '0.7142857142857142'}, \"id\": '0101'},\"edge\": {'spec': {\"target-arrow-shape\": 'triangle', \"color\": 'grey', \"width\": '1.0'}, \"id\": '0101-0101'}}\n",
            "0110\t1110\t0110\t1110\t-\t{\"head\": {'spec': {'shape': 'ellipse','color': 'grey','border': \"black\", 'opacity': '0.25'}, \"id\": '0110'},\"tail\": {'spec': {'shape': 'ellipse','color': 'grey','border': \"black\", 'opacity': '2.142857142857143'}, \"id\": '1110'},\"edge\": {'spec': {\"target-arrow-shape\": 'triangle', \"color\": 'grey', \"width\": '1.0'}, \"id\": '0110-1110'}}\n",
            "0110\t0010\t0110\t0010\t-\t{\"head\": {'spec': {'shape': 'ellipse','color': 'grey','border': \"black\", 'opacity': '0.25'}, \"id\": '0110'},\"tail\": {'spec': {'shape': 'ellipse','color': 'grey','border': \"black\", 'opacity': '0.3571428571428571'}, \"id\": '0010'},\"edge\": {'spec': {\"target-arrow-shape\": 'triangle', \"color\": 'grey', \"width\": '1.0'}, \"id\": '0110-0010'}}\n",
            "0110\t0110\t0110\t0110\t-\t{\"head\": {'spec': {'shape': 'ellipse','color': 'grey','border': \"black\", 'opacity': '0.25'}, \"id\": '0110'},\"tail\": {'spec': {'shape': 'ellipse','color': 'grey','border': \"black\", 'opacity': '0.25'}, \"id\": '0110'},\"edge\": {'spec': {\"target-arrow-shape\": 'triangle', \"color\": 'grey', \"width\": '1.0'}, \"id\": '0110-0110'}}\n",
            "0110\t0111\t0110\t0111\t-\t{\"head\": {'spec': {'shape': 'ellipse','color': 'grey','border': \"black\", 'opacity': '0.25'}, \"id\": '0110'},\"tail\": {'spec': {'shape': 'ellipse','color': 'grey','border': \"black\", 'opacity': '7.142857142857143'}, \"id\": '0111'},\"edge\": {'spec': {\"target-arrow-shape\": 'triangle', \"color\": 'grey', \"width\": '0.4545454545454546'}, \"id\": '0110-0111'}}\n",
            "0111\t0111\t0111\t0111\t-\t{\"head\": {'spec': {'shape': 'ellipse','color': 'grey','border': \"black\", 'opacity': '7.142857142857143'}, \"id\": '0111'},\"tail\": {'spec': {'shape': 'ellipse','color': 'grey','border': \"black\", 'opacity': '7.142857142857143'}, \"id\": '0111'},\"edge\": {'spec': {\"target-arrow-shape\": 'triangle', \"color\": 'grey', \"width\": '1.0'}, \"id\": '0111-0111'}}\n",
            "0111\t0011\t0111\t0011\t-\t{\"head\": {'spec': {'shape': 'ellipse','color': 'grey','border': \"black\", 'opacity': '7.142857142857143'}, \"id\": '0111'},\"tail\": {'spec': {'shape': 'ellipse','color': 'grey','border': \"black\", 'opacity': '8.214285714285714'}, \"id\": '0011'},\"edge\": {'spec': {\"target-arrow-shape\": 'triangle', \"color\": 'grey', \"width\": '9.545454545454547'}, \"id\": '0111-0011'}}\n",
            "0111\t0111\t0111\t0111\t-\t{\"head\": {'spec': {'shape': 'ellipse','color': 'grey','border': \"black\", 'opacity': '7.142857142857143'}, \"id\": '0111'},\"tail\": {'spec': {'shape': 'ellipse','color': 'grey','border': \"black\", 'opacity': '7.142857142857143'}, \"id\": '0111'},\"edge\": {'spec': {\"target-arrow-shape\": 'triangle', \"color\": 'grey', \"width\": '1.0'}, \"id\": '0111-0111'}}\n",
            "0111\t0111\t0111\t0111\t-\t{\"head\": {'spec': {'shape': 'ellipse','color': 'grey','border': \"black\", 'opacity': '7.142857142857143'}, \"id\": '0111'},\"tail\": {'spec': {'shape': 'ellipse','color': 'grey','border': \"black\", 'opacity': '7.142857142857143'}, \"id\": '0111'},\"edge\": {'spec': {\"target-arrow-shape\": 'triangle', \"color\": 'grey', \"width\": '1.0'}, \"id\": '0111-0111'}}\n",
            "1000\t1000\t1000\t1000\t-\t{\"head\": {'spec': {'shape': 'ellipse','color': 'grey','border': \"black\", 'opacity': '0.7142857142857142'}, \"id\": '1000'},\"tail\": {'spec': {'shape': 'ellipse','color': 'grey','border': \"black\", 'opacity': '0.7142857142857142'}, \"id\": '1000'},\"edge\": {'spec': {\"target-arrow-shape\": 'triangle', \"color\": 'grey', \"width\": '1.0'}, \"id\": '1000-1000'}}\n",
            "1000\t1100\t1000\t1100\t-\t{\"head\": {'spec': {'shape': 'ellipse','color': 'grey','border': \"black\", 'opacity': '0.7142857142857142'}, \"id\": '1000'},\"tail\": {'spec': {'shape': 'ellipse','color': 'grey','border': \"black\", 'opacity': '1.0714285714285714'}, \"id\": '1100'},\"edge\": {'spec': {\"target-arrow-shape\": 'triangle', \"color\": 'grey', \"width\": '4.090909090909091'}, \"id\": '1000-1100'}}\n",
            "1000\t1000\t1000\t1000\t-\t{\"head\": {'spec': {'shape': 'ellipse','color': 'grey','border': \"black\", 'opacity': '0.7142857142857142'}, \"id\": '1000'},\"tail\": {'spec': {'shape': 'ellipse','color': 'grey','border': \"black\", 'opacity': '0.7142857142857142'}, \"id\": '1000'},\"edge\": {'spec': {\"target-arrow-shape\": 'triangle', \"color\": 'grey', \"width\": '1.0'}, \"id\": '1000-1000'}}\n",
            "1000\t1000\t1000\t1000\t-\t{\"head\": {'spec': {'shape': 'ellipse','color': 'grey','border': \"black\", 'opacity': '0.7142857142857142'}, \"id\": '1000'},\"tail\": {'spec': {'shape': 'ellipse','color': 'grey','border': \"black\", 'opacity': '0.7142857142857142'}, \"id\": '1000'},\"edge\": {'spec': {\"target-arrow-shape\": 'triangle', \"color\": 'grey', \"width\": '1.0'}, \"id\": '1000-1000'}}\n",
            "1001\t0001\t1001\t0001\t-\t{\"head\": {'spec': {'shape': 'ellipse','color': 'grey','border': \"black\", 'opacity': '0.25'}, \"id\": '1001'},\"tail\": {'spec': {'shape': 'rectangle','color': 'red','border': \"black\", 'opacity': '10.0'}, \"id\": '0001'},\"edge\": {'spec': {\"target-arrow-shape\": 'triangle', \"color\": 'grey', \"width\": '1.0'}, \"id\": '1001-0001'}}\n",
            "1001\t1101\t1001\t1101\t-\t{\"head\": {'spec': {'shape': 'ellipse','color': 'grey','border': \"black\", 'opacity': '0.25'}, \"id\": '1001'},\"tail\": {'spec': {'shape': 'ellipse','color': 'grey','border': \"black\", 'opacity': '0.7142857142857142'}, \"id\": '1101'},\"edge\": {'spec': {\"target-arrow-shape\": 'triangle', \"color\": 'grey', \"width\": '0.4545454545454546'}, \"id\": '1001-1101'}}\n",
            "1001\t1001\t1001\t1001\t-\t{\"head\": {'spec': {'shape': 'ellipse','color': 'grey','border': \"black\", 'opacity': '0.25'}, \"id\": '1001'},\"tail\": {'spec': {'shape': 'ellipse','color': 'grey','border': \"black\", 'opacity': '0.25'}, \"id\": '1001'},\"edge\": {'spec': {\"target-arrow-shape\": 'triangle', \"color\": 'grey', \"width\": '1.0'}, \"id\": '1001-1001'}}\n",
            "1001\t1001\t1001\t1001\t-\t{\"head\": {'spec': {'shape': 'ellipse','color': 'grey','border': \"black\", 'opacity': '0.25'}, \"id\": '1001'},\"tail\": {'spec': {'shape': 'ellipse','color': 'grey','border': \"black\", 'opacity': '0.25'}, \"id\": '1001'},\"edge\": {'spec': {\"target-arrow-shape\": 'triangle', \"color\": 'grey', \"width\": '1.0'}, \"id\": '1001-1001'}}\n",
            "1010\t1010\t1010\t1010\t-\t{\"head\": {'spec': {'shape': 'ellipse','color': 'grey','border': \"black\", 'opacity': '0.3571428571428571'}, \"id\": '1010'},\"tail\": {'spec': {'shape': 'ellipse','color': 'grey','border': \"black\", 'opacity': '0.3571428571428571'}, \"id\": '1010'},\"edge\": {'spec': {\"target-arrow-shape\": 'triangle', \"color\": 'grey', \"width\": '1.0'}, \"id\": '1010-1010'}}\n",
            "1010\t1110\t1010\t1110\t-\t{\"head\": {'spec': {'shape': 'ellipse','color': 'grey','border': \"black\", 'opacity': '0.3571428571428571'}, \"id\": '1010'},\"tail\": {'spec': {'shape': 'ellipse','color': 'grey','border': \"black\", 'opacity': '2.142857142857143'}, \"id\": '1110'},\"edge\": {'spec': {\"target-arrow-shape\": 'triangle', \"color\": 'grey', \"width\": '1.0'}, \"id\": '1010-1110'}}\n",
            "1010\t1000\t1010\t1000\t-\t{\"head\": {'spec': {'shape': 'ellipse','color': 'grey','border': \"black\", 'opacity': '0.3571428571428571'}, \"id\": '1010'},\"tail\": {'spec': {'shape': 'ellipse','color': 'grey','border': \"black\", 'opacity': '0.7142857142857142'}, \"id\": '1000'},\"edge\": {'spec': {\"target-arrow-shape\": 'triangle', \"color\": 'grey', \"width\": '0.9090909090909092'}, \"id\": '1010-1000'}}\n",
            "1010\t1011\t1010\t1011\t-\t{\"head\": {'spec': {'shape': 'ellipse','color': 'grey','border': \"black\", 'opacity': '0.3571428571428571'}, \"id\": '1010'},\"tail\": {'spec': {'shape': 'ellipse','color': 'grey','border': \"black\", 'opacity': '0.3571428571428571'}, \"id\": '1011'},\"edge\": {'spec': {\"target-arrow-shape\": 'triangle', \"color\": 'grey', \"width\": '0.4545454545454546'}, \"id\": '1010-1011'}}\n",
            "1011\t0011\t1011\t0011\t-\t{\"head\": {'spec': {'shape': 'ellipse','color': 'grey','border': \"black\", 'opacity': '0.3571428571428571'}, \"id\": '1011'},\"tail\": {'spec': {'shape': 'ellipse','color': 'grey','border': \"black\", 'opacity': '8.214285714285714'}, \"id\": '0011'},\"edge\": {'spec': {\"target-arrow-shape\": 'triangle', \"color\": 'grey', \"width\": '0.4545454545454546'}, \"id\": '1011-0011'}}\n",
            "1011\t1111\t1011\t1111\t-\t{\"head\": {'spec': {'shape': 'ellipse','color': 'grey','border': \"black\", 'opacity': '0.3571428571428571'}, \"id\": '1011'},\"tail\": {'spec': {'shape': 'ellipse','color': 'grey','border': \"black\", 'opacity': '4.285714285714286'}, \"id\": '1111'},\"edge\": {'spec': {\"target-arrow-shape\": 'triangle', \"color\": 'grey', \"width\": '0.4545454545454546'}, \"id\": '1011-1111'}}\n",
            "1011\t1001\t1011\t1001\t-\t{\"head\": {'spec': {'shape': 'ellipse','color': 'grey','border': \"black\", 'opacity': '0.3571428571428571'}, \"id\": '1011'},\"tail\": {'spec': {'shape': 'ellipse','color': 'grey','border': \"black\", 'opacity': '0.25'}, \"id\": '1001'},\"edge\": {'spec': {\"target-arrow-shape\": 'triangle', \"color\": 'grey', \"width\": '0.4545454545454546'}, \"id\": '1011-1001'}}\n",
            "1011\t1011\t1011\t1011\t-\t{\"head\": {'spec': {'shape': 'ellipse','color': 'grey','border': \"black\", 'opacity': '0.3571428571428571'}, \"id\": '1011'},\"tail\": {'spec': {'shape': 'ellipse','color': 'grey','border': \"black\", 'opacity': '0.3571428571428571'}, \"id\": '1011'},\"edge\": {'spec': {\"target-arrow-shape\": 'triangle', \"color\": 'grey', \"width\": '1.0'}, \"id\": '1011-1011'}}\n",
            "1100\t1100\t1100\t1100\t-\t{\"head\": {'spec': {'shape': 'ellipse','color': 'grey','border': \"black\", 'opacity': '1.0714285714285714'}, \"id\": '1100'},\"tail\": {'spec': {'shape': 'ellipse','color': 'grey','border': \"black\", 'opacity': '1.0714285714285714'}, \"id\": '1100'},\"edge\": {'spec': {\"target-arrow-shape\": 'triangle', \"color\": 'grey', \"width\": '1.0'}, \"id\": '1100-1100'}}\n",
            "1100\t1100\t1100\t1100\t-\t{\"head\": {'spec': {'shape': 'ellipse','color': 'grey','border': \"black\", 'opacity': '1.0714285714285714'}, \"id\": '1100'},\"tail\": {'spec': {'shape': 'ellipse','color': 'grey','border': \"black\", 'opacity': '1.0714285714285714'}, \"id\": '1100'},\"edge\": {'spec': {\"target-arrow-shape\": 'triangle', \"color\": 'grey', \"width\": '1.0'}, \"id\": '1100-1100'}}\n",
            "1100\t1110\t1100\t1110\t-\t{\"head\": {'spec': {'shape': 'ellipse','color': 'grey','border': \"black\", 'opacity': '1.0714285714285714'}, \"id\": '1100'},\"tail\": {'spec': {'shape': 'ellipse','color': 'grey','border': \"black\", 'opacity': '2.142857142857143'}, \"id\": '1110'},\"edge\": {'spec': {\"target-arrow-shape\": 'triangle', \"color\": 'grey', \"width\": '5.0'}, \"id\": '1100-1110'}}\n",
            "1100\t1100\t1100\t1100\t-\t{\"head\": {'spec': {'shape': 'ellipse','color': 'grey','border': \"black\", 'opacity': '1.0714285714285714'}, \"id\": '1100'},\"tail\": {'spec': {'shape': 'ellipse','color': 'grey','border': \"black\", 'opacity': '1.0714285714285714'}, \"id\": '1100'},\"edge\": {'spec': {\"target-arrow-shape\": 'triangle', \"color\": 'grey', \"width\": '1.0'}, \"id\": '1100-1100'}}\n",
            "1101\t0101\t1101\t0101\t-\t{\"head\": {'spec': {'shape': 'ellipse','color': 'grey','border': \"black\", 'opacity': '0.7142857142857142'}, \"id\": '1101'},\"tail\": {'spec': {'shape': 'ellipse','color': 'grey','border': \"black\", 'opacity': '0.7142857142857142'}, \"id\": '0101'},\"edge\": {'spec': {\"target-arrow-shape\": 'triangle', \"color\": 'grey', \"width\": '0.4545454545454546'}, \"id\": '1101-0101'}}\n",
            "1101\t1101\t1101\t1101\t-\t{\"head\": {'spec': {'shape': 'ellipse','color': 'grey','border': \"black\", 'opacity': '0.7142857142857142'}, \"id\": '1101'},\"tail\": {'spec': {'shape': 'ellipse','color': 'grey','border': \"black\", 'opacity': '0.7142857142857142'}, \"id\": '1101'},\"edge\": {'spec': {\"target-arrow-shape\": 'triangle', \"color\": 'grey', \"width\": '1.0'}, \"id\": '1101-1101'}}\n",
            "1101\t1111\t1101\t1111\t-\t{\"head\": {'spec': {'shape': 'ellipse','color': 'grey','border': \"black\", 'opacity': '0.7142857142857142'}, \"id\": '1101'},\"tail\": {'spec': {'shape': 'ellipse','color': 'grey','border': \"black\", 'opacity': '4.285714285714286'}, \"id\": '1111'},\"edge\": {'spec': {\"target-arrow-shape\": 'triangle', \"color\": 'grey', \"width\": '0.4545454545454546'}, \"id\": '1101-1111'}}\n",
            "1101\t1101\t1101\t1101\t-\t{\"head\": {'spec': {'shape': 'ellipse','color': 'grey','border': \"black\", 'opacity': '0.7142857142857142'}, \"id\": '1101'},\"tail\": {'spec': {'shape': 'ellipse','color': 'grey','border': \"black\", 'opacity': '0.7142857142857142'}, \"id\": '1101'},\"edge\": {'spec': {\"target-arrow-shape\": 'triangle', \"color\": 'grey', \"width\": '1.0'}, \"id\": '1101-1101'}}\n",
            "1110\t1110\t1110\t1110\t-\t{\"head\": {'spec': {'shape': 'ellipse','color': 'grey','border': \"black\", 'opacity': '2.142857142857143'}, \"id\": '1110'},\"tail\": {'spec': {'shape': 'ellipse','color': 'grey','border': \"black\", 'opacity': '2.142857142857143'}, \"id\": '1110'},\"edge\": {'spec': {\"target-arrow-shape\": 'triangle', \"color\": 'grey', \"width\": '1.0'}, \"id\": '1110-1110'}}\n",
            "1110\t1110\t1110\t1110\t-\t{\"head\": {'spec': {'shape': 'ellipse','color': 'grey','border': \"black\", 'opacity': '2.142857142857143'}, \"id\": '1110'},\"tail\": {'spec': {'shape': 'ellipse','color': 'grey','border': \"black\", 'opacity': '2.142857142857143'}, \"id\": '1110'},\"edge\": {'spec': {\"target-arrow-shape\": 'triangle', \"color\": 'grey', \"width\": '1.0'}, \"id\": '1110-1110'}}\n",
            "1110\t1110\t1110\t1110\t-\t{\"head\": {'spec': {'shape': 'ellipse','color': 'grey','border': \"black\", 'opacity': '2.142857142857143'}, \"id\": '1110'},\"tail\": {'spec': {'shape': 'ellipse','color': 'grey','border': \"black\", 'opacity': '2.142857142857143'}, \"id\": '1110'},\"edge\": {'spec': {\"target-arrow-shape\": 'triangle', \"color\": 'grey', \"width\": '1.0'}, \"id\": '1110-1110'}}\n",
            "1110\t1111\t1110\t1111\t-\t{\"head\": {'spec': {'shape': 'ellipse','color': 'grey','border': \"black\", 'opacity': '2.142857142857143'}, \"id\": '1110'},\"tail\": {'spec': {'shape': 'ellipse','color': 'grey','border': \"black\", 'opacity': '4.285714285714286'}, \"id\": '1111'},\"edge\": {'spec': {\"target-arrow-shape\": 'triangle', \"color\": 'grey', \"width\": '5.909090909090909'}, \"id\": '1110-1111'}}\n",
            "1111\t0111\t1111\t0111\t-\t{\"head\": {'spec': {'shape': 'ellipse','color': 'grey','border': \"black\", 'opacity': '4.285714285714286'}, \"id\": '1111'},\"tail\": {'spec': {'shape': 'ellipse','color': 'grey','border': \"black\", 'opacity': '7.142857142857143'}, \"id\": '0111'},\"edge\": {'spec': {\"target-arrow-shape\": 'triangle', \"color\": 'grey', \"width\": '8.181818181818182'}, \"id\": '1111-0111'}}\n",
            "1111\t1111\t1111\t1111\t-\t{\"head\": {'spec': {'shape': 'ellipse','color': 'grey','border': \"black\", 'opacity': '4.285714285714286'}, \"id\": '1111'},\"tail\": {'spec': {'shape': 'ellipse','color': 'grey','border': \"black\", 'opacity': '4.285714285714286'}, \"id\": '1111'},\"edge\": {'spec': {\"target-arrow-shape\": 'triangle', \"color\": 'grey', \"width\": '1.0'}, \"id\": '1111-1111'}}\n",
            "1111\t1111\t1111\t1111\t-\t{\"head\": {'spec': {'shape': 'ellipse','color': 'grey','border': \"black\", 'opacity': '4.285714285714286'}, \"id\": '1111'},\"tail\": {'spec': {'shape': 'ellipse','color': 'grey','border': \"black\", 'opacity': '4.285714285714286'}, \"id\": '1111'},\"edge\": {'spec': {\"target-arrow-shape\": 'triangle', \"color\": 'grey', \"width\": '1.0'}, \"id\": '1111-1111'}}\n",
            "1111\t1111\t1111\t1111\t-\t{\"head\": {'spec': {'shape': 'ellipse','color': 'grey','border': \"black\", 'opacity': '4.285714285714286'}, \"id\": '1111'},\"tail\": {'spec': {'shape': 'ellipse','color': 'grey','border': \"black\", 'opacity': '4.285714285714286'}, \"id\": '1111'},\"edge\": {'spec': {\"target-arrow-shape\": 'triangle', \"color\": 'grey', \"width\": '1.0'}, \"id\": '1111-1111'}}\n",
            "\n"
          ],
          "name": "stdout"
        }
      ]
    },
    {
      "cell_type": "code",
      "metadata": {
        "id": "Cg-Fes2VtGXB",
        "colab_type": "code",
        "outputId": "7692c34c-dbfa-4c99-c2ed-b6d309ea6e75",
        "colab": {
          "base_uri": "https://localhost:8080/",
          "height": 35
        }
      },
      "source": [
        "# Graphspace Synchronous\n",
        "def graphspace_synchronous(edgelist, G):\n",
        "  nodes = G.nodes()\n",
        "  edges = G.edges()\n",
        "  limit_cycle = find_longer_list(nodes)\n",
        "  steady_states = find_steady_states(nodes)\n",
        "  #random_walk = individual_random_walk(nodes)\n",
        "  edges_count = count_edges(G)\n",
        "  scaled_edges = max_count_edges(G)\n",
        "  nodes_count = count_nodes(G)\n",
        "  scaled_nodes = max_count_nodes(G)\n",
        "  \n",
        "  file_name = open('figure-1-model-ii_synchronous.txt', 'w+')\n",
        "  file_name.write('head\\ttail\\thead_label\\ttail_label\\tedge_popup\\tstyle\\n')\n",
        "\n",
        "  head = \"{\\\"head\\\": {'spec': {'shape': '%s','color': '%s','border': \\\"black\\\", 'opacity': '%s'}, \\\"id\\\": '%s'},\"\n",
        "  tail = \"\\\"tail\\\": {'spec': {'shape': '%s','color': '%s','border': \\\"black\\\", 'opacity': '%s'}, \\\"id\\\": '%s'},\"\n",
        "  edge = \"\\\"edge\\\": {'spec': {\\\"target-arrow-shape\\\": 'triangle', \\\"color\\\": '%s', \\\"width\\\": '%s'}, \\\"id\\\": '%s-%s'}}\\n\"\n",
        "\n",
        "  style = head + tail + edge \n",
        "\n",
        "  for i in range(0, len(edgelist)):\n",
        "    #if edgelist_a[i][0] in limit_cycle:\n",
        "      #edge_color = 'blue'\n",
        "    #else:\n",
        "      #edge_color = 'grey'\n",
        "    \n",
        "    if edgelist[i][0] in steady_states:\n",
        "      shape1 = 'rectangle'\n",
        "      color1 = 'red'\n",
        "      edge_color = 'grey'\n",
        "    else:\n",
        "      shape1 = 'ellipse'\n",
        "      color1 = 'grey'\n",
        "      edge_color = 'grey'\n",
        "    \n",
        "    if edgelist[i][1] in steady_states:\n",
        "      shape2 = 'rectangle'\n",
        "      color2 = 'red'\n",
        "    else:\n",
        "      shape2 = 'ellipse'\n",
        "      color2 = 'grey'   \n",
        "      \n",
        "    if edgelist[i] in scaled_edges.keys():\n",
        "      if scaled_edges[edgelist[i]] == 0.0:\n",
        "        edge_width = 1.0\n",
        "      else:\n",
        "        edge_width = scaled_edges[edgelist[i]]\n",
        "      \n",
        "    if edgelist[i][0] in scaled_nodes.keys():\n",
        "      if scaled_nodes[edgelist[i][0]] == 0.0:\n",
        "        opacity1 = 0.25\n",
        "      else:\n",
        "        opacity1 = scaled_nodes[edgelist[i][0]]\n",
        "\n",
        "    if edgelist[i][1] in scaled_nodes.keys():\n",
        "      if scaled_nodes[edgelist[i][1]] == 0.0:\n",
        "        opacity2 = 0.25\n",
        "      else:\n",
        "        opacity2 = scaled_nodes[edgelist[i][1]]\n",
        "     \n",
        "      \n",
        "    file_name.write(\"%s\\t%s\\t%s\\t%s\\t-\\t\" % (edgelist[i][0], edgelist[i][1], edgelist[i][0], edgelist[i][1]))\n",
        "    file_name.write(style % (shape1, color1, opacity1, edgelist[i][0], shape2, color2, opacity2, edgelist[i][1], \n",
        "                             edge_color, edge_width, edgelist[i][0], edgelist[i][1]))\n",
        "    \n",
        "  file_name.close()   \n",
        "print(graphspace_synchronous(edgelist, G))"
      ],
      "execution_count": 0,
      "outputs": [
        {
          "output_type": "stream",
          "text": [
            "None\n"
          ],
          "name": "stdout"
        }
      ]
    },
    {
      "cell_type": "code",
      "metadata": {
        "id": "oeQu1Sa7xhS2",
        "colab_type": "code",
        "outputId": "fd11cac6-4ae1-4607-b584-e2c6c8af6562",
        "colab": {
          "base_uri": "https://localhost:8080/",
          "height": 211
        }
      },
      "source": [
        "file_name = open('figure-1-model-ii_synchronous.txt', 'r+')\n",
        "print(file_name.read())"
      ],
      "execution_count": 0,
      "outputs": [
        {
          "output_type": "stream",
          "text": [
            "head\ttail\thead_label\ttail_label\tedge_popup\tstyle\n",
            "000\t000\t000\t000\t-\t{\"head\": {'spec': {'shape': 'rectangle','color': 'red','border': \"black\", 'opacity': '0.01'}, \"id\": '000'},\"tail\": {'spec': {'shape': 'rectangle','color': 'red','border': \"black\", 'opacity': '0.01'}, \"id\": '000'},\"edge\": {'spec': {\"target-arrow-shape\": 'triangle', \"color\": 'grey', \"width\": '0'}, \"id\": '000-000'}}\n",
            "001\t100\t001\t100\t-\t{\"head\": {'spec': {'shape': 'ellipse','color': 'grey','border': \"black\", 'opacity': '10.0'}, \"id\": '001'},\"tail\": {'spec': {'shape': 'ellipse','color': 'grey','border': \"black\", 'opacity': '9.200000000000001'}, \"id\": '100'},\"edge\": {'spec': {\"target-arrow-shape\": 'triangle', \"color\": 'grey', \"width\": '8.51063829787234'}, \"id\": '001-100'}}\n",
            "010\t001\t010\t001\t-\t{\"head\": {'spec': {'shape': 'ellipse','color': 'grey','border': \"black\", 'opacity': '9.6'}, \"id\": '010'},\"tail\": {'spec': {'shape': 'ellipse','color': 'grey','border': \"black\", 'opacity': '10.0'}, \"id\": '001'},\"edge\": {'spec': {\"target-arrow-shape\": 'triangle', \"color\": 'grey', \"width\": '10.0'}, \"id\": '010-001'}}\n",
            "011\t101\t011\t101\t-\t{\"head\": {'spec': {'shape': 'ellipse','color': 'grey','border': \"black\", 'opacity': '2.2'}, \"id\": '011'},\"tail\": {'spec': {'shape': 'ellipse','color': 'grey','border': \"black\", 'opacity': '2.2'}, \"id\": '101'},\"edge\": {'spec': {\"target-arrow-shape\": 'triangle', \"color\": 'grey', \"width\": '3.617021276595745'}, \"id\": '011-101'}}\n",
            "100\t010\t100\t010\t-\t{\"head\": {'spec': {'shape': 'ellipse','color': 'grey','border': \"black\", 'opacity': '9.200000000000001'}, \"id\": '100'},\"tail\": {'spec': {'shape': 'ellipse','color': 'grey','border': \"black\", 'opacity': '9.6'}, \"id\": '010'},\"edge\": {'spec': {\"target-arrow-shape\": 'triangle', \"color\": 'grey', \"width\": '8.72340425531915'}, \"id\": '100-010'}}\n",
            "101\t110\t101\t110\t-\t{\"head\": {'spec': {'shape': 'ellipse','color': 'grey','border': \"black\", 'opacity': '2.2'}, \"id\": '101'},\"tail\": {'spec': {'shape': 'ellipse','color': 'grey','border': \"black\", 'opacity': '2.0'}, \"id\": '110'},\"edge\": {'spec': {\"target-arrow-shape\": 'triangle', \"color\": 'grey', \"width\": '3.1914893617021276'}, \"id\": '101-110'}}\n",
            "110\t011\t110\t011\t-\t{\"head\": {'spec': {'shape': 'ellipse','color': 'grey','border': \"black\", 'opacity': '2.0'}, \"id\": '110'},\"tail\": {'spec': {'shape': 'ellipse','color': 'grey','border': \"black\", 'opacity': '2.2'}, \"id\": '011'},\"edge\": {'spec': {\"target-arrow-shape\": 'triangle', \"color\": 'grey', \"width\": '3.404255319148936'}, \"id\": '110-011'}}\n",
            "111\t111\t111\t111\t-\t{\"head\": {'spec': {'shape': 'rectangle','color': 'red','border': \"black\", 'opacity': '0.01'}, \"id\": '111'},\"tail\": {'spec': {'shape': 'rectangle','color': 'red','border': \"black\", 'opacity': '0.01'}, \"id\": '111'},\"edge\": {'spec': {\"target-arrow-shape\": 'triangle', \"color\": 'grey', \"width\": '0'}, \"id\": '111-111'}}\n",
            "\n"
          ],
          "name": "stdout"
        }
      ]
    },
    {
      "cell_type": "code",
      "metadata": {
        "id": "PNgAGZ9Czdqo",
        "colab_type": "code",
        "outputId": "2e1966c8-aed7-49da-e325-ef584a2393ba",
        "colab": {
          "base_uri": "https://localhost:8080/",
          "height": 55
        }
      },
      "source": [
        "# Random walk async\n",
        "import random\n",
        "\n",
        "def individual_random_walk(G_a):\n",
        "  nodes = list(G_a.nodes())\n",
        "  #print(nodes)\n",
        "  count = 0\n",
        "  path = []\n",
        "  random_path = []\n",
        "  steady_states = list(find_steady_states(G_a))\n",
        "  #print(steady_states)\n",
        "  path = random.choice(nodes)\n",
        "  #print(path)\n",
        "  #G = nx.DiGraph(edgelist_a)\n",
        "  while path not in steady_states and count < (2*len(nodes)):  \n",
        "    #print(path)\n",
        "    path_index = []\n",
        "    for i in range(len(edgelist_a)):\n",
        "      if path == edgelist_a[i][0]:\n",
        "        path_index.append(edgelist_a[i][1])\n",
        "    #print(path_index)\n",
        "    next_edge = random.choice(path_index)\n",
        "    random_path.append([path, next_edge])\n",
        "    path = str(next_edge)\n",
        "    count += 1\n",
        "  return random_path\n",
        "  \n",
        "print(individual_random_walk(G_a))"
      ],
      "execution_count": 13,
      "outputs": [
        {
          "output_type": "stream",
          "text": [
            "[['0000', '0000'], ['0000', '1000'], ['1000', '1100'], ['1100', '1100'], ['1100', '1100'], ['1100', '1110'], ['1110', '1110'], ['1110', '1110'], ['1110', '1110'], ['1110', '1111'], ['1111', '0111'], ['0111', '0111'], ['0111', '0111'], ['0111', '0011'], ['0011', '0011'], ['0011', '0011'], ['0011', '0001']]\n"
          ],
          "name": "stdout"
        }
      ]
    },
    {
      "cell_type": "code",
      "metadata": {
        "id": "fW3ZRCu6ZkJz",
        "colab_type": "code",
        "outputId": "4895567a-6250-4489-d666-91c965376946",
        "colab": {
          "base_uri": "https://localhost:8080/",
          "height": 55
        }
      },
      "source": [
        "# Random walk sync\n",
        "import random\n",
        "\n",
        "def individual_random_walk(G):\n",
        "  nodes = list(G.nodes())\n",
        "  #print(nodes)\n",
        "  count = 0\n",
        "  path = []\n",
        "  random_path = []\n",
        "  steady_states = list(find_steady_states(nodes))\n",
        "  path = random.choice(nodes)\n",
        "  #print(path)\n",
        "  G = nx.DiGraph(edgelist)\n",
        "  while path not in steady_states and count < (2*len(nodes)):  \n",
        "    #print(path)\n",
        "    path_index = []\n",
        "    for i in range(len(edgelist)):\n",
        "      if path == edgelist[i][0]:\n",
        "        path_index.append(edgelist[i][1])\n",
        "    #print(path_index)\n",
        "    next_edge = random.choice(path_index)\n",
        "    random_path.append([path, next_edge])\n",
        "    path = str(next_edge)\n",
        "    count += 1\n",
        "    #if len(steady_states) == 0:\n",
        "    #if path not in steady_states and count == 50:\n",
        "      #break\n",
        "  #print(len(random_path))\n",
        "  return random_path\n",
        "#print(type(G))  \n",
        "print(individual_random_walk(G))"
      ],
      "execution_count": 0,
      "outputs": [
        {
          "output_type": "stream",
          "text": [
            "[['100', '010'], ['010', '001'], ['001', '100'], ['100', '010'], ['010', '001'], ['001', '100'], ['100', '010'], ['010', '001'], ['001', '100'], ['100', '010'], ['010', '001'], ['001', '100'], ['100', '010'], ['010', '001'], ['001', '100'], ['100', '010']]\n"
          ],
          "name": "stdout"
        }
      ]
    },
    {
      "cell_type": "code",
      "metadata": {
        "id": "dpcl0BJQfNA3",
        "colab_type": "code",
        "outputId": "abc241cb-6e62-4b1c-b09b-95a1a5ac3a41",
        "colab": {
          "base_uri": "https://localhost:8080/",
          "height": 567
        }
      },
      "source": [
        "def simulate(G):\n",
        "  nodes = list(G.nodes())\n",
        "  steady_states = list(find_steady_states(nodes))\n",
        "  nodes_used = []\n",
        "  random_path = []\n",
        "  path_index = []\n",
        "  count = 0\n",
        "  for i in range(len(nodes)):\n",
        "    start_node = random.choice(nodes)\n",
        "    nodes_used.append(start_node)\n",
        "    while nodes[i] not in nodes_used and start_node not in steady_states and count < 100:\n",
        "      for j in range(len(edgelist_a)):\n",
        "        if start_node == edgelist_a[j][0]:\n",
        "          path_index.append(edgelist_a[j][1])\n",
        "      next_edge = random.choice(path_index)\n",
        "      random_path.append([start_node, next_edge])\n",
        "      path = str(next_edge)\n",
        "      count += 1\n",
        "    return random_path\n",
        "\n",
        "  \n",
        "#for i in range(len(nodes)):\n",
        "  #if nodes[i] != random_walk[0]:\n",
        "    #continue random_walk\n",
        "    \n",
        "print(simulate(G))  "
      ],
      "execution_count": 0,
      "outputs": [
        {
          "output_type": "error",
          "ename": "KeyboardInterrupt",
          "evalue": "ignored",
          "traceback": [
            "\u001b[0;31m---------------------------------------------------------------------------\u001b[0m",
            "\u001b[0;31mKeyboardInterrupt\u001b[0m                         Traceback (most recent call last)",
            "\u001b[0;32m/usr/local/lib/python3.6/dist-packages/zmq/backend/cython/checkrc.pxd\u001b[0m in \u001b[0;36mzmq.backend.cython.checkrc._check_rc\u001b[0;34m()\u001b[0m\n",
            "\u001b[0;31mKeyboardInterrupt\u001b[0m: "
          ]
        },
        {
          "output_type": "stream",
          "text": [
            "Exception ignored in: 'zmq.backend.cython.message.Frame.__dealloc__'\n",
            "Traceback (most recent call last):\n",
            "  File \"zmq/backend/cython/checkrc.pxd\", line 12, in zmq.backend.cython.checkrc._check_rc\n",
            "KeyboardInterrupt\n"
          ],
          "name": "stderr"
        },
        {
          "output_type": "error",
          "ename": "KeyboardInterrupt",
          "evalue": "ignored",
          "traceback": [
            "\u001b[0;31m---------------------------------------------------------------------------\u001b[0m",
            "\u001b[0;31mKeyboardInterrupt\u001b[0m                         Traceback (most recent call last)",
            "\u001b[0;32m<ipython-input-86-ee062d895713>\u001b[0m in \u001b[0;36m<module>\u001b[0;34m()\u001b[0m\n\u001b[1;32m     24\u001b[0m     \u001b[0;31m#continue random_walk\u001b[0m\u001b[0;34m\u001b[0m\u001b[0;34m\u001b[0m\u001b[0;34m\u001b[0m\u001b[0m\n\u001b[1;32m     25\u001b[0m \u001b[0;34m\u001b[0m\u001b[0m\n\u001b[0;32m---> 26\u001b[0;31m \u001b[0mprint\u001b[0m\u001b[0;34m(\u001b[0m\u001b[0msimulate\u001b[0m\u001b[0;34m(\u001b[0m\u001b[0mG\u001b[0m\u001b[0;34m)\u001b[0m\u001b[0;34m)\u001b[0m\u001b[0;34m\u001b[0m\u001b[0;34m\u001b[0m\u001b[0m\n\u001b[0m",
            "\u001b[0;32m<ipython-input-86-ee062d895713>\u001b[0m in \u001b[0;36msimulate\u001b[0;34m(G)\u001b[0m\n\u001b[1;32m     13\u001b[0m         \u001b[0;32mif\u001b[0m \u001b[0mstart_node\u001b[0m \u001b[0;34m==\u001b[0m \u001b[0medgelist_a\u001b[0m\u001b[0;34m[\u001b[0m\u001b[0mj\u001b[0m\u001b[0;34m]\u001b[0m\u001b[0;34m[\u001b[0m\u001b[0;36m0\u001b[0m\u001b[0;34m]\u001b[0m\u001b[0;34m:\u001b[0m\u001b[0;34m\u001b[0m\u001b[0;34m\u001b[0m\u001b[0m\n\u001b[1;32m     14\u001b[0m           \u001b[0mpath_index\u001b[0m\u001b[0;34m.\u001b[0m\u001b[0mappend\u001b[0m\u001b[0;34m(\u001b[0m\u001b[0medgelist_a\u001b[0m\u001b[0;34m[\u001b[0m\u001b[0mj\u001b[0m\u001b[0;34m]\u001b[0m\u001b[0;34m[\u001b[0m\u001b[0;36m1\u001b[0m\u001b[0;34m]\u001b[0m\u001b[0;34m)\u001b[0m\u001b[0;34m\u001b[0m\u001b[0;34m\u001b[0m\u001b[0m\n\u001b[0;32m---> 15\u001b[0;31m       \u001b[0mnext_edge\u001b[0m \u001b[0;34m=\u001b[0m \u001b[0mrandom\u001b[0m\u001b[0;34m.\u001b[0m\u001b[0mchoice\u001b[0m\u001b[0;34m(\u001b[0m\u001b[0mpath_index\u001b[0m\u001b[0;34m)\u001b[0m\u001b[0;34m\u001b[0m\u001b[0;34m\u001b[0m\u001b[0m\n\u001b[0m\u001b[1;32m     16\u001b[0m       \u001b[0mrandom_path\u001b[0m\u001b[0;34m.\u001b[0m\u001b[0mappend\u001b[0m\u001b[0;34m(\u001b[0m\u001b[0;34m[\u001b[0m\u001b[0mstart_node\u001b[0m\u001b[0;34m,\u001b[0m \u001b[0mnext_edge\u001b[0m\u001b[0;34m]\u001b[0m\u001b[0;34m)\u001b[0m\u001b[0;34m\u001b[0m\u001b[0;34m\u001b[0m\u001b[0m\n\u001b[1;32m     17\u001b[0m       \u001b[0mpath\u001b[0m \u001b[0;34m=\u001b[0m \u001b[0mstr\u001b[0m\u001b[0;34m(\u001b[0m\u001b[0mnext_edge\u001b[0m\u001b[0;34m)\u001b[0m\u001b[0;34m\u001b[0m\u001b[0;34m\u001b[0m\u001b[0m\n",
            "\u001b[0;32m/usr/lib/python3.6/random.py\u001b[0m in \u001b[0;36mchoice\u001b[0;34m(self, seq)\u001b[0m\n\u001b[1;32m    256\u001b[0m         \u001b[0;34m\"\"\"Choose a random element from a non-empty sequence.\"\"\"\u001b[0m\u001b[0;34m\u001b[0m\u001b[0;34m\u001b[0m\u001b[0m\n\u001b[1;32m    257\u001b[0m         \u001b[0;32mtry\u001b[0m\u001b[0;34m:\u001b[0m\u001b[0;34m\u001b[0m\u001b[0;34m\u001b[0m\u001b[0m\n\u001b[0;32m--> 258\u001b[0;31m             \u001b[0mi\u001b[0m \u001b[0;34m=\u001b[0m \u001b[0mself\u001b[0m\u001b[0;34m.\u001b[0m\u001b[0m_randbelow\u001b[0m\u001b[0;34m(\u001b[0m\u001b[0mlen\u001b[0m\u001b[0;34m(\u001b[0m\u001b[0mseq\u001b[0m\u001b[0;34m)\u001b[0m\u001b[0;34m)\u001b[0m\u001b[0;34m\u001b[0m\u001b[0;34m\u001b[0m\u001b[0m\n\u001b[0m\u001b[1;32m    259\u001b[0m         \u001b[0;32mexcept\u001b[0m \u001b[0mValueError\u001b[0m\u001b[0;34m:\u001b[0m\u001b[0;34m\u001b[0m\u001b[0;34m\u001b[0m\u001b[0m\n\u001b[1;32m    260\u001b[0m             \u001b[0;32mraise\u001b[0m \u001b[0mIndexError\u001b[0m\u001b[0;34m(\u001b[0m\u001b[0;34m'Cannot choose from an empty sequence'\u001b[0m\u001b[0;34m)\u001b[0m \u001b[0;32mfrom\u001b[0m \u001b[0;32mNone\u001b[0m\u001b[0;34m\u001b[0m\u001b[0;34m\u001b[0m\u001b[0m\n",
            "\u001b[0;32m/usr/lib/python3.6/random.py\u001b[0m in \u001b[0;36m_randbelow\u001b[0;34m(self, n, int, maxsize, type, Method, BuiltinMethod)\u001b[0m\n\u001b[1;32m    233\u001b[0m             \u001b[0mr\u001b[0m \u001b[0;34m=\u001b[0m \u001b[0mgetrandbits\u001b[0m\u001b[0;34m(\u001b[0m\u001b[0mk\u001b[0m\u001b[0;34m)\u001b[0m          \u001b[0;31m# 0 <= r < 2**k\u001b[0m\u001b[0;34m\u001b[0m\u001b[0;34m\u001b[0m\u001b[0m\n\u001b[1;32m    234\u001b[0m             \u001b[0;32mwhile\u001b[0m \u001b[0mr\u001b[0m \u001b[0;34m>=\u001b[0m \u001b[0mn\u001b[0m\u001b[0;34m:\u001b[0m\u001b[0;34m\u001b[0m\u001b[0;34m\u001b[0m\u001b[0m\n\u001b[0;32m--> 235\u001b[0;31m                 \u001b[0mr\u001b[0m \u001b[0;34m=\u001b[0m \u001b[0mgetrandbits\u001b[0m\u001b[0;34m(\u001b[0m\u001b[0mk\u001b[0m\u001b[0;34m)\u001b[0m\u001b[0;34m\u001b[0m\u001b[0;34m\u001b[0m\u001b[0m\n\u001b[0m\u001b[1;32m    236\u001b[0m             \u001b[0;32mreturn\u001b[0m \u001b[0mr\u001b[0m\u001b[0;34m\u001b[0m\u001b[0;34m\u001b[0m\u001b[0m\n\u001b[1;32m    237\u001b[0m         \u001b[0;31m# There's an overridden random() method but no new getrandbits() method,\u001b[0m\u001b[0;34m\u001b[0m\u001b[0;34m\u001b[0m\u001b[0;34m\u001b[0m\u001b[0m\n",
            "\u001b[0;31mKeyboardInterrupt\u001b[0m: "
          ]
        }
      ]
    },
    {
      "cell_type": "code",
      "metadata": {
        "id": "-W0BYGZgGsuC",
        "colab_type": "code",
        "outputId": "16a2cd06-f0fb-4037-c0eb-a86782a475d8",
        "colab": {
          "base_uri": "https://localhost:8080/",
          "height": 55
        }
      },
      "source": [
        "from collections import Counter\n",
        "\n",
        "def count_nodes(G_a):\n",
        "  nodes = list(G_a.nodes())\n",
        "  node_walk_list = []\n",
        "  self_nodes = []\n",
        "  for i in range(2*len(nodes)):\n",
        "    random_walk = individual_random_walk(G_a)\n",
        "    rw = list(random_walk)\n",
        "    random_walk = [(e[0],e[1]) for e in rw]  \n",
        "  #print(random_walk)\n",
        "    #count_node = [0 for i in range(len(random_walk))]\n",
        "  #print(count_node)\n",
        "    for j in range(len(random_walk)):\n",
        "      if random_walk[j][0] == random_walk[j][1]:\n",
        "        self_nodes.append(random_walk[j][0])\n",
        "      else:\n",
        "        node_walk_list.append(random_walk[j][1])\n",
        "  return Counter(node_walk_list)\n",
        "\n",
        "print(count_nodes(G_a))"
      ],
      "execution_count": 129,
      "outputs": [
        {
          "output_type": "stream",
          "text": [
            "Counter({'0001': 27, '0011': 21, '0111': 18, '1111': 11, '1110': 8, '1000': 3, '1100': 3, '0101': 2, '0000': 1, '1010': 1, '1011': 1, '1001': 1})\n"
          ],
          "name": "stdout"
        }
      ]
    },
    {
      "cell_type": "code",
      "metadata": {
        "id": "qIXOyd-3TmTY",
        "colab_type": "code",
        "colab": {
          "base_uri": "https://localhost:8080/",
          "height": 55
        },
        "outputId": "729efb56-804d-452c-f030-34dfadbb00e5"
      },
      "source": [
        "def max_count_nodes(G_a):\n",
        "  nodes = list(G_a.nodes())\n",
        "  nodes_count = count_nodes(G_a)\n",
        "  max_opacity = max(nodes_count.values())\n",
        "  #print(max_opacity)\n",
        "  #print(max(nodes_count.keys()))\n",
        "  scaled_counts = {}\n",
        "  for i in range(len(nodes)):\n",
        "    value = (nodes_count[nodes[i]]) / (max_opacity) * 10\n",
        "    scaled_counts[nodes[i]] = value\n",
        "  \n",
        "  return scaled_counts\n",
        "print(max_count_nodes(G_a))"
      ],
      "execution_count": 130,
      "outputs": [
        {
          "output_type": "stream",
          "text": [
            "{'0000': 0.6666666666666666, '1000': 2.0, '0001': 10.0, '0010': 0.0, '1010': 0.3333333333333333, '0011': 8.333333333333334, '0100': 0.0, '1100': 2.6666666666666665, '0110': 0.0, '0101': 0.6666666666666666, '0111': 6.0, '1110': 3.6666666666666665, '1001': 0.6666666666666666, '1101': 0.3333333333333333, '1011': 0.3333333333333333, '1111': 4.666666666666667}\n"
          ],
          "name": "stdout"
        }
      ]
    },
    {
      "cell_type": "code",
      "metadata": {
        "id": "Fxsrw59RB5x8",
        "colab_type": "code",
        "outputId": "7f77986f-73c6-4387-cbf8-94605e898ee3",
        "colab": {
          "base_uri": "https://localhost:8080/",
          "height": 339
        }
      },
      "source": [
        "import numpy as np\n",
        "import matplotlib.pyplot as plt\n",
        "\n",
        "def plot_count_nodes(G):\n",
        "  nodes = G.nodes()\n",
        "  count = count_nodes(G)\n",
        "  print(count)\n",
        "  #plt.bar(*zip(*count.items()))\n",
        "  plt.bar(count.keys(), count.values())\n",
        "  plt.xticks(rotation=90)\n",
        "  plt.ylabel('Occurrences')\n",
        "  plt.xlabel('Nodes')\n",
        "  plt.title('Number of Times a Node is Encountered')\n",
        "  plt.show()\n",
        "  \n",
        "print(plot_count_nodes(G))\n"
      ],
      "execution_count": 0,
      "outputs": [
        {
          "output_type": "stream",
          "text": [
            "Counter({'100': 54, '010': 53, '001': 53, '101': 22, '110': 21, '011': 21})\n"
          ],
          "name": "stdout"
        },
        {
          "output_type": "display_data",
          "data": {
            "image/png": "[encoded data removed]",
            "text/plain": [
              "<Figure size 432x288 with 1 Axes>"
            ]
          },
          "metadata": {
            "tags": []
          }
        },
        {
          "output_type": "stream",
          "text": [
            "None\n"
          ],
          "name": "stdout"
        }
      ]
    },
    {
      "cell_type": "code",
      "metadata": {
        "id": "OKQzdoP4A0qX",
        "colab_type": "code",
        "outputId": "239555fa-be11-4e00-c148-4b8d4ee08d0e",
        "colab": {
          "base_uri": "https://localhost:8080/",
          "height": 313
        }
      },
      "source": [
        "  import numpy as np\n",
        "  \n",
        "  def hist_nodes_visits(G):\n",
        "    nodes = G.nodes()\n",
        "    count = count_nodes(G)\n",
        "    num_bins = 10\n",
        "    plt.hist(count.values(), num_bins, facecolor='blue', alpha=0.5)\n",
        "    plt.xlabel('Number of visits')\n",
        "    plt.ylabel('Number of nodes')\n",
        "    plt.title('Number of times a walker visits each node')\n",
        "    plt.show()\n",
        "    \n",
        "print(hist_nodes_visits(G))"
      ],
      "execution_count": 0,
      "outputs": [
        {
          "output_type": "display_data",
          "data": {
            "image/png": "[encoded data removed]",
            "text/plain": [
              "<Figure size 432x288 with 1 Axes>"
            ]
          },
          "metadata": {
            "tags": []
          }
        },
        {
          "output_type": "stream",
          "text": [
            "None\n"
          ],
          "name": "stdout"
        }
      ]
    },
    {
      "cell_type": "code",
      "metadata": {
        "id": "g7vAUCZzQCo0",
        "colab_type": "code",
        "colab": {}
      },
      "source": [
        "# Random walk using networkx (doesn't work)\n",
        "def random_walk(G):\n",
        "  random_path = []\n",
        "  all_nodes = G.nodes(edgelist)\n",
        "  steady_states = list(find_steady_states(nodes))\n",
        "  start = random.choice(all_nodes)\n",
        "  random_path.append(start)\n",
        "  #print(random_path)\n",
        "  node = start\n",
        "  while node not in steady_states:\n",
        "    neighbors = G.neighbors(node)\n",
        "    next_state = random.choice(neighbors)\n",
        "    random_path.append(next_state)\n",
        "    node = next_state\n",
        "  return random_path\n",
        "  \n",
        "print(random_walk(G))"
      ],
      "execution_count": 0,
      "outputs": []
    },
    {
      "cell_type": "code",
      "metadata": {
        "id": "eqGmcux3Qe-p",
        "colab_type": "code",
        "outputId": "7eaafcbb-f15f-4879-deb5-6500cc2828f6",
        "colab": {
          "base_uri": "https://localhost:8080/",
          "height": 55
        }
      },
      "source": [
        "def count_traffic(G_a):\n",
        "  nodes = G_a.nodes()\n",
        "  edges = [e for e in G_a.edges()]\n",
        "  #print(edges)\n",
        "  list_widths = [0 for k in range(len(edges))]\n",
        "  #print(list_widths)\n",
        "  # Outer loop over random walks\n",
        "  for i in range(2*len(nodes)):\n",
        "    random_walk = individual_random_walk(G_a)\n",
        "    if len(random_walk) > 1:\n",
        "      rw = list(random_walk)\n",
        "      random_walk = [(e[0],e[1]) for e in rw]\n",
        "      #print(random_walk)\n",
        "  # inner loop over edges in G\n",
        "      for j in range(len(edges)): \n",
        "        if edges[j] in random_walk:\n",
        "          list_widths[j] += 1\n",
        "          if edges[j][0] == edges[j][1]: \n",
        "            list_widths[j] = 1           \n",
        "     #print(list_widths)\n",
        "  return list_widths\n",
        "\n",
        "print(count_traffic(G_a))\n",
        "  "
      ],
      "execution_count": 59,
      "outputs": [
        {
          "output_type": "stream",
          "text": [
            "[7, 1, 1, 11, 0, 2, 1, 3, 2, 1, 1, 3, 3, 1, 25, 0, 1, 3, 0, 1, 13, 1, 2, 1, 1, 1, 1, 2, 1, 26, 1, 17, 1, 2, 1, 0, 1, 2, 0, 1, 2, 0, 22, 1]\n"
          ],
          "name": "stdout"
        }
      ]
    },
    {
      "cell_type": "code",
      "metadata": {
        "id": "piJvFXwZmUwC",
        "colab_type": "code",
        "outputId": "3c3c72a2-718b-4d25-dfd2-23ebfcc45f74",
        "colab": {
          "base_uri": "https://localhost:8080/",
          "height": 55
        }
      },
      "source": [
        "def count_edges(G_a):\n",
        "  nodes = G_a.nodes()\n",
        "  edges = G_a.edges()\n",
        "  edge_walk_list = []\n",
        "  self_nodes = []\n",
        "  for i in range(2*len(nodes)):\n",
        "    random_walk = individual_random_walk(G_a)\n",
        "    if len(random_walk) > 1:\n",
        "      rw = list(random_walk)\n",
        "      random_walk = [(e[0],e[1]) for e in rw] \n",
        "      count_edge = [0 for i in range(len(random_walk))]\n",
        "      for j in range(len(random_walk)): \n",
        "        if random_walk[j][0] == random_walk[j][1]:\n",
        "          self_nodes.append(random_walk[j][0])\n",
        "        else:\n",
        "          edge_walk_list.append(random_walk[j])\n",
        "  return Counter(edge_walk_list)\n",
        "print(count_edges(G_a))"
      ],
      "execution_count": 131,
      "outputs": [
        {
          "output_type": "stream",
          "text": [
            "Counter({('0011', '0001'): 26, ('0111', '0011'): 24, ('1111', '0111'): 18, ('1110', '1111'): 13, ('1100', '1110'): 8, ('1000', '1100'): 5, ('0101', '0111'): 3, ('1001', '0001'): 2, ('1101', '1111'): 2, ('0110', '0111'): 2, ('0000', '1000'): 2, ('0010', '0011'): 1, ('1011', '1001'): 1, ('0010', '0000'): 1, ('0100', '1100'): 1, ('0100', '0000'): 1, ('1011', '0011'): 1})\n"
          ],
          "name": "stdout"
        }
      ]
    },
    {
      "cell_type": "code",
      "metadata": {
        "id": "U9o89rFvSCGo",
        "colab_type": "code",
        "outputId": "11ac1b50-8dbf-4983-a4ba-ee23fcc74b7b",
        "colab": {
          "base_uri": "https://localhost:8080/",
          "height": 55
        }
      },
      "source": [
        "def max_count_edges(G_a):\n",
        "  edges = list(G_a.edges())\n",
        "  edges_count = count_edges(G_a)\n",
        "  max_width = max(edges_count.values())\n",
        "  #print(max_width)\n",
        "  scaled_counts = {}\n",
        "  for i in range(len(edges)):\n",
        "    value = (edges_count[edges[i]]/ max_width) * 10\n",
        "    scaled_counts[edges[i]] = value\n",
        "  return scaled_counts\n",
        "print(max_count_edges(G_a))"
      ],
      "execution_count": 132,
      "outputs": [
        {
          "output_type": "stream",
          "text": [
            "{('0000', '1000'): 0.7407407407407407, ('0000', '0000'): 0.0, ('1000', '1000'): 0.0, ('1000', '1100'): 2.5925925925925926, ('0001', '0001'): 0.0, ('0010', '1010'): 0.37037037037037035, ('0010', '0010'): 0.0, ('0010', '0000'): 0.0, ('0010', '0011'): 0.0, ('1010', '1010'): 0.0, ('1010', '1110'): 0.7407407407407407, ('1010', '1000'): 0.37037037037037035, ('1010', '1011'): 1.1111111111111112, ('0011', '0011'): 0.0, ('0011', '0001'): 10.0, ('0100', '1100'): 0.0, ('0100', '0000'): 0.37037037037037035, ('0100', '0110'): 0.0, ('0100', '0100'): 0.0, ('1100', '1100'): 0.0, ('1100', '1110'): 3.7037037037037033, ('0110', '1110'): 0.0, ('0110', '0010'): 0.37037037037037035, ('0110', '0110'): 0.0, ('0110', '0111'): 0.37037037037037035, ('0101', '0101'): 0.0, ('0101', '0001'): 0.37037037037037035, ('0101', '0111'): 0.37037037037037035, ('0111', '0111'): 0.0, ('0111', '0011'): 8.518518518518519, ('1110', '1110'): 0.0, ('1110', '1111'): 6.296296296296297, ('1001', '0001'): 0.37037037037037035, ('1001', '1101'): 0.0, ('1001', '1001'): 0.0, ('1101', '0101'): 0.37037037037037035, ('1101', '1101'): 0.0, ('1101', '1111'): 0.0, ('1011', '0011'): 1.1111111111111112, ('1011', '1111'): 0.7407407407407407, ('1011', '1001'): 0.37037037037037035, ('1011', '1011'): 0.0, ('1111', '0111'): 7.777777777777778, ('1111', '1111'): 0.0}\n"
          ],
          "name": "stdout"
        }
      ]
    },
    {
      "cell_type": "code",
      "metadata": {
        "id": "YMpDX5L0ll1S",
        "colab_type": "code",
        "outputId": "0c6ec42b-d6f7-4c33-97f6-885ce992bab3",
        "colab": {
          "base_uri": "https://localhost:8080/",
          "height": 380
        }
      },
      "source": [
        "import matplotlib.pyplot as plt\n",
        "def plot_count_edges(G_a):\n",
        "  nodes = G_a.nodes()\n",
        "  edges = G_a.edges()\n",
        "  count = count_edges(G_a)\n",
        "  plt.bar(range(len(count)), list(count.values()), align='center')\n",
        "  plt.xticks(range(len(count)), list(count.keys()), rotation=90)\n",
        "  plt.ylabel('Occurrences')\n",
        "  plt.xlabel('Edge')\n",
        "  plt.title('Number of Times an Edge is Encountered')\n",
        "  plt.show()\n",
        "  \n",
        "print(plot_count_edges(G_a))\n",
        "  \n",
        "  "
      ],
      "execution_count": 71,
      "outputs": [
        {
          "output_type": "display_data",
          "data": {
            "image/png": "[encoded data removed]",
            "text/plain": [
              "<Figure size 432x288 with 1 Axes>"
            ]
          },
          "metadata": {
            "tags": []
          }
        },
        {
          "output_type": "stream",
          "text": [
            "None\n"
          ],
          "name": "stdout"
        }
      ]
    },
    {
      "cell_type": "code",
      "metadata": {
        "id": "zMtPl8lc__6i",
        "colab_type": "code",
        "outputId": "760d4c53-22cb-4088-c849-8081f7dcbb7c",
        "colab": {
          "base_uri": "https://localhost:8080/",
          "height": 313
        }
      },
      "source": [
        "  def hist_edges_visits(G):\n",
        "    edges = G.edges()\n",
        "    count = count_edges(G)\n",
        "    #print(count.values())\n",
        "    num_bins = 10\n",
        "    plt.hist(count.values(), num_bins, facecolor='blue', alpha=0.5)\n",
        "    plt.xlabel('Number of visits')\n",
        "    plt.ylabel('Number of edges')\n",
        "    plt.title('Number of times a walker visits each edge')\n",
        "    plt.show()\n",
        "    \n",
        "print(hist_edges_visits(G))"
      ],
      "execution_count": 0,
      "outputs": [
        {
          "output_type": "display_data",
          "data": {
            "image/png": "[encoded data removed]",
            "text/plain": [
              "<Figure size 432x288 with 1 Axes>"
            ]
          },
          "metadata": {
            "tags": []
          }
        },
        {
          "output_type": "stream",
          "text": [
            "None\n"
          ],
          "name": "stdout"
        }
      ]
    },
    {
      "cell_type": "code",
      "metadata": {
        "id": "MFUO93XEHQvA",
        "colab_type": "code",
        "outputId": "704d1723-16a1-4129-aba8-736c98cc4eb9",
        "colab": {
          "base_uri": "https://localhost:8080/",
          "height": 35
        }
      },
      "source": [
        "def nodes_opacity(G_a):\n",
        "  nodes = list(G_a.nodes())\n",
        "  list_opacity = [0 for k in range(len(nodes))]\n",
        "  #print(list_opacity)\n",
        "  #print(len(list_opacity))\n",
        "  for i in range(2*len(nodes)):\n",
        "    random_walk = individual_random_walk(G_a)\n",
        "    if len(random_walk) > 1:\n",
        "      rw = list(random_walk)\n",
        "      random_walk = [(e[0],e[1]) for e in rw]\n",
        "      #print(random_walk)\n",
        "      for j in range(len(nodes)):\n",
        "        for e in random_walk:\n",
        "          if nodes[j] in e:\n",
        "            list_opacity[j] += 1\n",
        "  return list_opacity\n",
        "\n",
        "print(nodes_opacity(G_a))"
      ],
      "execution_count": 34,
      "outputs": [
        {
          "output_type": "stream",
          "text": [
            "[51, 61, 27, 5, 1, 105, 8, 67, 9, 7, 115, 52, 5, 13, 1, 96]\n"
          ],
          "name": "stdout"
        }
      ]
    },
    {
      "cell_type": "code",
      "metadata": {
        "id": "jLfFnnACW-vg",
        "colab_type": "code",
        "outputId": "0f61e8cf-17af-4b89-cd61-c0bec2d79c7c",
        "colab": {
          "base_uri": "https://localhost:8080/",
          "height": 89
        }
      },
      "source": [
        "def node_degrees(nodes):\n",
        "  in_degree = G.in_degree()\n",
        "  out_degree = G.out_degree()\n",
        "  print(in_degree)\n",
        "  print(out_degree)\n",
        "  \n",
        "print(node_degrees(G))\n"
      ],
      "execution_count": 0,
      "outputs": [
        {
          "output_type": "stream",
          "text": [
            "[('0000000', 6), ('1000000', 6), ('0000001', 7), ('0000010', 5), ('1000010', 5), ('0000011', 7), ('0000100', 4), ('1000100', 4), ('0000110', 5), ('0000101', 5), ('0000111', 7), ('1000110', 5), ('0001000', 4), ('1001000', 4), ('0001100', 4), ('0001001', 5), ('0001101', 5), ('0001010', 3), ('1001010', 3), ('0001110', 5), ('0001011', 5), ('0001111', 7), ('1001100', 4), ('1001110', 5), ('0010000', 4), ('1010000', 4), ('0011000', 4), ('0010001', 5), ('0011001', 5), ('0010010', 3), ('1010010', 3), ('0011010', 3), ('0010011', 5), ('0011011', 5), ('0010100', 2), ('1010100', 2), ('0011100', 4), ('0010110', 3), ('0010101', 3), ('0011101', 5), ('0010111', 5), ('1010110', 3), ('0011110', 5), ('0011111', 7), ('1011000', 4), ('1011010', 3), ('1011100', 4), ('1011110', 5), ('0100000', 4), ('1100000', 6), ('0110000', 4), ('0100001', 5), ('0110001', 5), ('0100010', 3), ('1100010', 5), ('0110010', 3), ('0100011', 5), ('0110011', 5), ('0100100', 2), ('1100100', 4), ('0110100', 2), ('0100110', 3), ('0100101', 3), ('0110101', 3), ('0100111', 5), ('1100110', 5), ('0110110', 3), ('0110111', 5), ('0101000', 2), ('1101000', 4), ('0111000', 4), ('0101100', 2), ('0101001', 3), ('0111001', 5), ('0101101', 3), ('0101010', 0), ('1101010', 3), ('0111010', 3), ('0101110', 3), ('0101011', 3), ('0111011', 5), ('0101111', 5), ('1101100', 4), ('0111100', 4), ('0111101', 5), ('1101110', 5), ('0111110', 5), ('0111111', 7), ('1110000', 6), ('1110010', 5), ('1110100', 4), ('1110110', 5), ('1111000', 6), ('1111010', 5), ('1111100', 6), ('1111110', 7), ('1000001', 5), ('1100001', 5), ('1000011', 5), ('1100011', 5), ('1000101', 3), ('1100101', 3), ('1000111', 5), ('1100111', 5), ('1001001', 3), ('1101001', 3), ('1001101', 3), ('1001011', 3), ('1101011', 3), ('1001111', 5), ('1101101', 3), ('1101111', 5), ('1010001', 3), ('1110001', 5), ('1011001', 3), ('1010011', 3), ('1110011', 5), ('1011011', 3), ('1010101', 1), ('1110101', 3), ('1011101', 3), ('1010111', 3), ('1110111', 5), ('1011111', 5), ('1111001', 5), ('1111011', 5), ('1111101', 5), ('1111111', 7)]\n",
            "[('0000000', 2), ('1000000', 2), ('0000001', 1), ('0000010', 4), ('1000010', 4), ('0000011', 2), ('0000100', 4), ('1000100', 4), ('0000110', 4), ('0000101', 3), ('0000111', 2), ('1000110', 4), ('0001000', 4), ('1001000', 4), ('0001100', 4), ('0001001', 3), ('0001101', 3), ('0001010', 6), ('1001010', 6), ('0001110', 4), ('0001011', 4), ('0001111', 2), ('1001100', 4), ('1001110', 4), ('0010000', 4), ('1010000', 4), ('0011000', 4), ('0010001', 3), ('0011001', 3), ('0010010', 6), ('1010010', 6), ('0011010', 6), ('0010011', 4), ('0011011', 4), ('0010100', 6), ('1010100', 6), ('0011100', 4), ('0010110', 6), ('0010101', 5), ('0011101', 3), ('0010111', 4), ('1010110', 6), ('0011110', 4), ('0011111', 2), ('1011000', 4), ('1011010', 6), ('1011100', 4), ('1011110', 4), ('0100000', 4), ('1100000', 2), ('0110000', 4), ('0100001', 3), ('0110001', 3), ('0100010', 6), ('1100010', 4), ('0110010', 6), ('0100011', 4), ('0110011', 4), ('0100100', 6), ('1100100', 4), ('0110100', 6), ('0100110', 6), ('0100101', 5), ('0110101', 5), ('0100111', 4), ('1100110', 4), ('0110110', 6), ('0110111', 4), ('0101000', 6), ('1101000', 4), ('0111000', 4), ('0101100', 6), ('0101001', 5), ('0111001', 3), ('0101101', 5), ('0101010', 7), ('1101010', 6), ('0111010', 6), ('0101110', 6), ('0101011', 6), ('0111011', 4), ('0101111', 4), ('1101100', 4), ('0111100', 4), ('0111101', 3), ('1101110', 4), ('0111110', 4), ('0111111', 2), ('1110000', 2), ('1110010', 4), ('1110100', 4), ('1110110', 4), ('1111000', 2), ('1111010', 4), ('1111100', 2), ('1111110', 2), ('1000001', 3), ('1100001', 3), ('1000011', 4), ('1100011', 4), ('1000101', 5), ('1100101', 5), ('1000111', 4), ('1100111', 4), ('1001001', 5), ('1101001', 5), ('1001101', 5), ('1001011', 6), ('1101011', 6), ('1001111', 4), ('1101101', 5), ('1101111', 4), ('1010001', 5), ('1110001', 3), ('1011001', 5), ('1010011', 6), ('1110011', 4), ('1011011', 6), ('1010101', 7), ('1110101', 5), ('1011101', 5), ('1010111', 6), ('1110111', 4), ('1011111', 4), ('1111001', 3), ('1111011', 4), ('1111101', 3), ('1111111', 2)]\n",
            "None\n"
          ],
          "name": "stdout"
        }
      ]
    }
  ]
}